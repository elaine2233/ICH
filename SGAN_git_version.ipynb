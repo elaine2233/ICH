{
  "nbformat": 4,
  "nbformat_minor": 0,
  "metadata": {
    "accelerator": "GPU",
    "colab": {
      "name": "SGAN git version.ipynb",
      "provenance": [],
      "collapsed_sections": [],
      "toc_visible": true,
      "include_colab_link": true
    },
    "kernelspec": {
      "display_name": "Python 3",
      "name": "python3"
    },
    "language_info": {
      "name": "python"
    }
  },
  "cells": [
    {
      "cell_type": "markdown",
      "metadata": {
        "id": "view-in-github",
        "colab_type": "text"
      },
      "source": [
        "<a href=\"https://colab.research.google.com/github/elaine2233/ICH/blob/main/SGAN_git_version.ipynb\" target=\"_parent\"><img src=\"https://colab.research.google.com/assets/colab-badge.svg\" alt=\"Open In Colab\"/></a>"
      ]
    },
    {
      "cell_type": "markdown",
      "metadata": {
        "id": "xwVgqDKHzdQ7"
      },
      "source": [
        "# Libraries"
      ]
    },
    {
      "cell_type": "code",
      "metadata": {
        "id": "hR0MEJv3Eqnk"
      },
      "source": [
        "import random\n",
        "random.seed(12345)"
      ],
      "execution_count": null,
      "outputs": []
    },
    {
      "cell_type": "code",
      "metadata": {
        "colab": {
          "base_uri": "https://localhost:8080/"
        },
        "id": "HZbh6oJGTeZ_",
        "outputId": "38d39a53-b240-4744-d944-6d456d283c47"
      },
      "source": [
        "#librarys\n",
        "!pip install dicom\n",
        "# !pip install tensorflow==1.14.0 \n",
        "import dicom\n",
        "from tensorflow.keras.models import Sequential\n",
        "from tensorflow.keras.layers import BatchNormalization\n",
        "from tensorflow.keras.layers import Conv2DTranspose\n",
        "from tensorflow.keras.layers import Conv2D\n",
        "from tensorflow.keras.layers import LeakyReLU\n",
        "from tensorflow.keras.layers import Activation\n",
        "from tensorflow.keras.layers import Flatten\n",
        "from tensorflow.keras.layers import Dense\n",
        "from tensorflow.keras.layers import Reshape\n",
        "from tensorflow.keras.models import Model\n",
        "from tensorflow.keras.layers import Input\n",
        "from tensorflow.keras.optimizers import Adam\n",
        "from tensorflow.keras.datasets import cifar10,mnist\n",
        "import numpy as np\n",
        "import argparse\n",
        "import cv2\n",
        "import os\n",
        "from tensorflow.keras import layers # just randommmmm\n",
        "import matplotlib.pyplot as plt"
      ],
      "execution_count": null,
      "outputs": [
        {
          "output_type": "stream",
          "text": [
            "Collecting dicom\n",
            "  Downloading dicom-0.9.9.post1-py3-none-any.whl (766 kB)\n",
            "\u001b[?25l\r\u001b[K     |▍                               | 10 kB 20.9 MB/s eta 0:00:01\r\u001b[K     |▉                               | 20 kB 25.2 MB/s eta 0:00:01\r\u001b[K     |█▎                              | 30 kB 28.2 MB/s eta 0:00:01\r\u001b[K     |█▊                              | 40 kB 30.7 MB/s eta 0:00:01\r\u001b[K     |██▏                             | 51 kB 33.7 MB/s eta 0:00:01\r\u001b[K     |██▋                             | 61 kB 28.7 MB/s eta 0:00:01\r\u001b[K     |███                             | 71 kB 28.1 MB/s eta 0:00:01\r\u001b[K     |███▍                            | 81 kB 28.8 MB/s eta 0:00:01\r\u001b[K     |███▉                            | 92 kB 30.3 MB/s eta 0:00:01\r\u001b[K     |████▎                           | 102 kB 31.1 MB/s eta 0:00:01\r\u001b[K     |████▊                           | 112 kB 31.1 MB/s eta 0:00:01\r\u001b[K     |█████▏                          | 122 kB 31.1 MB/s eta 0:00:01\r\u001b[K     |█████▋                          | 133 kB 31.1 MB/s eta 0:00:01\r\u001b[K     |██████                          | 143 kB 31.1 MB/s eta 0:00:01\r\u001b[K     |██████▍                         | 153 kB 31.1 MB/s eta 0:00:01\r\u001b[K     |██████▉                         | 163 kB 31.1 MB/s eta 0:00:01\r\u001b[K     |███████▎                        | 174 kB 31.1 MB/s eta 0:00:01\r\u001b[K     |███████▊                        | 184 kB 31.1 MB/s eta 0:00:01\r\u001b[K     |████████▏                       | 194 kB 31.1 MB/s eta 0:00:01\r\u001b[K     |████████▌                       | 204 kB 31.1 MB/s eta 0:00:01\r\u001b[K     |█████████                       | 215 kB 31.1 MB/s eta 0:00:01\r\u001b[K     |█████████▍                      | 225 kB 31.1 MB/s eta 0:00:01\r\u001b[K     |█████████▉                      | 235 kB 31.1 MB/s eta 0:00:01\r\u001b[K     |██████████▎                     | 245 kB 31.1 MB/s eta 0:00:01\r\u001b[K     |██████████▊                     | 256 kB 31.1 MB/s eta 0:00:01\r\u001b[K     |███████████▏                    | 266 kB 31.1 MB/s eta 0:00:01\r\u001b[K     |███████████▌                    | 276 kB 31.1 MB/s eta 0:00:01\r\u001b[K     |████████████                    | 286 kB 31.1 MB/s eta 0:00:01\r\u001b[K     |████████████▍                   | 296 kB 31.1 MB/s eta 0:00:01\r\u001b[K     |████████████▉                   | 307 kB 31.1 MB/s eta 0:00:01\r\u001b[K     |█████████████▎                  | 317 kB 31.1 MB/s eta 0:00:01\r\u001b[K     |█████████████▊                  | 327 kB 31.1 MB/s eta 0:00:01\r\u001b[K     |██████████████                  | 337 kB 31.1 MB/s eta 0:00:01\r\u001b[K     |██████████████▌                 | 348 kB 31.1 MB/s eta 0:00:01\r\u001b[K     |███████████████                 | 358 kB 31.1 MB/s eta 0:00:01\r\u001b[K     |███████████████▍                | 368 kB 31.1 MB/s eta 0:00:01\r\u001b[K     |███████████████▉                | 378 kB 31.1 MB/s eta 0:00:01\r\u001b[K     |████████████████▎               | 389 kB 31.1 MB/s eta 0:00:01\r\u001b[K     |████████████████▊               | 399 kB 31.1 MB/s eta 0:00:01\r\u001b[K     |█████████████████               | 409 kB 31.1 MB/s eta 0:00:01\r\u001b[K     |█████████████████▌              | 419 kB 31.1 MB/s eta 0:00:01\r\u001b[K     |██████████████████              | 430 kB 31.1 MB/s eta 0:00:01\r\u001b[K     |██████████████████▍             | 440 kB 31.1 MB/s eta 0:00:01\r\u001b[K     |██████████████████▉             | 450 kB 31.1 MB/s eta 0:00:01\r\u001b[K     |███████████████████▎            | 460 kB 31.1 MB/s eta 0:00:01\r\u001b[K     |███████████████████▊            | 471 kB 31.1 MB/s eta 0:00:01\r\u001b[K     |████████████████████            | 481 kB 31.1 MB/s eta 0:00:01\r\u001b[K     |████████████████████▌           | 491 kB 31.1 MB/s eta 0:00:01\r\u001b[K     |█████████████████████           | 501 kB 31.1 MB/s eta 0:00:01\r\u001b[K     |█████████████████████▍          | 512 kB 31.1 MB/s eta 0:00:01\r\u001b[K     |█████████████████████▉          | 522 kB 31.1 MB/s eta 0:00:01\r\u001b[K     |██████████████████████▎         | 532 kB 31.1 MB/s eta 0:00:01\r\u001b[K     |██████████████████████▋         | 542 kB 31.1 MB/s eta 0:00:01\r\u001b[K     |███████████████████████         | 552 kB 31.1 MB/s eta 0:00:01\r\u001b[K     |███████████████████████▌        | 563 kB 31.1 MB/s eta 0:00:01\r\u001b[K     |████████████████████████        | 573 kB 31.1 MB/s eta 0:00:01\r\u001b[K     |████████████████████████▍       | 583 kB 31.1 MB/s eta 0:00:01\r\u001b[K     |████████████████████████▉       | 593 kB 31.1 MB/s eta 0:00:01\r\u001b[K     |█████████████████████████▎      | 604 kB 31.1 MB/s eta 0:00:01\r\u001b[K     |█████████████████████████▋      | 614 kB 31.1 MB/s eta 0:00:01\r\u001b[K     |██████████████████████████      | 624 kB 31.1 MB/s eta 0:00:01\r\u001b[K     |██████████████████████████▌     | 634 kB 31.1 MB/s eta 0:00:01\r\u001b[K     |███████████████████████████     | 645 kB 31.1 MB/s eta 0:00:01\r\u001b[K     |███████████████████████████▍    | 655 kB 31.1 MB/s eta 0:00:01\r\u001b[K     |███████████████████████████▉    | 665 kB 31.1 MB/s eta 0:00:01\r\u001b[K     |████████████████████████████▏   | 675 kB 31.1 MB/s eta 0:00:01\r\u001b[K     |████████████████████████████▋   | 686 kB 31.1 MB/s eta 0:00:01\r\u001b[K     |█████████████████████████████   | 696 kB 31.1 MB/s eta 0:00:01\r\u001b[K     |█████████████████████████████▌  | 706 kB 31.1 MB/s eta 0:00:01\r\u001b[K     |██████████████████████████████  | 716 kB 31.1 MB/s eta 0:00:01\r\u001b[K     |██████████████████████████████▍ | 727 kB 31.1 MB/s eta 0:00:01\r\u001b[K     |██████████████████████████████▉ | 737 kB 31.1 MB/s eta 0:00:01\r\u001b[K     |███████████████████████████████▏| 747 kB 31.1 MB/s eta 0:00:01\r\u001b[K     |███████████████████████████████▋| 757 kB 31.1 MB/s eta 0:00:01\r\u001b[K     |████████████████████████████████| 766 kB 31.1 MB/s \n",
            "\u001b[?25hInstalling collected packages: dicom\n",
            "Successfully installed dicom-0.9.9.post1\n"
          ],
          "name": "stdout"
        },
        {
          "output_type": "stream",
          "text": [
            "/usr/local/lib/python3.7/dist-packages/dicom/__init__.py:53: UserWarning: \n",
            "This code is using an older version of pydicom, which is no longer \n",
            "maintained as of Jan 2017.  You can access the new pydicom features and API \n",
            "by installing `pydicom` from PyPI.\n",
            "See 'Transitioning to pydicom 1.x' section at pydicom.readthedocs.org \n",
            "for more information.\n",
            "\n",
            "  warnings.warn(msg)\n"
          ],
          "name": "stderr"
        }
      ]
    },
    {
      "cell_type": "markdown",
      "metadata": {
        "id": "CvWek0tmL5Fk"
      },
      "source": [
        "# Connect to google drive and google cloud"
      ]
    },
    {
      "cell_type": "markdown",
      "metadata": {
        "id": "Qr-Bm4b-PtCo"
      },
      "source": [
        "## connect to google drive"
      ]
    },
    {
      "cell_type": "code",
      "metadata": {
        "colab": {
          "base_uri": "https://localhost:8080/"
        },
        "id": "zA_SoiU1x0it",
        "outputId": "3bb49002-fca5-4cbf-f9c4-de68cde50ee4"
      },
      "source": [
        "# connect to google drive\n",
        "from google.colab import drive\n",
        "drive.mount('/content/drive')"
      ],
      "execution_count": null,
      "outputs": [
        {
          "output_type": "stream",
          "text": [
            "Mounted at /content/drive\n"
          ],
          "name": "stdout"
        }
      ]
    },
    {
      "cell_type": "code",
      "metadata": {
        "colab": {
          "base_uri": "https://localhost:8080/",
          "height": 203
        },
        "id": "hRusTsVhyIst",
        "outputId": "4d97f76d-dee1-49e4-f4a2-1179d9d98292"
      },
      "source": [
        "# extract type y\n",
        "import pandas as pd\n",
        "# typey0 = pd.read_csv('/content/drive/MyDrive/CHL7001/GroupProject/Data/train/stage2train_wide_unique2.csv')\n",
        "typey0 = pd.read_csv('/content/drive/MyDrive/CHL7001/GroupProject/Data/train/stage2train_wide_posneg.csv')\n",
        "typey0['ID'] = 'ID_' + typey0['ID2'].astype(str)\n",
        "typey0['IDpng'] = typey0['ID'].astype(str) + '.png'\n",
        "typey0 = typey0[typey0.ID != 'ID_6431af929']\n",
        "typey0[:5]"
      ],
      "execution_count": null,
      "outputs": [
        {
          "output_type": "execute_result",
          "data": {
            "text/html": [
              "<div>\n",
              "<style scoped>\n",
              "    .dataframe tbody tr th:only-of-type {\n",
              "        vertical-align: middle;\n",
              "    }\n",
              "\n",
              "    .dataframe tbody tr th {\n",
              "        vertical-align: top;\n",
              "    }\n",
              "\n",
              "    .dataframe thead th {\n",
              "        text-align: right;\n",
              "    }\n",
              "</style>\n",
              "<table border=\"1\" class=\"dataframe\">\n",
              "  <thead>\n",
              "    <tr style=\"text-align: right;\">\n",
              "      <th></th>\n",
              "      <th>Unnamed: 0</th>\n",
              "      <th>ID2</th>\n",
              "      <th>any</th>\n",
              "      <th>ID</th>\n",
              "      <th>IDpng</th>\n",
              "    </tr>\n",
              "  </thead>\n",
              "  <tbody>\n",
              "    <tr>\n",
              "      <th>0</th>\n",
              "      <td>1</td>\n",
              "      <td>000012eaf</td>\n",
              "      <td>0</td>\n",
              "      <td>ID_000012eaf</td>\n",
              "      <td>ID_000012eaf.png</td>\n",
              "    </tr>\n",
              "    <tr>\n",
              "      <th>1</th>\n",
              "      <td>2</td>\n",
              "      <td>000039fa0</td>\n",
              "      <td>0</td>\n",
              "      <td>ID_000039fa0</td>\n",
              "      <td>ID_000039fa0.png</td>\n",
              "    </tr>\n",
              "    <tr>\n",
              "      <th>2</th>\n",
              "      <td>3</td>\n",
              "      <td>00005679d</td>\n",
              "      <td>0</td>\n",
              "      <td>ID_00005679d</td>\n",
              "      <td>ID_00005679d.png</td>\n",
              "    </tr>\n",
              "    <tr>\n",
              "      <th>3</th>\n",
              "      <td>4</td>\n",
              "      <td>00008ce3c</td>\n",
              "      <td>0</td>\n",
              "      <td>ID_00008ce3c</td>\n",
              "      <td>ID_00008ce3c.png</td>\n",
              "    </tr>\n",
              "    <tr>\n",
              "      <th>4</th>\n",
              "      <td>5</td>\n",
              "      <td>0000950d7</td>\n",
              "      <td>0</td>\n",
              "      <td>ID_0000950d7</td>\n",
              "      <td>ID_0000950d7.png</td>\n",
              "    </tr>\n",
              "  </tbody>\n",
              "</table>\n",
              "</div>"
            ],
            "text/plain": [
              "   Unnamed: 0        ID2  any            ID             IDpng\n",
              "0           1  000012eaf    0  ID_000012eaf  ID_000012eaf.png\n",
              "1           2  000039fa0    0  ID_000039fa0  ID_000039fa0.png\n",
              "2           3  00005679d    0  ID_00005679d  ID_00005679d.png\n",
              "3           4  00008ce3c    0  ID_00008ce3c  ID_00008ce3c.png\n",
              "4           5  0000950d7    0  ID_0000950d7  ID_0000950d7.png"
            ]
          },
          "metadata": {
            "tags": []
          },
          "execution_count": 5
        }
      ]
    },
    {
      "cell_type": "code",
      "metadata": {
        "colab": {
          "base_uri": "https://localhost:8080/"
        },
        "id": "f4Snlr9sXscp",
        "outputId": "df7b7725-6bbb-40de-ed06-56c4eb2a0dae"
      },
      "source": [
        "# Patient ID\n",
        "import pandas as pd\n",
        "pid = pd.read_csv('/content/drive/MyDrive/CHL7001/GroupProject/Data/train/stage_2_train_with_metadata.csv')\n",
        "typey = pd.merge(typey0,pid,on='ID',how='left')\n",
        "typey = typey.sort_values('PatientID')\n",
        "typey[:5]\n",
        "\n",
        "#calculate patient level sum\n",
        "UnqPID = pd.DataFrame({'Sum_img':pid.groupby(['PatientID']).size()}).reset_index()\n",
        "np.random.seed(111111)\n",
        "UnqPID = UnqPID.sample(frac=1)\n",
        "UnqPID['Cum_sum'] = UnqPID['Sum_img'].cumsum()\n",
        "UnqPID[:5],typey[:5]"
      ],
      "execution_count": null,
      "outputs": [
        {
          "output_type": "execute_result",
          "data": {
            "text/plain": [
              "(         PatientID  Sum_img  Cum_sum\n",
              " 4725   ID_3faf02aa       32       32\n",
              " 14762  ID_c760b47b       32       64\n",
              " 8564   ID_73637515       34       98\n",
              " 11733  ID_9d84a9b3       48      146\n",
              " 4012   ID_357d6d92       32      178,\n",
              "         Unnamed: 0        ID2  any            ID             IDpng    PatientID\n",
              " 108780      108781  24f7cfc41    0  ID_24f7cfc41  ID_24f7cfc41.png  ID_0002cd41\n",
              " 3397          3398  012b0d238    0  ID_012b0d238  ID_012b0d238.png  ID_0002cd41\n",
              " 86943        86944  1d88058ff    0  ID_1d88058ff  ID_1d88058ff.png  ID_0002cd41\n",
              " 689375      689377  ea722c4e5    0  ID_ea722c4e5  ID_ea722c4e5.png  ID_0002cd41\n",
              " 81401        81402  1b9de2922    0  ID_1b9de2922  ID_1b9de2922.png  ID_0002cd41)"
            ]
          },
          "metadata": {
            "tags": []
          },
          "execution_count": 6
        }
      ]
    },
    {
      "cell_type": "markdown",
      "metadata": {
        "id": "Azr7Ll1tPhlS"
      },
      "source": [
        "## connect to google cloud"
      ]
    },
    {
      "cell_type": "code",
      "metadata": {
        "id": "0JqugInfFWe2"
      },
      "source": [
        "# connect to google cloud\n",
        "from google.colab import auth\n",
        "auth.authenticate_user()"
      ],
      "execution_count": null,
      "outputs": []
    },
    {
      "cell_type": "code",
      "metadata": {
        "id": "jYVqJAkBFcvR"
      },
      "source": [
        "!curl https://sdk.cloud.google.com | bash"
      ],
      "execution_count": null,
      "outputs": []
    },
    {
      "cell_type": "code",
      "metadata": {
        "id": "6gexBesjFd1l"
      },
      "source": [
        "!gcloud init"
      ],
      "execution_count": null,
      "outputs": []
    },
    {
      "cell_type": "markdown",
      "metadata": {
        "id": "RVAzQSSrP0iu"
      },
      "source": [
        "# Extract Data"
      ]
    },
    {
      "cell_type": "code",
      "metadata": {
        "colab": {
          "base_uri": "https://localhost:8080/"
        },
        "id": "hNyKQqbxFiI1",
        "outputId": "0f5e567f-e79a-4efa-ff0f-b546168046c8"
      },
      "source": [
        "#100 sample\n",
        "# !gsutil cp gs://chl7001gp_bucket_png_128/imgs.zip . \n",
        "\n",
        "#full data\n",
        "!gsutil cp gs://chl7001gp_bucket_png_128/image_png.zip . "
      ],
      "execution_count": null,
      "outputs": [
        {
          "output_type": "stream",
          "text": [
            "Copying gs://chl7001gp_bucket_png_128/image_png.zip...\n",
            "- [1 files][  3.3 GiB/  3.3 GiB]   50.9 MiB/s                                   \n",
            "Operation completed over 1 objects/3.3 GiB.                                      \n"
          ],
          "name": "stdout"
        }
      ]
    },
    {
      "cell_type": "code",
      "metadata": {
        "id": "h_lPTF3nGzoK"
      },
      "source": [
        "#unzip the first 100 images\n",
        "# !unzip /content/imgs.zip"
      ],
      "execution_count": null,
      "outputs": []
    },
    {
      "cell_type": "code",
      "metadata": {
        "id": "AQxeBavyL1V1"
      },
      "source": [
        "#unzip full data\n",
        "!unzip /content/image_png.zip"
      ],
      "execution_count": null,
      "outputs": []
    },
    {
      "cell_type": "code",
      "metadata": {
        "id": "GO_GOH1u7aJj"
      },
      "source": [
        "# retrain for all data\n",
        "datapath = '/content/kaggle/working/output/stage_2_train'"
      ],
      "execution_count": null,
      "outputs": []
    },
    {
      "cell_type": "code",
      "metadata": {
        "id": "UjNwEjSM74SK"
      },
      "source": [
        "import math\n",
        "def roundup(x):\n",
        "  return int(math.ceil(x / 100.0)) * 100"
      ],
      "execution_count": null,
      "outputs": []
    },
    {
      "cell_type": "code",
      "metadata": {
        "colab": {
          "base_uri": "https://localhost:8080/"
        },
        "id": "TyJM3MgGSdSS",
        "outputId": "cace7c36-9a1f-4e5e-ac98-60e38646a9e4"
      },
      "source": [
        "for image in  os.listdir(datapath):\n",
        "  # path = os.path.join('/content/data',image)\n",
        "  print(image)\n",
        "  break"
      ],
      "execution_count": null,
      "outputs": [
        {
          "output_type": "stream",
          "text": [
            "ID_270a84bf1.png\n"
          ],
          "name": "stdout"
        }
      ]
    },
    {
      "cell_type": "markdown",
      "metadata": {
        "id": "AJ8hlkIfI2Id"
      },
      "source": [
        "# View Plots"
      ]
    },
    {
      "cell_type": "code",
      "metadata": {
        "colab": {
          "base_uri": "https://localhost:8080/",
          "height": 145
        },
        "id": "bUffVTj9IYky",
        "outputId": "7ae32979-8cee-4edd-91e1-ff021bfe02a5"
      },
      "source": [
        "#view plots in tensorflow\n",
        "import tensorflow as tf\n",
        "img = tf.keras.preprocessing.image.load_img(\"/content/kaggle/working/output/stage_2_train/ID_023f03565.png\")\n",
        "img"
      ],
      "execution_count": null,
      "outputs": [
        {
          "output_type": "execute_result",
          "data": {
            "image/png": "[encoded data removed]",
            "text/plain": [
              "<PIL.Image.Image image mode=RGB size=128x128 at 0x7FB569AC25D0>"
            ]
          },
          "metadata": {
            "tags": []
          },
          "execution_count": 13
        }
      ]
    },
    {
      "cell_type": "code",
      "metadata": {
        "colab": {
          "base_uri": "https://localhost:8080/",
          "height": 285
        },
        "id": "BzYV5gsuUm2s",
        "outputId": "c759a285-e3fa-4c58-bcb2-08e5c91e25e8"
      },
      "source": [
        "plt.imshow(img)"
      ],
      "execution_count": null,
      "outputs": [
        {
          "output_type": "execute_result",
          "data": {
            "text/plain": [
              "<matplotlib.image.AxesImage at 0x7fb568921c90>"
            ]
          },
          "metadata": {
            "tags": []
          },
          "execution_count": 14
        },
        {
          "output_type": "display_data",
          "data": {
            "image/png": "[encoded data removed]",
            "text/plain": [
              "<Figure size 432x288 with 1 Axes>"
            ]
          },
          "metadata": {
            "tags": []
          }
        }
      ]
    },
    {
      "cell_type": "code",
      "metadata": {
        "colab": {
          "base_uri": "https://localhost:8080/",
          "height": 285
        },
        "id": "Pg2p_s2KcR3X",
        "outputId": "93963d2c-a1a1-4ef2-a694-fb83a3ea68fd"
      },
      "source": [
        "# plt.imshow(trainX[3])\n",
        "# plt.imshow(testX[3])"
      ],
      "execution_count": null,
      "outputs": [
        {
          "output_type": "execute_result",
          "data": {
            "text/plain": [
              "<matplotlib.image.AxesImage at 0x7f085a3b1c10>"
            ]
          },
          "metadata": {
            "tags": []
          },
          "execution_count": 46
        },
        {
          "output_type": "display_data",
          "data": {
            "image/png": "[encoded data removed]",
            "text/plain": [
              "<Figure size 432x288 with 1 Axes>"
            ]
          },
          "metadata": {
            "tags": []
          }
        }
      ]
    },
    {
      "cell_type": "markdown",
      "metadata": {
        "id": "BtCtNyfuv5iU"
      },
      "source": [
        "# Image preparation"
      ]
    },
    {
      "cell_type": "code",
      "metadata": {
        "colab": {
          "base_uri": "https://localhost:8080/"
        },
        "id": "4dnOTy9lX-Ks",
        "outputId": "536392f2-42c2-4a19-df8f-6cbea32c45e7"
      },
      "source": [
        "datapath = '/content/kaggle/working/output/stage_2_train'\n",
        "\n",
        "\n",
        "#check length of image\n",
        "imglist = os.listdir(datapath) # dir is your directory path\n",
        "number_files = len(imglist)\n",
        "print(number_files)"
      ],
      "execution_count": null,
      "outputs": [
        {
          "output_type": "stream",
          "text": [
            "752802\n"
          ],
          "name": "stdout"
        }
      ]
    },
    {
      "cell_type": "code",
      "metadata": {
        "colab": {
          "base_uri": "https://localhost:8080/"
        },
        "id": "yhSQJA9hmdld",
        "outputId": "b5eeed8c-3dd4-4857-9359-34b3689eae09"
      },
      "source": [
        "number_y = typey.shape[0]\n",
        "print(number_y)"
      ],
      "execution_count": null,
      "outputs": [
        {
          "output_type": "stream",
          "text": [
            "752802\n"
          ],
          "name": "stdout"
        }
      ]
    },
    {
      "cell_type": "code",
      "metadata": {
        "colab": {
          "base_uri": "https://localhost:8080/"
        },
        "id": "xfNxOORFlzVy",
        "outputId": "d574a50b-aae2-439e-9ef4-aae36d089204"
      },
      "source": [
        "import math\n",
        "number_y = 720728\n",
        "ntrain0 = math.ceil(number_y*0.7)\n",
        "\n",
        "# nsuptrain = roundup(number_y*0.7*0.1)\n",
        "\n",
        "#select every thing till 70%\n",
        "trainPID = UnqPID[UnqPID['Cum_sum']<ntrain0]['PatientID'].tolist()\n",
        "\n",
        "trainy_name = typey[typey['PatientID'].isin(trainPID)]['ID']\n",
        "testy_name = typey[-typey['PatientID'].isin(trainPID)]['ID']\n",
        "\n",
        "# trainy = typey[typey['PatientID'].isin(trainPID)]['category2'].tolist()\n",
        "# testy = typey[-typey['PatientID'].isin(trainPID)]['category2'].tolist()\n",
        "trainy = typey[typey['PatientID'].isin(trainPID)]['any'].tolist()\n",
        "testy = typey[-typey['PatientID'].isin(trainPID)]['any'].tolist()\n",
        "trainy = np.array(trainy)\n",
        "testy = np.array(testy)\n",
        "\n",
        "ntrain = trainy_name.shape[0]\n",
        "nsuptrain = math.ceil(ntrain*0.1)\n",
        "ntest = testy_name.shape[0]\n",
        "\n",
        "print(ntrain,ntest, nsuptrain, len(trainy_name),len(testy_name), trainy.shape,testy.shape)"
      ],
      "execution_count": null,
      "outputs": [
        {
          "output_type": "stream",
          "text": [
            "504446 248356 50445 504446 248356 (504446,) (248356,)\n"
          ],
          "name": "stdout"
        }
      ]
    },
    {
      "cell_type": "code",
      "metadata": {
        "colab": {
          "base_uri": "https://localhost:8080/"
        },
        "id": "ceuEYBv0rucb",
        "outputId": "da62c449-925a-47de-d202-f0b6c0c51165"
      },
      "source": [
        "trainy_name[trainy_name == 'ID_6431af929'],testy_name[testy_name == 'ID_6431af929']"
      ],
      "execution_count": null,
      "outputs": [
        {
          "output_type": "execute_result",
          "data": {
            "text/plain": [
              "(Series([], Name: ID, dtype: object), Series([], Name: ID, dtype: object))"
            ]
          },
          "metadata": {
            "tags": []
          },
          "execution_count": 18
        }
      ]
    },
    {
      "cell_type": "code",
      "metadata": {
        "colab": {
          "base_uri": "https://localhost:8080/"
        },
        "id": "B1wG5dHaWjv8",
        "outputId": "1b869c3c-23db-43d6-f89b-ee62bcd57671"
      },
      "source": [
        "#check if patient in train is in test\n",
        "trainuqpid = typey[typey['PatientID'].isin(trainPID)]['PatientID'].unique()\n",
        "testuqpid = typey[-typey['PatientID'].isin(trainPID)]['PatientID'].unique()\n",
        "\n",
        "np.intersect1d(trainuqpid,testuqpid)"
      ],
      "execution_count": null,
      "outputs": [
        {
          "output_type": "execute_result",
          "data": {
            "text/plain": [
              "array([], dtype=object)"
            ]
          },
          "metadata": {
            "tags": []
          },
          "execution_count": 19
        }
      ]
    },
    {
      "cell_type": "code",
      "metadata": {
        "id": "VDsSXtbBmniy"
      },
      "source": [
        "#convert from RBG to grey (because rgb has 3 dimension (the third dimension is color) but this model only have two)\n",
        "def grayConversion(image):\n",
        "    grayValue = 0.07 * image[:,:,2] + 0.72 * image[:,:,1] + 0.21 * image[:,:,0]\n",
        "    gray_img = grayValue.astype(np.uint8)\n",
        "    return gray_img"
      ],
      "execution_count": null,
      "outputs": []
    },
    {
      "cell_type": "code",
      "metadata": {
        "id": "CbjXNNQejTOa"
      },
      "source": [
        "def split_list(a_list, num_to_split):\n",
        "    prop = num_to_split\n",
        "    return a_list[:prop], a_list[prop:]\n"
      ],
      "execution_count": null,
      "outputs": []
    },
    {
      "cell_type": "code",
      "metadata": {
        "colab": {
          "base_uri": "https://localhost:8080/"
        },
        "id": "n1reSnWVyJX0",
        "outputId": "75a322ee-d876-41a5-bc6e-1127035f3b3d"
      },
      "source": [
        "typey = typey[typey['IDpng'].isin(imglist)]\n",
        "typey.shape"
      ],
      "execution_count": null,
      "outputs": [
        {
          "output_type": "execute_result",
          "data": {
            "text/plain": [
              "(752802, 6)"
            ]
          },
          "metadata": {
            "tags": []
          },
          "execution_count": 21
        }
      ]
    },
    {
      "cell_type": "code",
      "metadata": {
        "colab": {
          "base_uri": "https://localhost:8080/"
        },
        "id": "EJbZ1hxu5JL6",
        "outputId": "8b630bc5-b36d-4c6d-81eb-909cb6705500"
      },
      "source": [
        "#first 10000 data\n",
        "# partn = 10000\n",
        "# trainy_name = trainy_name[:partn]\n",
        "# trainy = trainy[:partn]\n",
        "# number_y = len(trainy_name)\n",
        "# ntrain = roundup(number_y*0.7)\n",
        "# nsuptrain = roundup(number_y*0.7*0.1)\n",
        "# len(trainy_name),trainy.shape,ntrain,nsuptrain"
      ],
      "execution_count": null,
      "outputs": [
        {
          "output_type": "execute_result",
          "data": {
            "text/plain": [
              "(10000, (10000,), 7000, 700)"
            ]
          },
          "metadata": {
            "tags": []
          },
          "execution_count": 22
        }
      ]
    },
    {
      "cell_type": "code",
      "metadata": {
        "colab": {
          "base_uri": "https://localhost:8080/"
        },
        "id": "g9chyZGZ5V6F",
        "outputId": "13422e69-ddf7-4d9a-9e09-33dd9336062c"
      },
      "source": [
        "len(trainy_name),trainy.shape"
      ],
      "execution_count": null,
      "outputs": [
        {
          "output_type": "execute_result",
          "data": {
            "text/plain": [
              "(10000, (10000,))"
            ]
          },
          "metadata": {
            "tags": []
          },
          "execution_count": 61
        }
      ]
    },
    {
      "cell_type": "code",
      "metadata": {
        "colab": {
          "base_uri": "https://localhost:8080/"
        },
        "id": "6AS2nf1iqmGq",
        "outputId": "cc1afa09-4cf9-47a5-bbd9-0d8bb0131513"
      },
      "source": [
        "trainy_name[:5]"
      ],
      "execution_count": null,
      "outputs": [
        {
          "output_type": "execute_result",
          "data": {
            "text/plain": [
              "117763    ID_29c8b92d1\n",
              "636102    ID_e1d7ed00c\n",
              "239940    ID_550ee1307\n",
              "622327    ID_dcdfc67c3\n",
              "706148    ID_fac810a40\n",
              "Name: ID, dtype: object"
            ]
          },
          "metadata": {
            "tags": []
          },
          "execution_count": 27
        }
      ]
    },
    {
      "cell_type": "code",
      "metadata": {
        "colab": {
          "base_uri": "https://localhost:8080/"
        },
        "id": "v_cH7Xl6nkbF",
        "outputId": "bbc36851-d9b3-4da0-c39f-0d38477baadd"
      },
      "source": [
        "#summary of trainy and testy\n",
        "from collections import Counter\n",
        "Counter(trainy),Counter(testy)"
      ],
      "execution_count": null,
      "outputs": [
        {
          "output_type": "execute_result",
          "data": {
            "text/plain": [
              "(Counter({0: 432334, 1: 72112}), Counter({0: 212535, 1: 35821}))"
            ]
          },
          "metadata": {
            "tags": []
          },
          "execution_count": 22
        }
      ]
    },
    {
      "cell_type": "code",
      "metadata": {
        "colab": {
          "base_uri": "https://localhost:8080/"
        },
        "id": "WbeDRftrsCG5",
        "outputId": "6ad01132-9a41-490d-bb4b-f6ae80311781"
      },
      "source": [
        "\n",
        "# img = cv2.imread(datapath+ '/' + 'ID_6431af929' + '.png')\n",
        "# img is None"
      ],
      "execution_count": null,
      "outputs": [
        {
          "output_type": "execute_result",
          "data": {
            "text/plain": [
              "True"
            ]
          },
          "metadata": {
            "tags": []
          },
          "execution_count": 67
        }
      ]
    },
    {
      "cell_type": "markdown",
      "metadata": {
        "id": "RZn0TZ71rYIV"
      },
      "source": [
        "# Small Example"
      ]
    },
    {
      "cell_type": "code",
      "metadata": {
        "id": "fMLVjEWPo63E"
      },
      "source": [
        "# select real samples\n",
        "def generate_real_samples(datasety, n_samples):\n",
        "  trainy_name, labels = datasety\n",
        "  # choose random instances\n",
        "  ix = randint(0, len(trainy_name), n_samples)\n",
        "\n",
        "  # select images and labels\n",
        "  X = list()\n",
        "  for id in np.array(trainy_name)[ix]:\n",
        "    img = cv2.imread(datapath+ '/' + id + '.png')\n",
        "    img = grayConversion(img)\n",
        "    X.append(img)\n",
        "  \n",
        "  X = np.array(X)\n",
        "  X = expand_dims(X, axis=-1)\n",
        "  # print(X.shape)\n",
        "  # convert from ints to floats\n",
        "  X = X.astype('float32')\n",
        "  # scale from [0,255] to [-1,1]\n",
        "  X = (X - 127.5) / 127.5\n",
        "  print(X.shape)\n",
        "  labels = labels[ix]\n",
        "\n",
        "  # generate class labels\n",
        "  y = ones((n_samples, 1))\n",
        "  # print(X)\n",
        "  return [X, labels], y"
      ],
      "execution_count": null,
      "outputs": []
    },
    {
      "cell_type": "code",
      "metadata": {
        "colab": {
          "base_uri": "https://localhost:8080/"
        },
        "id": "8mxQ_39S_oe_",
        "outputId": "88b82cbb-e86c-4b8d-ca51-7d107649c8eb"
      },
      "source": [
        "datasety = trainy_name, trainy \n",
        "[X, labels], y = generate_real_samples(datasety,50)\n",
        "print(X.shape,labels.shape,y.shape)"
      ],
      "execution_count": null,
      "outputs": [
        {
          "output_type": "stream",
          "text": [
            "(50, 128, 128, 1)\n",
            "(50, 128, 128, 1) (50,) (50, 1)\n"
          ],
          "name": "stdout"
        }
      ]
    },
    {
      "cell_type": "code",
      "metadata": {
        "id": "ySNKsQpq0aaQ"
      },
      "source": [
        "labels[:50]"
      ],
      "execution_count": null,
      "outputs": []
    },
    {
      "cell_type": "code",
      "metadata": {
        "colab": {
          "base_uri": "https://localhost:8080/"
        },
        "id": "0T5C6U-GszUY",
        "outputId": "08bf3363-c22b-455d-cbe9-a7c54a833615"
      },
      "source": [
        "import tensorflow as tf\n",
        "from tensorflow import keras\n",
        "from tensorflow.keras import layers\n",
        "from tensorflow.keras.models import Sequential\n",
        "from tensorflow.keras.layers import Dense\n",
        "import numpy as np \n",
        "\n",
        "\n",
        "\n",
        "model = tf.keras.Sequential()\n",
        "model.add(tf.keras.layers.Conv2D(64, (3,3), strides=(1,1), activation='relu',input_shape=(128, 128, 1)))\n",
        "model.add(tf.keras.layers.Flatten())\n",
        "model.add(tf.keras.layers.Dropout(0.25))\n",
        "model.add(tf.keras.layers.Dense(1, activation='softmax'))\n",
        "\n",
        "model.compile(optimizer='adam',loss='binary_crossentropy')\n",
        "\n",
        "model.summary()\n"
      ],
      "execution_count": null,
      "outputs": [
        {
          "output_type": "stream",
          "text": [
            "Model: \"sequential_24\"\n",
            "_________________________________________________________________\n",
            "Layer (type)                 Output Shape              Param #   \n",
            "=================================================================\n",
            "conv2d_14 (Conv2D)           (None, 126, 126, 64)      640       \n",
            "_________________________________________________________________\n",
            "flatten_5 (Flatten)          (None, 1016064)           0         \n",
            "_________________________________________________________________\n",
            "dropout_3 (Dropout)          (None, 1016064)           0         \n",
            "_________________________________________________________________\n",
            "dense_30 (Dense)             (None, 1)                 1016065   \n",
            "=================================================================\n",
            "Total params: 1,016,705\n",
            "Trainable params: 1,016,705\n",
            "Non-trainable params: 0\n",
            "_________________________________________________________________\n"
          ],
          "name": "stdout"
        }
      ]
    },
    {
      "cell_type": "code",
      "metadata": {
        "id": "C7mN7ICe68VM"
      },
      "source": [
        "plot_model(model, to_file='model.png', show_shapes=True, show_layer_names=True)"
      ],
      "execution_count": null,
      "outputs": []
    },
    {
      "cell_type": "code",
      "metadata": {
        "colab": {
          "base_uri": "https://localhost:8080/"
        },
        "id": "ofgND8Yiy_He",
        "outputId": "fd8bcf68-6d1e-4630-e3cd-cd692f2ad405"
      },
      "source": [
        "model.fit(X,labels,batch_size=50, epochs=10)  "
      ],
      "execution_count": null,
      "outputs": [
        {
          "output_type": "stream",
          "text": [
            "Epoch 1/10\n",
            "1/1 [==============================] - 31s 31s/step - loss: 0.7046\n",
            "Epoch 2/10\n",
            "1/1 [==============================] - 0s 35ms/step - loss: 1.9183\n",
            "Epoch 3/10\n",
            "1/1 [==============================] - 0s 36ms/step - loss: 2.8208\n",
            "Epoch 4/10\n",
            "1/1 [==============================] - 0s 36ms/step - loss: 3.2012\n",
            "Epoch 5/10\n",
            "1/1 [==============================] - 0s 34ms/step - loss: 3.2845\n",
            "Epoch 6/10\n",
            "1/1 [==============================] - 0s 33ms/step - loss: 3.1857\n",
            "Epoch 7/10\n",
            "1/1 [==============================] - 0s 39ms/step - loss: 2.9575\n",
            "Epoch 8/10\n",
            "1/1 [==============================] - 0s 33ms/step - loss: 2.6899\n",
            "Epoch 9/10\n",
            "1/1 [==============================] - 0s 34ms/step - loss: 2.3979\n",
            "Epoch 10/10\n",
            "1/1 [==============================] - 0s 33ms/step - loss: 2.0776\n"
          ],
          "name": "stdout"
        },
        {
          "output_type": "execute_result",
          "data": {
            "text/plain": [
              "<tensorflow.python.keras.callbacks.History at 0x7f4e0b9cb490>"
            ]
          },
          "metadata": {
            "tags": []
          },
          "execution_count": 104
        }
      ]
    },
    {
      "cell_type": "code",
      "metadata": {
        "colab": {
          "base_uri": "https://localhost:8080/"
        },
        "id": "Ohoj-zUzlwiT",
        "outputId": "33be92f8-2c97-445e-9abc-c7deb2c59932"
      },
      "source": [
        "# !pip uninstall keras \n",
        "# !pip install keras==2.2.4 \n",
        "# !pip install keras\n",
        "from keras.models import Sequential\n",
        "from keras.layers import Conv2D\n",
        "import tensorflow as tf\n",
        "# inputs = Input(shape=(784,))  \n",
        "model = Sequential()\n",
        "model.add(Conv2D(64, (3,3),strides=(2,2),  padding='same', activation='relu',input_shape=(128, 128, 1)))\n",
        "# model.add(Conv2D(32, (1,1), activation='relu'))\n",
        "# model.add(LeakyReLU(alpha=0.1))\n",
        "model.summary()\n",
        "\n",
        "# model.compile(loss='categorical_crossentropy', optimizer=keras.optimizers.Adam(),metrics=['accuracy'])\n",
        "model.compile(loss='binary_crossentropy', optimizer=Adam(learning_rate=0.0002, beta_1=0.5))\n",
        "\n"
      ],
      "execution_count": null,
      "outputs": [
        {
          "output_type": "stream",
          "text": [
            "Model: \"sequential\"\n",
            "_________________________________________________________________\n",
            "Layer (type)                 Output Shape              Param #   \n",
            "=================================================================\n",
            "conv2d (Conv2D)              (None, 64, 64, 64)        640       \n",
            "=================================================================\n",
            "Total params: 640\n",
            "Trainable params: 640\n",
            "Non-trainable params: 0\n",
            "_________________________________________________________________\n"
          ],
          "name": "stdout"
        }
      ]
    },
    {
      "cell_type": "code",
      "metadata": {
        "colab": {
          "base_uri": "https://localhost:8080/",
          "height": 201
        },
        "id": "Wftv1MND0nEi",
        "outputId": "2e93d02a-2ba2-4c8d-82c9-26ebbe70b8cb"
      },
      "source": [
        "plot_model(model, to_file='model.png', show_shapes=True, show_layer_names=True)"
      ],
      "execution_count": null,
      "outputs": [
        {
          "output_type": "execute_result",
          "data": {
            "image/png": "[encoded data removed]",
            "text/plain": [
              "<IPython.core.display.Image object>"
            ]
          },
          "metadata": {
            "tags": []
          },
          "execution_count": 31
        }
      ]
    },
    {
      "cell_type": "code",
      "metadata": {
        "id": "50uPLaakn-iO"
      },
      "source": [
        "def train(model, datasety, n_epochs=20, n_batch=100):\n",
        "\t# y_sup, yname_sup = datasety\n",
        "  # calculate the number of batches per training epoch\n",
        "  bat_per_epo = int(ntrain / n_batch)\n",
        "\t# calculate the number of training iterations\n",
        "  n_steps = bat_per_epo * n_epochs\n",
        "\t# calculate the size of half a batch of samples\n",
        "  half_batch = int(n_batch / 2)\n",
        "  print('n_epochs=%d, n_batch=%d, 1/2=%d, b/e=%d, steps=%d' % (n_epochs, n_batch, half_batch, bat_per_epo, n_steps))\n",
        "\t# manually enumerate epochs\n",
        "  for i in range(n_steps):\n",
        "\t\t# update supervised discriminator (c)\n",
        "    [Xsup_real, ysup_real], _ = generate_real_samples(datasety, half_batch)\n",
        "    print(Xsup_real.shape, ysup_real.shape)\n",
        "    c_loss, c_acc = model.train_on_batch(Xsup_real, ysup_real)\n",
        "\t\t# summarize loss on this batch\n",
        "    print('>%d, c[%.3f,%.0f]' % (i+1, c_loss, c_acc*100))\n",
        "\t\t# evaluate the model performance every so often\n",
        "\t\t# if (i+1) % (bat_per_epo * 1) == 0:\n",
        "\t\t# \tsummarize_performance(i, g_model, c_model, latent_dim, datasety, n_valid=1000)"
      ],
      "execution_count": null,
      "outputs": []
    },
    {
      "cell_type": "code",
      "metadata": {
        "id": "4rohk3tookA6"
      },
      "source": [
        "datasety = trainy_name, trainy \n",
        "train(model,datasety)"
      ],
      "execution_count": null,
      "outputs": []
    },
    {
      "cell_type": "markdown",
      "metadata": {
        "id": "NrTpx8BPrexD"
      },
      "source": [
        "# SGAN"
      ]
    },
    {
      "cell_type": "code",
      "metadata": {
        "collapsed": true,
        "id": "zCL0lMzcrUJt"
      },
      "source": [
        "# example of defining semi-supervised discriminator model\n",
        "\n",
        "# custom activation function\n",
        "def custom_activation(output):\n",
        "\tlogexpsum = backend.sum(backend.exp(output), axis=-1, keepdims=True)\n",
        "\tresult = logexpsum / (logexpsum + 1.0)\n",
        "\treturn result\n",
        "\n",
        "# define the standalone supervised and unsupervised discriminator models\n",
        "def define_discriminator(in_shape=(128,128,1), n_classes=6):\n",
        "\t# image input\n",
        "\tin_image = Input(shape=in_shape)\n",
        "\t# downsample\n",
        "\tfe = Conv2D(32, (3,3), strides=(2,2), padding='same')(in_image)\n",
        "\tfe = LeakyReLU(alpha=0.2)(fe)\n",
        "\t# downsample\n",
        "\tfe = Conv2D(64, (3,3), strides=(2,2), padding='same')(fe)\n",
        "\tfe = LeakyReLU(alpha=0.2)(fe)\n",
        "\t# downsample\n",
        "\tfe = Conv2D(128, (3,3), strides=(2,2), padding='same')(fe)\n",
        "\tfe = LeakyReLU(alpha=0.2)(fe)\n",
        "\n",
        "\t# flatten feature maps\n",
        "\tfe = Flatten()(fe)\n",
        "\t# dropout\n",
        "\tfe = Dropout(0.4)(fe)\n",
        "\t# output layer nodes\n",
        "\tfe = Dense(n_classes)(fe)\n",
        "\t# supervised output\n",
        "\tc_out_layer = Activation('softmax')(fe)\n",
        "\t# define and compile supervised discriminator model\n",
        "\tc_model = Model(in_image, c_out_layer)\n",
        "\tc_model.compile(loss='sparse_categorical_crossentropy', optimizer=Adam(learning_rate=0.0002, beta_1=0.5), metrics=['accuracy'])\n",
        "\t# unsupervised output\n",
        "\td_out_layer = Lambda(custom_activation)(fe)\n",
        "\t# define and compile unsupervised discriminator model\n",
        "\td_model = Model(in_image, d_out_layer)\n",
        "\td_model.compile(loss='binary_crossentropy', optimizer=Adam(learning_rate=0.0002, beta_1=0.5))\n",
        "\treturn d_model, c_model\n",
        " \n"
      ],
      "execution_count": null,
      "outputs": []
    },
    {
      "cell_type": "code",
      "metadata": {
        "colab": {
          "base_uri": "https://localhost:8080/"
        },
        "collapsed": true,
        "id": "M5eOFuEBgeid",
        "outputId": "06aff993-6179-4bdd-db6c-f6f7299a2cfc"
      },
      "source": [
        "# create model\n",
        "d_model, c_model = define_discriminator()\n",
        "\n",
        "print(d_model.summary(),c_model.summary())"
      ],
      "execution_count": null,
      "outputs": [
        {
          "output_type": "stream",
          "text": [
            "Model: \"model_52\"\n",
            "_________________________________________________________________\n",
            "Layer (type)                 Output Shape              Param #   \n",
            "=================================================================\n",
            "input_24 (InputLayer)        [(None, 128, 128, 1)]     0         \n",
            "_________________________________________________________________\n",
            "conv2d_49 (Conv2D)           (None, 64, 64, 32)        320       \n",
            "_________________________________________________________________\n",
            "leaky_re_lu_79 (LeakyReLU)   (None, 64, 64, 32)        0         \n",
            "_________________________________________________________________\n",
            "conv2d_50 (Conv2D)           (None, 32, 32, 64)        18496     \n",
            "_________________________________________________________________\n",
            "leaky_re_lu_80 (LeakyReLU)   (None, 32, 32, 64)        0         \n",
            "_________________________________________________________________\n",
            "conv2d_51 (Conv2D)           (None, 16, 16, 128)       73856     \n",
            "_________________________________________________________________\n",
            "leaky_re_lu_81 (LeakyReLU)   (None, 16, 16, 128)       0         \n",
            "_________________________________________________________________\n",
            "flatten_13 (Flatten)         (None, 32768)             0         \n",
            "_________________________________________________________________\n",
            "dropout_13 (Dropout)         (None, 32768)             0         \n",
            "_________________________________________________________________\n",
            "dense_23 (Dense)             (None, 6)                 196614    \n",
            "_________________________________________________________________\n",
            "lambda_13 (Lambda)           (None, 1)                 0         \n",
            "=================================================================\n",
            "Total params: 289,286\n",
            "Trainable params: 289,286\n",
            "Non-trainable params: 0\n",
            "_________________________________________________________________\n",
            "Model: \"model_51\"\n",
            "_________________________________________________________________\n",
            "Layer (type)                 Output Shape              Param #   \n",
            "=================================================================\n",
            "input_24 (InputLayer)        [(None, 128, 128, 1)]     0         \n",
            "_________________________________________________________________\n",
            "conv2d_49 (Conv2D)           (None, 64, 64, 32)        320       \n",
            "_________________________________________________________________\n",
            "leaky_re_lu_79 (LeakyReLU)   (None, 64, 64, 32)        0         \n",
            "_________________________________________________________________\n",
            "conv2d_50 (Conv2D)           (None, 32, 32, 64)        18496     \n",
            "_________________________________________________________________\n",
            "leaky_re_lu_80 (LeakyReLU)   (None, 32, 32, 64)        0         \n",
            "_________________________________________________________________\n",
            "conv2d_51 (Conv2D)           (None, 16, 16, 128)       73856     \n",
            "_________________________________________________________________\n",
            "leaky_re_lu_81 (LeakyReLU)   (None, 16, 16, 128)       0         \n",
            "_________________________________________________________________\n",
            "flatten_13 (Flatten)         (None, 32768)             0         \n",
            "_________________________________________________________________\n",
            "dropout_13 (Dropout)         (None, 32768)             0         \n",
            "_________________________________________________________________\n",
            "dense_23 (Dense)             (None, 6)                 196614    \n",
            "_________________________________________________________________\n",
            "activation_13 (Activation)   (None, 6)                 0         \n",
            "=================================================================\n",
            "Total params: 289,286\n",
            "Trainable params: 289,286\n",
            "Non-trainable params: 0\n",
            "_________________________________________________________________\n",
            "None None\n"
          ],
          "name": "stdout"
        }
      ]
    },
    {
      "cell_type": "code",
      "metadata": {
        "colab": {
          "base_uri": "https://localhost:8080/",
          "height": 1000
        },
        "id": "OHFXdk9y0HDj",
        "outputId": "55a0f104-1e36-4a71-bd25-6f71b2ba0613"
      },
      "source": [
        "# plot the model\n",
        "plot_model(d_model, to_file='stacked_discriminator1_plot.png', show_shapes=True, show_layer_names=True)"
      ],
      "execution_count": null,
      "outputs": [
        {
          "output_type": "execute_result",
          "data": {
            "image/png": "[encoded data removed]",
            "text/plain": [
              "<IPython.core.display.Image object>"
            ]
          },
          "metadata": {
            "tags": []
          },
          "execution_count": 35
        }
      ]
    },
    {
      "cell_type": "code",
      "metadata": {
        "colab": {
          "base_uri": "https://localhost:8080/",
          "height": 1000
        },
        "id": "I2zLWL6guDHc",
        "outputId": "9718dfb0-d7f6-4da3-ddb4-4fb357cebb7b"
      },
      "source": [
        "plot_model(c_model, to_file='stacked_discriminator2_plot.png', show_shapes=True, show_layer_names=True)"
      ],
      "execution_count": null,
      "outputs": [
        {
          "output_type": "execute_result",
          "data": {
            "image/png": "[encoded data removed]",
            "text/plain": [
              "<IPython.core.display.Image object>"
            ]
          },
          "metadata": {
            "tags": []
          },
          "execution_count": 36
        }
      ]
    },
    {
      "cell_type": "code",
      "metadata": {
        "id": "MyBrkH4GuOsA"
      },
      "source": [
        "# define the standalone generator model\n",
        "def define_generator(latent_dim):\n",
        "\t# image generator input\n",
        "\tin_lat = Input(shape=(latent_dim,))\n",
        "\t# foundation for 16x16 image\n",
        "\tn_nodes = 128 * 16 * 16\n",
        "\tgen = Dense(n_nodes)(in_lat)\n",
        "\tgen = LeakyReLU(alpha=0.2)(gen)\n",
        "\tgen = Reshape((16, 16, 128))(gen)\n",
        "\t# upsample to 32x32\n",
        "\tgen = Conv2DTranspose(128, (4,4), strides=(2,2), padding='same')(gen)\n",
        "\tgen = LeakyReLU(alpha=0.2)(gen)\n",
        "\t# upsample to 64x64\n",
        "\tgen = Conv2DTranspose(128, (4,4), strides=(2,2), padding='same')(gen)\n",
        "\tgen = LeakyReLU(alpha=0.2)(gen)\n",
        " \t# upsample to 128x128\n",
        "\tgen = Conv2DTranspose(128, (4,4), strides=(2,2), padding='same')(gen)\n",
        "\tgen = LeakyReLU(alpha=0.2)(gen)\n",
        "\n",
        "\t# output\n",
        "\tout_layer = Conv2D(1, (16,16), activation='tanh', padding='same')(gen)\n",
        "\t# define model\n",
        "\tmodel = Model(in_lat, out_layer)\n",
        "\treturn model"
      ],
      "execution_count": null,
      "outputs": []
    },
    {
      "cell_type": "code",
      "metadata": {
        "id": "_d4Cc_9yw9fp"
      },
      "source": [
        "# size of the latent space\n",
        "latent_dim = 100\n",
        "\n",
        "# create the generator\n",
        "g_model = define_generator(latent_dim)\n"
      ],
      "execution_count": null,
      "outputs": []
    },
    {
      "cell_type": "code",
      "metadata": {
        "id": "3rQI4OTQutv5"
      },
      "source": [
        "# define the combined generator and discriminator model, for updating the generator\n",
        "def define_gan(g_model, d_model):\n",
        "\t# make weights in the discriminator not trainable\n",
        "\td_model.trainable = False\n",
        "\t# connect image output from generator as input to discriminator\n",
        "\tgan_output = d_model(g_model.output)\n",
        "\t# define gan model as taking noise and outputting a classification\n",
        "\tmodel = Model(g_model.input, gan_output)\n",
        "\t# compile model\n",
        "\topt = Adam(learning_rate=0.0002, beta_1=0.5)\n",
        "\tmodel.compile(loss='binary_crossentropy', optimizer=opt)\n",
        "\treturn model"
      ],
      "execution_count": null,
      "outputs": []
    },
    {
      "cell_type": "code",
      "metadata": {
        "id": "9Zlnr0zUuyLv"
      },
      "source": [
        "# load the images\n",
        "def load_real_samples():\n",
        "  # load dataset\n",
        "  # (trainX, trainy), (testX, testy) = load_data()\n",
        "  # expand to 3d, e.g. add channels\n",
        "  X = expand_dims(trainX, axis=-1)\n",
        "  print(X.shape)\n",
        "  # convert from ints to floats\n",
        "  X = X.astype('float32')\n",
        "  # scale from [0,255] to [-1,1]\n",
        "  X = (X - 127.5) / 127.5\n",
        "  # print(X.shape, trainy.shape)\n",
        "  return [X, trainy]"
      ],
      "execution_count": null,
      "outputs": []
    },
    {
      "cell_type": "code",
      "metadata": {
        "id": "vtnC05i3vCJd"
      },
      "source": [
        "# select a supervised subset of the dataset, ensures classes are balanced\n",
        "def select_supervised_samples(datasety, n_samples=nsuptrain, n_classes=6):\n",
        "  trainy_name, trainy = datasety\n",
        "  X_list, y_list, yname_list = list(), list(), list()\n",
        "  n_per_class = int(n_samples / n_classes)\n",
        "  for iclass in range(n_classes):\n",
        "    \n",
        "    # get all images ID for this class\n",
        "    idindex = [i for i, e in enumerate(trainy) if e == iclass]\n",
        "    idname = np.array(trainy_name)[idindex]\n",
        "\n",
        "    # choose random instances\n",
        "    ix = randint(0, len(idname), n_per_class)\n",
        "\n",
        "    # add to list\n",
        "    for id in idname[ix]:\n",
        "      img = cv2.imread(datapath+ '/' + id + '.png')\n",
        "      img = grayConversion(img)\n",
        "      X_list.append(img)\n",
        "      yname_list.append(id)\n",
        "    \n",
        "    [y_list.append(iclass) for j in ix]\n",
        "  return asarray(X_list), asarray(y_list), asarray(yname_list)"
      ],
      "execution_count": null,
      "outputs": []
    },
    {
      "cell_type": "code",
      "metadata": {
        "id": "ESOmE5AS037y"
      },
      "source": [
        "datasety = trainy_name, trainy \n",
        "X_sup, y_sup, yname_sup = select_supervised_samples(datasety)"
      ],
      "execution_count": null,
      "outputs": []
    },
    {
      "cell_type": "code",
      "metadata": {
        "colab": {
          "base_uri": "https://localhost:8080/"
        },
        "collapsed": true,
        "id": "B98kViuN1Y_R",
        "outputId": "dc6ac223-96d0-4a65-da1e-2f1a3ca58e6a"
      },
      "source": [
        "# y_sup.shape,yname_sup.shape,Counter(trainy),Counter(y_sup)"
      ],
      "execution_count": null,
      "outputs": [
        {
          "output_type": "execute_result",
          "data": {
            "text/plain": [
              "((50496,),\n",
              " (50496,),\n",
              " Counter({0: 451508, 1: 1209, 2: 10942, 3: 6915, 4: 11490, 5: 22536}),\n",
              " Counter({0: 8416, 1: 8416, 2: 8416, 3: 8416, 4: 8416, 5: 8416}))"
            ]
          },
          "metadata": {
            "tags": []
          },
          "execution_count": 38
        }
      ]
    },
    {
      "cell_type": "code",
      "metadata": {
        "id": "Vzjnz6IQvEzS"
      },
      "source": [
        "# select real samples\n",
        "def generate_real_samples(datasety, n_samples):\n",
        "  trainy_name, labels = datasety\n",
        "  # choose random instances\n",
        "  ix = randint(0, len(trainy_name), n_samples)\n",
        "\n",
        "  # select images and labels\n",
        "  X = list()\n",
        "  for id in np.array(trainy_name)[ix]:\n",
        "    img = cv2.imread(datapath+ '/' + id + '.png')\n",
        "    img = grayConversion(img)\n",
        "    X.append(img)\n",
        "  \n",
        "  X = np.array(X)\n",
        "  labels = labels[ix]\n",
        "\n",
        "  # generate class labels\n",
        "  y = ones((n_samples, 1))\n",
        "  # print(X)\n",
        "  return [X, labels], y"
      ],
      "execution_count": null,
      "outputs": []
    },
    {
      "cell_type": "code",
      "metadata": {
        "id": "95qWr40NvJG_"
      },
      "source": [
        "# generate points in latent space as input for the generator\n",
        "def generate_latent_points(latent_dim, n_samples):\n",
        "\t# generate points in the latent space\n",
        "\tz_input = randn(latent_dim * n_samples)\n",
        "\t# reshape into a batch of inputs for the network\n",
        "\tz_input = z_input.reshape(n_samples, latent_dim)\n",
        "\treturn z_input\n",
        " \n",
        "# use the generator to generate n fake examples, with class labels\n",
        "def generate_fake_samples(generator, latent_dim, n_samples):\n",
        "\t# generate points in latent space\n",
        "\tz_input = generate_latent_points(latent_dim, n_samples)\n",
        "\t# predict outputs\n",
        "\timages = generator.predict(z_input)\n",
        "\t# create class labels\n",
        "\ty = zeros((n_samples, 1))\n",
        "\treturn images, y"
      ],
      "execution_count": null,
      "outputs": []
    },
    {
      "cell_type": "code",
      "metadata": {
        "id": "Ax1m7NA9vNPR"
      },
      "source": [
        "# generate samples and save as a plot and save the model\n",
        "def summarize_performance(step, g_model, c_model, latent_dim, datasety, n_valid, n_samples=100):\n",
        "\t# prepare fake examples\n",
        "\tX, _ = generate_fake_samples(g_model, latent_dim, n_samples)\n",
        "\t# scale from [-1,1] to [0,1]\n",
        "\tX = (X + 1) / 2.0\n",
        "\t# plot images\n",
        "\tfor i in range(100):\n",
        "\t\t# define subplot\n",
        "\t\tpyplot.subplot(10, 10, 1 + i)\n",
        "\t\t# turn off axis\n",
        "\t\tpyplot.axis('off')\n",
        "\t\t# plot raw pixel data\n",
        "\t\tpyplot.imshow(X[i, :, :, 0], cmap='gray_r')\n",
        "\t# save plot to file\n",
        "\tfilename1 = 'generated_plot_%04d.png' % (step+1)\n",
        "\tpyplot.savefig(filename1)\n",
        "\tpyplot.close()\n",
        "\t# evaluate the classifier model (validation)\n",
        "\t[X, _], y = generate_real_samples(datasety,n_valid)\n",
        "  # X, y = dataset\n",
        "\t_, acc = c_model.evaluate(X, y, verbose=0)\n",
        "\tprint('Classifier Accuracy: %.3f%%' % (acc * 100))\n",
        "\t# save the generator model\n",
        "\tfilename2 = 'g_model_%04d.h5' % (step+1)\n",
        "\tg_model.save(filename2)\n",
        "\t# save the classifier model\n",
        "\tfilename3 = 'c_model_%04d.h5' % (step+1)\n",
        "\tc_model.save(filename3)\n",
        "\tprint('>Saved: %s, %s, and %s' % (filename1, filename2, filename3))"
      ],
      "execution_count": null,
      "outputs": []
    },
    {
      "cell_type": "code",
      "metadata": {
        "id": "tMac44y-vV9C"
      },
      "source": [
        "# train the generator and discriminator\n",
        "def train(g_model, d_model, c_model, gan_model, datasety, latent_dim, n_epochs=20, n_batch=100):\n",
        "\t# select supervised dataset\n",
        "\tX_sup, y_sup, yname_sup = select_supervised_samples(datasety)\n",
        "\tprint(X_sup.shape, y_sup.shape)\n",
        "\t# calculate the number of batches per training epoch\n",
        "\tbat_per_epo = int(ntrain / n_batch)\n",
        "\t# calculate the number of training iterations\n",
        "\tn_steps = bat_per_epo * n_epochs\n",
        "\t# calculate the size of half a batch of samples\n",
        "\thalf_batch = int(n_batch / 2)\n",
        "\tprint('n_epochs=%d, n_batch=%d, 1/2=%d, b/e=%d, steps=%d' % (n_epochs, n_batch, half_batch, bat_per_epo, n_steps))\n",
        "\t# manually enumerate epochs\n",
        "\tfor i in range(n_steps):\n",
        "\t\t# update supervised discriminator (c)\n",
        "\t\t[Xsup_real, ysup_real], _ = generate_real_samples([yname_sup, y_sup], half_batch)\n",
        "\t\tc_loss, c_acc = c_model.train_on_batch(Xsup_real, ysup_real)\n",
        "\t\t# update unsupervised discriminator (d)\n",
        "\t\t[X_real, _], y_real = generate_real_samples(datasety, half_batch)\n",
        "\t\td_loss1 = d_model.train_on_batch(X_real, y_real)\n",
        "\t\tX_fake, y_fake = generate_fake_samples(g_model, latent_dim, half_batch)\n",
        "\t\td_loss2 = d_model.train_on_batch(X_fake, y_fake)\n",
        "\t\t# update generator (g)\n",
        "\t\tX_gan, y_gan = generate_latent_points(latent_dim, n_batch), ones((n_batch, 1))\n",
        "\t\tg_loss = gan_model.train_on_batch(X_gan, y_gan)\n",
        "\t\t# summarize loss on this batch\n",
        "\t\tprint('>%d, c[%.3f,%.0f], d[%.3f,%.3f], g[%.3f]' % (i+1, c_loss, c_acc*100, d_loss1, d_loss2, g_loss))\n",
        "\t\t# evaluate the model performance every so often\n",
        "\t\tif (i+1) % (bat_per_epo * 1) == 0:\n",
        "\t\t\tsummarize_performance(i, g_model, c_model, latent_dim, datasety, n_valid=1000)"
      ],
      "execution_count": null,
      "outputs": []
    },
    {
      "cell_type": "code",
      "metadata": {
        "colab": {
          "base_uri": "https://localhost:8080/",
          "height": 1000
        },
        "id": "cDU5Rx_Yvj4Y",
        "outputId": "8f2284b8-5c27-4c45-b6ef-f3953909ca69"
      },
      "source": [
        "# size of the latent space\n",
        "latent_dim = 100\n",
        "\n",
        "# create the discriminator models\n",
        "d_model, c_model = define_discriminator()\n",
        "\n",
        "# create the generator\n",
        "g_model = define_generator(latent_dim)\n",
        "\n",
        "# create the gan\n",
        "gan_model = define_gan(g_model, d_model)\n",
        "\n",
        "# # load image data\n",
        "datasety = trainy_name, trainy \n",
        "# dataset = load_real_samples()\n",
        "\n",
        "# # train model\n",
        "train(g_model, d_model, c_model, gan_model, datasety, latent_dim)"
      ],
      "execution_count": null,
      "outputs": [
        {
          "output_type": "stream",
          "text": [
            "(96, 128, 128) (96,)\n",
            "n_epochs=20, n_batch=100, 1/2=50, b/e=7, steps=140\n",
            ">1, c[6.136,10], d[0.016,1.947], g[0.154]\n",
            ">2, c[7.074,24], d[0.006,1.946], g[0.154]\n",
            ">3, c[4.782,22], d[0.003,1.944], g[0.155]\n",
            ">4, c[2.212,50], d[0.005,1.940], g[0.156]\n",
            ">5, c[2.197,52], d[0.005,1.935], g[0.157]\n",
            ">6, c[1.487,52], d[0.000,1.926], g[0.160]\n",
            ">7, c[1.281,74], d[0.002,1.911], g[0.164]\n",
            "Classifier Accuracy: 1.700%\n",
            "WARNING:tensorflow:Compiled the loaded model, but the compiled metrics have yet to be built. `model.compile_metrics` will be empty until you train or evaluate the model.\n",
            ">Saved: generated_plot_0007.png, g_model_0007.h5, and c_model_0007.h5\n",
            ">8, c[7.478,6], d[0.002,1.885], g[0.170]\n",
            ">9, c[1.229,62], d[0.013,1.865], g[0.173]\n",
            ">10, c[0.500,80], d[0.000,1.838], g[0.181]\n",
            ">11, c[1.288,78], d[0.006,1.788], g[0.195]\n",
            ">12, c[0.776,84], d[0.000,1.704], g[0.220]\n",
            ">13, c[0.304,84], d[0.000,1.616], g[0.244]\n",
            ">14, c[0.486,86], d[0.001,1.539], g[0.268]\n",
            "Classifier Accuracy: 1.600%\n",
            "WARNING:tensorflow:Compiled the loaded model, but the compiled metrics have yet to be built. `model.compile_metrics` will be empty until you train or evaluate the model.\n",
            ">Saved: generated_plot_0014.png, g_model_0014.h5, and c_model_0014.h5\n",
            ">15, c[9.725,5], d[0.006,1.444], g[0.304]\n",
            ">16, c[1.126,84], d[0.002,1.334], g[0.361]\n",
            ">17, c[3.078,58], d[0.001,1.241], g[0.443]\n",
            ">18, c[1.824,70], d[0.012,1.196], g[0.547]\n",
            ">19, c[1.306,74], d[0.000,1.049], g[0.768]\n",
            ">20, c[0.382,86], d[0.004,0.631], g[1.303]\n",
            ">21, c[1.419,74], d[0.036,0.442], g[1.383]\n",
            "Classifier Accuracy: 9.000%\n",
            "WARNING:tensorflow:Compiled the loaded model, but the compiled metrics have yet to be built. `model.compile_metrics` will be empty until you train or evaluate the model.\n",
            ">Saved: generated_plot_0021.png, g_model_0021.h5, and c_model_0021.h5\n",
            ">22, c[6.602,13], d[nan,nan], g[nan]\n",
            ">23, c[nan,16], d[nan,nan], g[nan]\n",
            ">24, c[nan,16], d[nan,nan], g[nan]\n",
            ">25, c[nan,16], d[nan,nan], g[nan]\n",
            ">26, c[nan,14], d[nan,nan], g[nan]\n",
            ">27, c[nan,24], d[nan,nan], g[nan]\n"
          ],
          "name": "stdout"
        },
        {
          "output_type": "error",
          "ename": "KeyboardInterrupt",
          "evalue": "ignored",
          "traceback": [
            "\u001b[0;31m---------------------------------------------------------------------------\u001b[0m",
            "\u001b[0;31mKeyboardInterrupt\u001b[0m                         Traceback (most recent call last)",
            "\u001b[0;32m<ipython-input-85-183af9bdcf3f>\u001b[0m in \u001b[0;36m<module>\u001b[0;34m()\u001b[0m\n\u001b[1;32m     16\u001b[0m \u001b[0;34m\u001b[0m\u001b[0m\n\u001b[1;32m     17\u001b[0m \u001b[0;31m# # train model\u001b[0m\u001b[0;34m\u001b[0m\u001b[0;34m\u001b[0m\u001b[0;34m\u001b[0m\u001b[0m\n\u001b[0;32m---> 18\u001b[0;31m \u001b[0mtrain\u001b[0m\u001b[0;34m(\u001b[0m\u001b[0mg_model\u001b[0m\u001b[0;34m,\u001b[0m \u001b[0md_model\u001b[0m\u001b[0;34m,\u001b[0m \u001b[0mc_model\u001b[0m\u001b[0;34m,\u001b[0m \u001b[0mgan_model\u001b[0m\u001b[0;34m,\u001b[0m \u001b[0mdatasety\u001b[0m\u001b[0;34m,\u001b[0m \u001b[0mlatent_dim\u001b[0m\u001b[0;34m)\u001b[0m\u001b[0;34m\u001b[0m\u001b[0;34m\u001b[0m\u001b[0m\n\u001b[0m",
            "\u001b[0;32m<ipython-input-69-7d5b2315afe8>\u001b[0m in \u001b[0;36mtrain\u001b[0;34m(g_model, d_model, c_model, gan_model, datasety, latent_dim, n_epochs, n_batch)\u001b[0m\n\u001b[1;32m     23\u001b[0m                 \u001b[0;31m# update generator (g)\u001b[0m\u001b[0;34m\u001b[0m\u001b[0;34m\u001b[0m\u001b[0;34m\u001b[0m\u001b[0m\n\u001b[1;32m     24\u001b[0m                 \u001b[0mX_gan\u001b[0m\u001b[0;34m,\u001b[0m \u001b[0my_gan\u001b[0m \u001b[0;34m=\u001b[0m \u001b[0mgenerate_latent_points\u001b[0m\u001b[0;34m(\u001b[0m\u001b[0mlatent_dim\u001b[0m\u001b[0;34m,\u001b[0m \u001b[0mn_batch\u001b[0m\u001b[0;34m)\u001b[0m\u001b[0;34m,\u001b[0m \u001b[0mones\u001b[0m\u001b[0;34m(\u001b[0m\u001b[0;34m(\u001b[0m\u001b[0mn_batch\u001b[0m\u001b[0;34m,\u001b[0m \u001b[0;36m1\u001b[0m\u001b[0;34m)\u001b[0m\u001b[0;34m)\u001b[0m\u001b[0;34m\u001b[0m\u001b[0;34m\u001b[0m\u001b[0m\n\u001b[0;32m---> 25\u001b[0;31m                 \u001b[0mg_loss\u001b[0m \u001b[0;34m=\u001b[0m \u001b[0mgan_model\u001b[0m\u001b[0;34m.\u001b[0m\u001b[0mtrain_on_batch\u001b[0m\u001b[0;34m(\u001b[0m\u001b[0mX_gan\u001b[0m\u001b[0;34m,\u001b[0m \u001b[0my_gan\u001b[0m\u001b[0;34m)\u001b[0m\u001b[0;34m\u001b[0m\u001b[0;34m\u001b[0m\u001b[0m\n\u001b[0m\u001b[1;32m     26\u001b[0m                 \u001b[0;31m# summarize loss on this batch\u001b[0m\u001b[0;34m\u001b[0m\u001b[0;34m\u001b[0m\u001b[0;34m\u001b[0m\u001b[0m\n\u001b[1;32m     27\u001b[0m                 \u001b[0mprint\u001b[0m\u001b[0;34m(\u001b[0m\u001b[0;34m'>%d, c[%.3f,%.0f], d[%.3f,%.3f], g[%.3f]'\u001b[0m \u001b[0;34m%\u001b[0m \u001b[0;34m(\u001b[0m\u001b[0mi\u001b[0m\u001b[0;34m+\u001b[0m\u001b[0;36m1\u001b[0m\u001b[0;34m,\u001b[0m \u001b[0mc_loss\u001b[0m\u001b[0;34m,\u001b[0m \u001b[0mc_acc\u001b[0m\u001b[0;34m*\u001b[0m\u001b[0;36m100\u001b[0m\u001b[0;34m,\u001b[0m \u001b[0md_loss1\u001b[0m\u001b[0;34m,\u001b[0m \u001b[0md_loss2\u001b[0m\u001b[0;34m,\u001b[0m \u001b[0mg_loss\u001b[0m\u001b[0;34m)\u001b[0m\u001b[0;34m)\u001b[0m\u001b[0;34m\u001b[0m\u001b[0;34m\u001b[0m\u001b[0m\n",
            "\u001b[0;32m/usr/local/lib/python3.7/dist-packages/keras/engine/training.py\u001b[0m in \u001b[0;36mtrain_on_batch\u001b[0;34m(self, x, y, sample_weight, class_weight, reset_metrics, return_dict)\u001b[0m\n\u001b[1;32m   1801\u001b[0m \u001b[0;34m\u001b[0m\u001b[0m\n\u001b[1;32m   1802\u001b[0m     \u001b[0;32mif\u001b[0m \u001b[0mreset_metrics\u001b[0m\u001b[0;34m:\u001b[0m\u001b[0;34m\u001b[0m\u001b[0;34m\u001b[0m\u001b[0m\n\u001b[0;32m-> 1803\u001b[0;31m       \u001b[0mself\u001b[0m\u001b[0;34m.\u001b[0m\u001b[0mreset_metrics\u001b[0m\u001b[0;34m(\u001b[0m\u001b[0;34m)\u001b[0m\u001b[0;34m\u001b[0m\u001b[0;34m\u001b[0m\u001b[0m\n\u001b[0m\u001b[1;32m   1804\u001b[0m     \u001b[0mlogs\u001b[0m \u001b[0;34m=\u001b[0m \u001b[0mtf_utils\u001b[0m\u001b[0;34m.\u001b[0m\u001b[0msync_to_numpy_or_python_type\u001b[0m\u001b[0;34m(\u001b[0m\u001b[0mlogs\u001b[0m\u001b[0;34m)\u001b[0m\u001b[0;34m\u001b[0m\u001b[0;34m\u001b[0m\u001b[0m\n\u001b[1;32m   1805\u001b[0m     \u001b[0;32mif\u001b[0m \u001b[0mreturn_dict\u001b[0m\u001b[0;34m:\u001b[0m\u001b[0;34m\u001b[0m\u001b[0;34m\u001b[0m\u001b[0m\n",
            "\u001b[0;32m/usr/local/lib/python3.7/dist-packages/keras/engine/training.py\u001b[0m in \u001b[0;36mreset_metrics\u001b[0;34m(self)\u001b[0m\n\u001b[1;32m   1740\u001b[0m     \"\"\"\n\u001b[1;32m   1741\u001b[0m     \u001b[0;32mfor\u001b[0m \u001b[0mm\u001b[0m \u001b[0;32min\u001b[0m \u001b[0mself\u001b[0m\u001b[0;34m.\u001b[0m\u001b[0mmetrics\u001b[0m\u001b[0;34m:\u001b[0m\u001b[0;34m\u001b[0m\u001b[0;34m\u001b[0m\u001b[0m\n\u001b[0;32m-> 1742\u001b[0;31m       \u001b[0mm\u001b[0m\u001b[0;34m.\u001b[0m\u001b[0mreset_state\u001b[0m\u001b[0;34m(\u001b[0m\u001b[0;34m)\u001b[0m\u001b[0;34m\u001b[0m\u001b[0;34m\u001b[0m\u001b[0m\n\u001b[0m\u001b[1;32m   1743\u001b[0m \u001b[0;34m\u001b[0m\u001b[0m\n\u001b[1;32m   1744\u001b[0m   def train_on_batch(self,\n",
            "\u001b[0;32m/usr/local/lib/python3.7/dist-packages/keras/metrics.py\u001b[0m in \u001b[0;36mreset_state\u001b[0;34m(self)\u001b[0m\n\u001b[1;32m    236\u001b[0m       \u001b[0;32mreturn\u001b[0m \u001b[0mself\u001b[0m\u001b[0;34m.\u001b[0m\u001b[0mreset_states\u001b[0m\u001b[0;34m(\u001b[0m\u001b[0;34m)\u001b[0m\u001b[0;34m\u001b[0m\u001b[0;34m\u001b[0m\u001b[0m\n\u001b[1;32m    237\u001b[0m     \u001b[0;32melse\u001b[0m\u001b[0;34m:\u001b[0m\u001b[0;34m\u001b[0m\u001b[0;34m\u001b[0m\u001b[0m\n\u001b[0;32m--> 238\u001b[0;31m       \u001b[0mbackend\u001b[0m\u001b[0;34m.\u001b[0m\u001b[0mbatch_set_value\u001b[0m\u001b[0;34m(\u001b[0m\u001b[0;34m[\u001b[0m\u001b[0;34m(\u001b[0m\u001b[0mv\u001b[0m\u001b[0;34m,\u001b[0m \u001b[0;36m0\u001b[0m\u001b[0;34m)\u001b[0m \u001b[0;32mfor\u001b[0m \u001b[0mv\u001b[0m \u001b[0;32min\u001b[0m \u001b[0mself\u001b[0m\u001b[0;34m.\u001b[0m\u001b[0mvariables\u001b[0m\u001b[0;34m]\u001b[0m\u001b[0;34m)\u001b[0m\u001b[0;34m\u001b[0m\u001b[0;34m\u001b[0m\u001b[0m\n\u001b[0m\u001b[1;32m    239\u001b[0m \u001b[0;34m\u001b[0m\u001b[0m\n\u001b[1;32m    240\u001b[0m   \u001b[0;34m@\u001b[0m\u001b[0mabc\u001b[0m\u001b[0;34m.\u001b[0m\u001b[0mabstractmethod\u001b[0m\u001b[0;34m\u001b[0m\u001b[0;34m\u001b[0m\u001b[0m\n",
            "\u001b[0;32m/usr/local/lib/python3.7/dist-packages/tensorflow/python/util/dispatch.py\u001b[0m in \u001b[0;36mwrapper\u001b[0;34m(*args, **kwargs)\u001b[0m\n\u001b[1;32m    204\u001b[0m     \u001b[0;34m\"\"\"Call target, and fall back on dispatchers if there is a TypeError.\"\"\"\u001b[0m\u001b[0;34m\u001b[0m\u001b[0;34m\u001b[0m\u001b[0m\n\u001b[1;32m    205\u001b[0m     \u001b[0;32mtry\u001b[0m\u001b[0;34m:\u001b[0m\u001b[0;34m\u001b[0m\u001b[0;34m\u001b[0m\u001b[0m\n\u001b[0;32m--> 206\u001b[0;31m       \u001b[0;32mreturn\u001b[0m \u001b[0mtarget\u001b[0m\u001b[0;34m(\u001b[0m\u001b[0;34m*\u001b[0m\u001b[0margs\u001b[0m\u001b[0;34m,\u001b[0m \u001b[0;34m**\u001b[0m\u001b[0mkwargs\u001b[0m\u001b[0;34m)\u001b[0m\u001b[0;34m\u001b[0m\u001b[0;34m\u001b[0m\u001b[0m\n\u001b[0m\u001b[1;32m    207\u001b[0m     \u001b[0;32mexcept\u001b[0m \u001b[0;34m(\u001b[0m\u001b[0mTypeError\u001b[0m\u001b[0;34m,\u001b[0m \u001b[0mValueError\u001b[0m\u001b[0;34m)\u001b[0m\u001b[0;34m:\u001b[0m\u001b[0;34m\u001b[0m\u001b[0;34m\u001b[0m\u001b[0m\n\u001b[1;32m    208\u001b[0m       \u001b[0;31m# Note: convert_to_eager_tensor currently raises a ValueError, not a\u001b[0m\u001b[0;34m\u001b[0m\u001b[0;34m\u001b[0m\u001b[0;34m\u001b[0m\u001b[0m\n",
            "\u001b[0;32m/usr/local/lib/python3.7/dist-packages/keras/backend.py\u001b[0m in \u001b[0;36mbatch_set_value\u001b[0;34m(tuples)\u001b[0m\n\u001b[1;32m   3767\u001b[0m   \u001b[0;32mif\u001b[0m \u001b[0mtf\u001b[0m\u001b[0;34m.\u001b[0m\u001b[0mcompat\u001b[0m\u001b[0;34m.\u001b[0m\u001b[0mv1\u001b[0m\u001b[0;34m.\u001b[0m\u001b[0mexecuting_eagerly_outside_functions\u001b[0m\u001b[0;34m(\u001b[0m\u001b[0;34m)\u001b[0m\u001b[0;34m:\u001b[0m\u001b[0;34m\u001b[0m\u001b[0;34m\u001b[0m\u001b[0m\n\u001b[1;32m   3768\u001b[0m     \u001b[0;32mfor\u001b[0m \u001b[0mx\u001b[0m\u001b[0;34m,\u001b[0m \u001b[0mvalue\u001b[0m \u001b[0;32min\u001b[0m \u001b[0mtuples\u001b[0m\u001b[0;34m:\u001b[0m\u001b[0;34m\u001b[0m\u001b[0;34m\u001b[0m\u001b[0m\n\u001b[0;32m-> 3769\u001b[0;31m       \u001b[0mx\u001b[0m\u001b[0;34m.\u001b[0m\u001b[0massign\u001b[0m\u001b[0;34m(\u001b[0m\u001b[0mnp\u001b[0m\u001b[0;34m.\u001b[0m\u001b[0masarray\u001b[0m\u001b[0;34m(\u001b[0m\u001b[0mvalue\u001b[0m\u001b[0;34m,\u001b[0m \u001b[0mdtype\u001b[0m\u001b[0;34m=\u001b[0m\u001b[0mdtype_numpy\u001b[0m\u001b[0;34m(\u001b[0m\u001b[0mx\u001b[0m\u001b[0;34m)\u001b[0m\u001b[0;34m)\u001b[0m\u001b[0;34m)\u001b[0m\u001b[0;34m\u001b[0m\u001b[0;34m\u001b[0m\u001b[0m\n\u001b[0m\u001b[1;32m   3770\u001b[0m   \u001b[0;32melse\u001b[0m\u001b[0;34m:\u001b[0m\u001b[0;34m\u001b[0m\u001b[0;34m\u001b[0m\u001b[0m\n\u001b[1;32m   3771\u001b[0m     \u001b[0;32mwith\u001b[0m \u001b[0mget_graph\u001b[0m\u001b[0;34m(\u001b[0m\u001b[0;34m)\u001b[0m\u001b[0;34m.\u001b[0m\u001b[0mas_default\u001b[0m\u001b[0;34m(\u001b[0m\u001b[0;34m)\u001b[0m\u001b[0;34m:\u001b[0m\u001b[0;34m\u001b[0m\u001b[0;34m\u001b[0m\u001b[0m\n",
            "\u001b[0;32m/usr/local/lib/python3.7/dist-packages/tensorflow/python/ops/resource_variable_ops.py\u001b[0m in \u001b[0;36massign\u001b[0;34m(self, value, use_locking, name, read_value)\u001b[0m\n\u001b[1;32m    901\u001b[0m             (tensor_name, self._shape, value_tensor.shape))\n\u001b[1;32m    902\u001b[0m       assign_op = gen_resource_variable_ops.assign_variable_op(\n\u001b[0;32m--> 903\u001b[0;31m           self.handle, value_tensor, name=name)\n\u001b[0m\u001b[1;32m    904\u001b[0m       \u001b[0;32mif\u001b[0m \u001b[0mread_value\u001b[0m\u001b[0;34m:\u001b[0m\u001b[0;34m\u001b[0m\u001b[0;34m\u001b[0m\u001b[0m\n\u001b[1;32m    905\u001b[0m         \u001b[0;32mreturn\u001b[0m \u001b[0mself\u001b[0m\u001b[0;34m.\u001b[0m\u001b[0m_lazy_read\u001b[0m\u001b[0;34m(\u001b[0m\u001b[0massign_op\u001b[0m\u001b[0;34m)\u001b[0m\u001b[0;34m\u001b[0m\u001b[0;34m\u001b[0m\u001b[0m\n",
            "\u001b[0;32m/usr/local/lib/python3.7/dist-packages/tensorflow/python/ops/gen_resource_variable_ops.py\u001b[0m in \u001b[0;36massign_variable_op\u001b[0;34m(resource, value, name)\u001b[0m\n\u001b[1;32m    140\u001b[0m     \u001b[0;32mtry\u001b[0m\u001b[0;34m:\u001b[0m\u001b[0;34m\u001b[0m\u001b[0;34m\u001b[0m\u001b[0m\n\u001b[1;32m    141\u001b[0m       _result = pywrap_tfe.TFE_Py_FastPathExecute(\n\u001b[0;32m--> 142\u001b[0;31m         _ctx, \"AssignVariableOp\", name, resource, value)\n\u001b[0m\u001b[1;32m    143\u001b[0m       \u001b[0;32mreturn\u001b[0m \u001b[0m_result\u001b[0m\u001b[0;34m\u001b[0m\u001b[0;34m\u001b[0m\u001b[0m\n\u001b[1;32m    144\u001b[0m     \u001b[0;32mexcept\u001b[0m \u001b[0m_core\u001b[0m\u001b[0;34m.\u001b[0m\u001b[0m_NotOkStatusException\u001b[0m \u001b[0;32mas\u001b[0m \u001b[0me\u001b[0m\u001b[0;34m:\u001b[0m\u001b[0;34m\u001b[0m\u001b[0;34m\u001b[0m\u001b[0m\n",
            "\u001b[0;31mKeyboardInterrupt\u001b[0m: "
          ]
        }
      ]
    },
    {
      "cell_type": "markdown",
      "metadata": {
        "id": "PpLwhAtp1Gku"
      },
      "source": [
        "## Predict"
      ]
    },
    {
      "cell_type": "code",
      "metadata": {
        "colab": {
          "base_uri": "https://localhost:8080/"
        },
        "id": "lqWL-6DM4Y_C",
        "outputId": "16c1c4cd-ff7c-4250-bde6-d9fc79fc5f93"
      },
      "source": [
        "# example of loading the classifier model and generating images\n",
        "from numpy import expand_dims\n",
        "from keras.models import load_model\n",
        "from keras.datasets.mnist import load_data\n",
        "\n",
        "# load the model\n",
        "model = load_model('c_model_0008.h5')\n",
        "\n",
        "# load the dataset\n",
        "# (trainX, trainy), (testX, testy) = load_data()\n",
        "\n",
        "# expand to 3d, e.g. add channels\n",
        "trainX = expand_dims(trainX, axis=-1)\n",
        "testX = expand_dims(testX, axis=-1)\n",
        "\n",
        "# convert from ints to floats\n",
        "trainX = trainX.astype('float32')\n",
        "testX = testX.astype('float32')\n",
        "\n",
        "# scale from [0,255] to [-1,1]\n",
        "trainX = (trainX - 127.5) / 127.5\n",
        "testX = (testX - 127.5) / 127.5\n",
        "\n",
        "# evaluate the model\n",
        "_, train_acc = model.evaluate(trainX, trainy, verbose=0)\n",
        "print('Train Accuracy: %.3f%%' % (train_acc * 100))\n",
        "\n",
        "_, test_acc = model.evaluate(testX, testy, verbose=0)\n",
        "print('Test Accuracy: %.3f%%' % (test_acc * 100))\n"
      ],
      "execution_count": null,
      "outputs": [
        {
          "output_type": "stream",
          "text": [
            "WARNING:tensorflow:Error in loading the saved optimizer state. As a result, your model is starting with a freshly initialized optimizer.\n",
            "Train Accuracy: 70.000%\n",
            "Test Accuracy: 72.727%\n"
          ],
          "name": "stdout"
        }
      ]
    },
    {
      "cell_type": "markdown",
      "metadata": {
        "id": "-4VtbjwD1GZb"
      },
      "source": [
        ""
      ]
    },
    {
      "cell_type": "markdown",
      "metadata": {
        "id": "YOTX7otxA6pU"
      },
      "source": [
        "# Model"
      ]
    },
    {
      "cell_type": "code",
      "metadata": {
        "id": "D80ID-wrA_QB"
      },
      "source": [
        "#split trainy trainy_name testy testy_name to postive and negative\n",
        "trainy1 = trainy[trainy == 1]\n",
        "trainy0 = trainy[trainy == 0]\n",
        "\n",
        "trainy_name1 = trainy_name[trainy == 1]\n",
        "trainy_name0 = trainy_name[trainy == 0]\n",
        "\n",
        "testy1 = testy[testy == 1]\n",
        "testy0 = testy[testy == 0]\n",
        "\n",
        "testy_name1 = testy_name[testy == 1]\n",
        "testy_name0 = testy_name[testy == 0]\n"
      ],
      "execution_count": null,
      "outputs": []
    },
    {
      "cell_type": "code",
      "metadata": {
        "colab": {
          "base_uri": "https://localhost:8080/"
        },
        "id": "X8NR0zR8gow3",
        "outputId": "cf0cfc73-d1e8-4cb2-930d-4a6b8648a613"
      },
      "source": [
        "testy_name1[:5],testy_name0[:5],testy1[:5],testy0[:5],testy_name1.shape,len(testy1),testy_name0.shape,len(testy0),trainy_name0.shape,trainy_name1.shape"
      ],
      "execution_count": null,
      "outputs": [
        {
          "output_type": "execute_result",
          "data": {
            "text/plain": [
              "(551869    ID_bb62bea9e\n",
              " 17032     ID_05cc0fc94\n",
              " 174166    ID_3b29823f0\n",
              " 273969    ID_5cf0d7397\n",
              " 622711    ID_d3a236047\n",
              " Name: ID, dtype: object, 108780    ID_24f7cfc41\n",
              " 3397      ID_012b0d238\n",
              " 86943     ID_1d88058ff\n",
              " 689375    ID_ea722c4e5\n",
              " 81401     ID_1b9de2922\n",
              " Name: ID, dtype: object, array([1, 1, 1, 1, 1]), array([0, 0, 0, 0, 0]), (35821,), 35821, (212535,), 212535, (432334,), (72112,))"
            ]
          },
          "metadata": {
            "tags": []
          },
          "execution_count": 24
        }
      ]
    },
    {
      "cell_type": "code",
      "metadata": {
        "id": "Ax6mI1rCEPL5"
      },
      "source": [
        "from tensorflow.keras.utils import to_categorical\n",
        "\n",
        "trainy_hot = to_categorical(trainy)\n",
        "testy_hot = to_categorical(testy)\n",
        "\n",
        "trainy_hot1 = to_categorical(trainy1)\n",
        "trainy_hot0 = to_categorical(np.append(1, trainy0))[1:]\n",
        "\n",
        "testy_hot1 = to_categorical(testy1)\n",
        "testy_hot0 = to_categorical(np.append(1, testy0))[1:]"
      ],
      "execution_count": null,
      "outputs": []
    },
    {
      "cell_type": "markdown",
      "metadata": {
        "id": "iyDexVwE72rh"
      },
      "source": [
        "### Augmentation"
      ]
    },
    {
      "cell_type": "code",
      "metadata": {
        "id": "JhxqcLcLTLwK"
      },
      "source": [
        "from tensorflow.keras.preprocessing.image import ImageDataGenerator\n",
        "from matplotlib import pyplot\n",
        "\n",
        "ImgAug = ImageDataGenerator(\n",
        "        rescale=1./255,\n",
        "        rotation_range=10,\n",
        "        zoom_range=0.1,\n",
        "        width_shift_range=0.1,\n",
        "        height_shift_range=0.1,\n",
        "        horizontal_flip=False,\n",
        "        brightness_range = (0.9,1.1),\n",
        "        fill_mode='nearest'\n",
        "        )\n",
        "\n",
        "img = mpimg.imread(\"/content/kaggle/working/output/stage_2_train/ID_023f03565.png\")\n",
        "img = expand_dims(img, -1)\n",
        "imgttt = np.array([img])\n",
        "# imgttt = np.array([(resize(imread(\"/content/kaggle/working/output/stage_2_train/ID_023f03565.png\"), (128, 128, 3))- 127.5)/127.5])\n",
        "# imgttt = np.array([imread(\"/content/kaggle/working/output/stage_2_train/ID_023f03565.png\")])\n",
        "it = ImgAug.flow(imgttt, batch_size=1)\n",
        "for i in range(9):\n",
        "\t# define subplot\n",
        "\tpyplot.subplot(330 + 1 + i)\n",
        "\t# generate batch of images\n",
        "\tbatch = it.next()\n",
        "\t# convert to unsigned integers for viewing\n",
        "\timage = batch[0].astype('uint8')\n",
        "\t# plot raw pixel data\n",
        "\tpyplot.imshow(image)\n",
        "# show the figure\n",
        "pyplot.show()"
      ],
      "execution_count": null,
      "outputs": []
    },
    {
      "cell_type": "markdown",
      "metadata": {
        "id": "4AkTk6T38aUe"
      },
      "source": [
        "## Custom Generator"
      ]
    },
    {
      "cell_type": "code",
      "metadata": {
        "id": "71othb018aUe"
      },
      "source": [
        "# import tensorflow\n",
        "class My_Custom_Generator(tf.keras.utils.Sequence):\n",
        "  \n",
        "  def __init__(self, image_filenames, image_filenames0, image_filenames1, labels0, labels1, batch_size, batch_size0, batch_size1) :\n",
        "    self.image_filenames = image_filenames\n",
        "    self.image_filenames0 = image_filenames0\n",
        "    self.image_filenames1 = image_filenames1\n",
        "    self.labels0 = labels0\n",
        "    self.labels1 = labels1\n",
        "    self.batch_size = batch_size\n",
        "    self.batch_size0 = batch_size0\n",
        "    self.batch_size1 = batch_size1\n",
        "    \n",
        "    \n",
        "  def __len__(self) :\n",
        "    return (np.ceil(len(self.image_filenames) / float(self.batch_size))).astype(np.int)\n",
        "  \n",
        "  # split train -+, extract from both list, shuff\n",
        "  def __getitem__(self, idx):\n",
        "    rdm_seed = random.randint(0,1000)\n",
        "    np.random.seed(rdm_seed)\n",
        "    np.random.permutation(self.image_filenames0)\n",
        "    np.random.permutation(self.image_filenames1)\n",
        "\n",
        "    batch_x0 = self.image_filenames0[(idx*self.batch_size0) : ((idx+1)*self.batch_size0)]\n",
        "    batch_x1 = self.image_filenames1[(idx*self.batch_size1) : ((idx+1)*self.batch_size1)]\n",
        "    batch_x = batch_x0.append(batch_x1)\n",
        "\n",
        "    batch_y0 = self.labels0[(idx * self.batch_size0) : ((idx+1) * self.batch_size0)]\n",
        "    batch_y1 = self.labels1[(idx * self.batch_size1) : ((idx+1) * self.batch_size1)]\n",
        "    batch_y = np.concatenate([batch_y0,batch_y1])\n",
        "    \n",
        "    return (np.array([\n",
        "            resize(imread(datapath + '/' + str(file_name)+ '.png'), (128, 128, 3))\n",
        "               for file_name in batch_x])- 127.5)/127.5, np.array(batch_y)"
      ],
      "execution_count": null,
      "outputs": []
    },
    {
      "cell_type": "code",
      "metadata": {
        "id": "FrwV9F578aUe"
      },
      "source": [
        "# import tensorflow\n",
        "class Test_Generator(tf.keras.utils.Sequence):\n",
        "  \n",
        "  def __init__(self, image_filenames, labels, batch_size) :\n",
        "    self.image_filenames = image_filenames\n",
        "    self.labels = labels\n",
        "    self.batch_size = batch_size\n",
        "    \n",
        "    \n",
        "  def __len__(self) :\n",
        "    return (np.ceil(len(self.image_filenames) / float(self.batch_size))).astype(np.int)\n",
        "  \n",
        "  # split train -+, extract from both list, shuff\n",
        "  def __getitem__(self, idx):\n",
        "    batch_x = self.image_filenames[(idx*self.batch_size) : ((idx+1)*self.batch_size)]\n",
        "    batch_y = self.labels[(idx * self.batch_size) : ((idx+1) * self.batch_size)]\n",
        "    \n",
        "    return (np.array([\n",
        "            resize(imread(datapath + '/' + str(file_name)+ '.png'), (128, 128, 3))\n",
        "               for file_name in batch_x])- 127.5)/127.5, np.array(batch_y)"
      ],
      "execution_count": null,
      "outputs": []
    },
    {
      "cell_type": "code",
      "metadata": {
        "id": "dmsYwOJF8aUe"
      },
      "source": [
        "batch_size = 50\n",
        "prop = 0.5\n",
        "batch_size0 = int(batch_size*(1-prop))\n",
        "batch_size1 = int(batch_size*prop)\n",
        "# ntest = ntrain = 10000\n",
        "ntrain = len(trainy1)*2\n",
        "\n",
        "my_training_batch_generator = My_Custom_Generator(trainy_name[:ntrain], trainy_name0,trainy_name1, trainy_hot0,trainy_hot1, batch_size, batch_size0,batch_size1)\n",
        "my_validation_batch_generator = Test_Generator(testy_name[:ntest], testy_hot[:ntest], batch_size)"
      ],
      "execution_count": null,
      "outputs": []
    },
    {
      "cell_type": "code",
      "metadata": {
        "colab": {
          "base_uri": "https://localhost:8080/"
        },
        "id": "3OYT00kEXeG_",
        "outputId": "5d2f5903-452c-4f4c-b55b-b62513e14fa5"
      },
      "source": [
        "import matplotlib.pyplot as plt\n",
        "import matplotlib.image as mpimg\n",
        "img = mpimg.imread(\"/content/kaggle/working/output/stage_2_train/ID_023f03565.png\")\n",
        "img = expand_dims(img, 0)\n",
        "type(img)\n",
        "# plt.imshow(img)"
      ],
      "execution_count": null,
      "outputs": [
        {
          "output_type": "execute_result",
          "data": {
            "text/plain": [
              "numpy.ndarray"
            ]
          },
          "metadata": {
            "tags": []
          },
          "execution_count": 136
        }
      ]
    },
    {
      "cell_type": "markdown",
      "metadata": {
        "id": "cFHhG2CK8Gqj"
      },
      "source": [
        "## VGG Model"
      ]
    },
    {
      "cell_type": "code",
      "metadata": {
        "id": "7wmnYGTTBJYo"
      },
      "source": [
        "import numpy as np\n",
        "import pandas as pd\n",
        "\n",
        "from skimage.io import imread\n",
        "from skimage.transform import resize\n",
        "\n",
        "# !pip install tensorflow\n",
        "from tensorflow.keras.utils import Sequence\n",
        "from tensorflow.keras.models import Sequential, Model, load_model\n",
        "from tensorflow.keras.layers import Input, Conv1D, Conv2D, MaxPooling1D, MaxPooling2D, Dense, Dropout, Activation, Flatten\n",
        "from tensorflow.keras.layers import BatchNormalization\n",
        "from tensorflow.keras.utils import to_categorical"
      ],
      "execution_count": null,
      "outputs": []
    },
    {
      "cell_type": "markdown",
      "metadata": {
        "id": "fDDtWaIvc3mW"
      },
      "source": [
        "#### VGG similar model"
      ]
    },
    {
      "cell_type": "code",
      "metadata": {
        "colab": {
          "base_uri": "https://localhost:8080/"
        },
        "collapsed": true,
        "id": "aXWFmD42BCxO",
        "outputId": "a411ea70-89b1-48fa-cf95-99690d42ba53"
      },
      "source": [
        "model = Sequential()\n",
        "\n",
        "model.add(Conv2D(filters = 64, kernel_size = (5,5), activation ='relu',input_shape=(128,128,3)))\n",
        "model.add(BatchNormalization(axis=3))\n",
        "model.add(Conv2D(filters = 64, kernel_size = (5,5), activation ='relu'))\n",
        "model.add(MaxPooling2D(pool_size=(2,2)))\n",
        "model.add(BatchNormalization(axis=3))\n",
        "model.add(Dropout(0.25))\n",
        "\n",
        "model.add(Conv2D(filters = 128, kernel_size = (5,5), activation ='relu'))\n",
        "model.add(BatchNormalization(axis=3))\n",
        "model.add(Conv2D(filters = 128, kernel_size = (5,5), activation ='relu'))\n",
        "model.add(MaxPooling2D(pool_size=(2,2)))\n",
        "model.add(BatchNormalization(axis=3))\n",
        "model.add(Dropout(0.25))\n",
        "\n",
        "model.add(Conv2D(filters = 256, kernel_size = (5,5), activation ='relu'))\n",
        "model.add(BatchNormalization(axis=3))\n",
        "model.add(Conv2D(filters = 256, kernel_size = (5,5), activation ='relu'))\n",
        "model.add(MaxPooling2D(pool_size=(2,2)))\n",
        "model.add(BatchNormalization(axis=3))\n",
        "model.add(Dropout(0.25))\n",
        "\n",
        "model.add(Flatten())\n",
        "\n",
        "model.add(Dense(256, activation = \"relu\")) #Fully connected layer\n",
        "model.add(BatchNormalization())\n",
        "model.add(Dropout(0.5))\n",
        "\n",
        "model.add(Dense(60, activation = \"relu\")) #Fully connected layer\n",
        "model.add(BatchNormalization())\n",
        "model.add(Dropout(0.5))\n",
        "\n",
        "model.add(Dense(2, activation = \"softmax\")) #Classification layer or output layer\n",
        "\n",
        "model.compile(optimizer=\"adam\", loss='categorical_crossentropy', metrics=['accuracy'])\n",
        "\n",
        "model.summary()"
      ],
      "execution_count": null,
      "outputs": [
        {
          "output_type": "stream",
          "text": [
            "Model: \"sequential_1\"\n",
            "_________________________________________________________________\n",
            "Layer (type)                 Output Shape              Param #   \n",
            "=================================================================\n",
            "conv2d_6 (Conv2D)            (None, 124, 124, 64)      4864      \n",
            "_________________________________________________________________\n",
            "batch_normalization (BatchNo (None, 124, 124, 64)      256       \n",
            "_________________________________________________________________\n",
            "conv2d_7 (Conv2D)            (None, 120, 120, 64)      102464    \n",
            "_________________________________________________________________\n",
            "max_pooling2d_3 (MaxPooling2 (None, 60, 60, 64)        0         \n",
            "_________________________________________________________________\n",
            "batch_normalization_1 (Batch (None, 60, 60, 64)        256       \n",
            "_________________________________________________________________\n",
            "dropout_5 (Dropout)          (None, 60, 60, 64)        0         \n",
            "_________________________________________________________________\n",
            "conv2d_8 (Conv2D)            (None, 56, 56, 128)       204928    \n",
            "_________________________________________________________________\n",
            "batch_normalization_2 (Batch (None, 56, 56, 128)       512       \n",
            "_________________________________________________________________\n",
            "conv2d_9 (Conv2D)            (None, 52, 52, 128)       409728    \n",
            "_________________________________________________________________\n",
            "max_pooling2d_4 (MaxPooling2 (None, 26, 26, 128)       0         \n",
            "_________________________________________________________________\n",
            "batch_normalization_3 (Batch (None, 26, 26, 128)       512       \n",
            "_________________________________________________________________\n",
            "dropout_6 (Dropout)          (None, 26, 26, 128)       0         \n",
            "_________________________________________________________________\n",
            "conv2d_10 (Conv2D)           (None, 22, 22, 256)       819456    \n",
            "_________________________________________________________________\n",
            "batch_normalization_4 (Batch (None, 22, 22, 256)       1024      \n",
            "_________________________________________________________________\n",
            "conv2d_11 (Conv2D)           (None, 18, 18, 256)       1638656   \n",
            "_________________________________________________________________\n",
            "max_pooling2d_5 (MaxPooling2 (None, 9, 9, 256)         0         \n",
            "_________________________________________________________________\n",
            "batch_normalization_5 (Batch (None, 9, 9, 256)         1024      \n",
            "_________________________________________________________________\n",
            "dropout_7 (Dropout)          (None, 9, 9, 256)         0         \n",
            "_________________________________________________________________\n",
            "flatten_1 (Flatten)          (None, 20736)             0         \n",
            "_________________________________________________________________\n",
            "dense_3 (Dense)              (None, 256)               5308672   \n",
            "_________________________________________________________________\n",
            "batch_normalization_6 (Batch (None, 256)               1024      \n",
            "_________________________________________________________________\n",
            "dropout_8 (Dropout)          (None, 256)               0         \n",
            "_________________________________________________________________\n",
            "dense_4 (Dense)              (None, 60)                15420     \n",
            "_________________________________________________________________\n",
            "batch_normalization_7 (Batch (None, 60)                240       \n",
            "_________________________________________________________________\n",
            "dropout_9 (Dropout)          (None, 60)                0         \n",
            "_________________________________________________________________\n",
            "dense_5 (Dense)              (None, 2)                 122       \n",
            "=================================================================\n",
            "Total params: 8,509,158\n",
            "Trainable params: 8,506,734\n",
            "Non-trainable params: 2,424\n",
            "_________________________________________________________________\n"
          ],
          "name": "stdout"
        }
      ]
    },
    {
      "cell_type": "markdown",
      "metadata": {
        "id": "at--SHZRJZFd"
      },
      "source": [
        "#### VGG16"
      ]
    },
    {
      "cell_type": "code",
      "metadata": {
        "colab": {
          "base_uri": "https://localhost:8080/"
        },
        "id": "mOKVSOuSIINp",
        "outputId": "9e98a86b-e84f-429d-f2c5-a9efa4c6da80"
      },
      "source": [
        "import tensorflow as tf\n",
        "from tensorflow.keras.applications.vgg19 import VGG19\n",
        "\n",
        "base_model = VGG19(input_shape = (128, 128, 3), # Shape of our images\n",
        "include_top = False, # Leave out the last fully connected layer\n",
        "weights = 'imagenet')\n",
        "\n",
        "for layer in base_model.layers:\n",
        "    layer.trainable = False\n",
        "\n",
        "x = layers.Flatten()(base_model.output)\n",
        "\n",
        "# Add a fully connected layer with 512 hidden units and ReLU activation\n",
        "x = layers.Dense(512, activation='relu')(x)\n",
        "# Add a dropout rate of 0.5\n",
        "x = layers.Dropout(0.5)(x)\n",
        "\n",
        "# x = layers.Dense(256, activation='relu')(x)\n",
        "# x = layers.Dropout(0.5)(x)\n",
        "\n",
        "# Add a final sigmoid layer for classification\n",
        "x = layers.Dense(2, activation='softmax')(x)\n",
        "\n",
        "model = tf.keras.models.Model(base_model.input, x)\n",
        "model.compile(optimizer=\"adam\", loss='categorical_crossentropy', metrics=['accuracy'])\n",
        "\n",
        "model.summary()"
      ],
      "execution_count": null,
      "outputs": [
        {
          "output_type": "stream",
          "text": [
            "Downloading data from https://storage.googleapis.com/tensorflow/keras-applications/vgg19/vgg19_weights_tf_dim_ordering_tf_kernels_notop.h5\n",
            "80142336/80134624 [==============================] - 1s 0us/step\n",
            "Model: \"model_4\"\n",
            "_________________________________________________________________\n",
            "Layer (type)                 Output Shape              Param #   \n",
            "=================================================================\n",
            "input_12 (InputLayer)        [(None, 128, 128, 3)]     0         \n",
            "_________________________________________________________________\n",
            "block1_conv1 (Conv2D)        (None, 128, 128, 64)      1792      \n",
            "_________________________________________________________________\n",
            "block1_conv2 (Conv2D)        (None, 128, 128, 64)      36928     \n",
            "_________________________________________________________________\n",
            "block1_pool (MaxPooling2D)   (None, 64, 64, 64)        0         \n",
            "_________________________________________________________________\n",
            "block2_conv1 (Conv2D)        (None, 64, 64, 128)       73856     \n",
            "_________________________________________________________________\n",
            "block2_conv2 (Conv2D)        (None, 64, 64, 128)       147584    \n",
            "_________________________________________________________________\n",
            "block2_pool (MaxPooling2D)   (None, 32, 32, 128)       0         \n",
            "_________________________________________________________________\n",
            "block3_conv1 (Conv2D)        (None, 32, 32, 256)       295168    \n",
            "_________________________________________________________________\n",
            "block3_conv2 (Conv2D)        (None, 32, 32, 256)       590080    \n",
            "_________________________________________________________________\n",
            "block3_conv3 (Conv2D)        (None, 32, 32, 256)       590080    \n",
            "_________________________________________________________________\n",
            "block3_conv4 (Conv2D)        (None, 32, 32, 256)       590080    \n",
            "_________________________________________________________________\n",
            "block3_pool (MaxPooling2D)   (None, 16, 16, 256)       0         \n",
            "_________________________________________________________________\n",
            "block4_conv1 (Conv2D)        (None, 16, 16, 512)       1180160   \n",
            "_________________________________________________________________\n",
            "block4_conv2 (Conv2D)        (None, 16, 16, 512)       2359808   \n",
            "_________________________________________________________________\n",
            "block4_conv3 (Conv2D)        (None, 16, 16, 512)       2359808   \n",
            "_________________________________________________________________\n",
            "block4_conv4 (Conv2D)        (None, 16, 16, 512)       2359808   \n",
            "_________________________________________________________________\n",
            "block4_pool (MaxPooling2D)   (None, 8, 8, 512)         0         \n",
            "_________________________________________________________________\n",
            "block5_conv1 (Conv2D)        (None, 8, 8, 512)         2359808   \n",
            "_________________________________________________________________\n",
            "block5_conv2 (Conv2D)        (None, 8, 8, 512)         2359808   \n",
            "_________________________________________________________________\n",
            "block5_conv3 (Conv2D)        (None, 8, 8, 512)         2359808   \n",
            "_________________________________________________________________\n",
            "block5_conv4 (Conv2D)        (None, 8, 8, 512)         2359808   \n",
            "_________________________________________________________________\n",
            "block5_pool (MaxPooling2D)   (None, 4, 4, 512)         0         \n",
            "_________________________________________________________________\n",
            "flatten_7 (Flatten)          (None, 8192)              0         \n",
            "_________________________________________________________________\n",
            "dense_16 (Dense)             (None, 512)               4194816   \n",
            "_________________________________________________________________\n",
            "dropout_15 (Dropout)         (None, 512)               0         \n",
            "_________________________________________________________________\n",
            "dense_17 (Dense)             (None, 2)                 1026      \n",
            "=================================================================\n",
            "Total params: 24,220,226\n",
            "Trainable params: 4,195,842\n",
            "Non-trainable params: 20,024,384\n",
            "_________________________________________________________________\n"
          ],
          "name": "stdout"
        }
      ]
    },
    {
      "cell_type": "markdown",
      "metadata": {
        "id": "AOCylJuWPj9W"
      },
      "source": [
        "## ResNet"
      ]
    },
    {
      "cell_type": "code",
      "metadata": {
        "id": "aD1qLKNIPGFL"
      },
      "source": [
        "# Fixed for our Cats & Dogs classes\n",
        "NUM_CLASSES = 2\n",
        "\n",
        "# Fixed for Cats & Dogs color images\n",
        "CHANNELS = 3\n",
        "\n",
        "IMAGE_RESIZE = 128\n",
        "RESNET50_POOLING_AVERAGE = 'avg'\n",
        "DENSE_LAYER_ACTIVATION = 'softmax'\n",
        "OBJECTIVE_FUNCTION = 'categorical_crossentropy'\n",
        "\n",
        "import tensorflow as tf\n",
        "from tensorflow.keras.applications.resnet import ResNet101"
      ],
      "execution_count": null,
      "outputs": []
    },
    {
      "cell_type": "code",
      "metadata": {
        "colab": {
          "base_uri": "https://localhost:8080/"
        },
        "id": "JaIXxNljPnUm",
        "outputId": "6be376c0-856e-4fd6-eba0-e8c986bd166b"
      },
      "source": [
        "\n",
        "model = Sequential()\n",
        "\n",
        "# 1st layer as the lumpsum weights from resnet50_weights_tf_dim_ordering_tf_kernels_notop.h5\n",
        "# NOTE that this layer will be set below as NOT TRAINABLE, i.e., use it as is\n",
        "model.add(ResNet101(include_top = False, pooling = RESNET50_POOLING_AVERAGE, weights = 'imagenet'))\n",
        "\n",
        "# model.add(Dense(512, activation = \"relu\")) #Fully connected layer\n",
        "# model.add(Dropout(0.5))\n",
        "\n",
        "# 2nd layer as Dense for 2-class classification, i.e., dog or cat using SoftMax activation\n",
        "model.add(Dense(NUM_CLASSES, activation = DENSE_LAYER_ACTIVATION))\n",
        "\n",
        "# Say not to train first layer (ResNet) model as it is already trained\n",
        "model.layers[0].trainable = False\n",
        "\n",
        "model.compile(optimizer=\"adam\", loss='categorical_crossentropy', metrics=['accuracy'])\n",
        "\n",
        "model.summary()"
      ],
      "execution_count": null,
      "outputs": [
        {
          "output_type": "stream",
          "text": [
            "Downloading data from https://storage.googleapis.com/tensorflow/keras-applications/resnet/resnet101_weights_tf_dim_ordering_tf_kernels_notop.h5\n",
            "171450368/171446536 [==============================] - 1s 0us/step\n",
            "Model: \"sequential\"\n",
            "_________________________________________________________________\n",
            "Layer (type)                 Output Shape              Param #   \n",
            "=================================================================\n",
            "resnet101 (Functional)       (None, 2048)              42658176  \n",
            "_________________________________________________________________\n",
            "dense (Dense)                (None, 2)                 4098      \n",
            "=================================================================\n",
            "Total params: 42,662,274\n",
            "Trainable params: 4,098\n",
            "Non-trainable params: 42,658,176\n",
            "_________________________________________________________________\n"
          ],
          "name": "stdout"
        }
      ]
    },
    {
      "cell_type": "markdown",
      "metadata": {
        "id": "QlEHWaQE8Jgn"
      },
      "source": [
        "## model fit"
      ]
    },
    {
      "cell_type": "code",
      "metadata": {
        "colab": {
          "base_uri": "https://localhost:8080/"
        },
        "id": "rz-YMePlIV7t",
        "outputId": "aad165bd-6108-4aee-cc6c-4781d03da188"
      },
      "source": [
        "H = model.fit(my_training_batch_generator,\n",
        "                        steps_per_epoch = int(ntrain//batch_size),\n",
        "                        epochs = 1,\n",
        "                        verbose = 1,\n",
        "                        validation_data = my_validation_batch_generator,\n",
        "                        validation_steps = int(ntest//batch_size))\n",
        "# run 2/3 epochs, shorter epochs (not run all data) (eg. steps_per_epoch smaller)"
      ],
      "execution_count": null,
      "outputs": [
        {
          "output_type": "stream",
          "text": [
            "2871/2871 [==============================] - 3746s 1s/step - loss: 0.6932 - accuracy: 0.5822 - val_loss: 0.6931 - val_accuracy: 0.5097\n"
          ],
          "name": "stdout"
        }
      ]
    },
    {
      "cell_type": "code",
      "metadata": {
        "colab": {
          "base_uri": "https://localhost:8080/"
        },
        "id": "MVRoMW3l1tzy",
        "outputId": "55cfa9c4-e00c-4039-bc67-b9a8361b9040"
      },
      "source": [
        "model.save('/content/drive/MyDrive/CHL7001/GroupProject/Model/MyModel_ResNet_alldata_tf',save_format='tf')"
      ],
      "execution_count": null,
      "outputs": [
        {
          "output_type": "stream",
          "text": [
            "/usr/local/lib/python3.7/dist-packages/tensorflow/python/keras/utils/generic_utils.py:497: CustomMaskWarning: Custom mask layers require a config and must override get_config. When loading, the custom mask layer must be passed to the custom_objects argument.\n",
            "  category=CustomMaskWarning)\n"
          ],
          "name": "stderr"
        },
        {
          "output_type": "stream",
          "text": [
            "INFO:tensorflow:Assets written to: /content/drive/MyDrive/CHL7001/GroupProject/Model/MyModel_ResNet_alldata_tf/assets\n"
          ],
          "name": "stdout"
        }
      ]
    },
    {
      "cell_type": "code",
      "metadata": {
        "id": "YfFpQNOU4wCg"
      },
      "source": [
        "new_model = tensorflow.keras.models.load_model('/content/drive/MyDrive/CHL7001/GroupProject/Model/MyModel_ResNet_alldata_tf')"
      ],
      "execution_count": null,
      "outputs": []
    },
    {
      "cell_type": "code",
      "metadata": {
        "colab": {
          "base_uri": "https://localhost:8080/"
        },
        "id": "h-Wrub8X469v",
        "outputId": "5c583e2f-757a-4daa-bf55-859da4ccf8d3"
      },
      "source": [
        "H_new = new_model.fit(my_training_batch_generator,\n",
        "                        steps_per_epoch = int(ntrain//batch_size),\n",
        "                        epochs = 1,\n",
        "                        verbose = 1,\n",
        "                        validation_data = my_validation_batch_generator,\n",
        "                        validation_steps = int(ntest//batch_size))"
      ],
      "execution_count": null,
      "outputs": [
        {
          "output_type": "stream",
          "text": [
            "2884/2884 [==============================] - 4715s 2s/step - loss: 0.6921 - accuracy: 0.6172 - val_loss: 0.6912 - val_accuracy: 0.6287\n"
          ],
          "name": "stdout"
        }
      ]
    },
    {
      "cell_type": "code",
      "metadata": {
        "colab": {
          "base_uri": "https://localhost:8080/"
        },
        "id": "IXKF-JEJDz3o",
        "outputId": "4c1aeb3c-d964-44e2-c666-29eb7af1309a"
      },
      "source": [
        "new_model.save('/content/drive/MyDrive/CHL7001/GroupProject/Model/MyModel_ResNet_alldata_tf_epoch2',save_format='tf')"
      ],
      "execution_count": null,
      "outputs": [
        {
          "output_type": "stream",
          "text": [
            "/usr/local/lib/python3.7/dist-packages/tensorflow/python/keras/utils/generic_utils.py:497: CustomMaskWarning: Custom mask layers require a config and must override get_config. When loading, the custom mask layer must be passed to the custom_objects argument.\n",
            "  category=CustomMaskWarning)\n"
          ],
          "name": "stderr"
        },
        {
          "output_type": "stream",
          "text": [
            "INFO:tensorflow:Assets written to: /content/drive/MyDrive/CHL7001/GroupProject/Model/MyModel_ResNet_alldata_tf_epoch2/assets\n"
          ],
          "name": "stdout"
        }
      ]
    },
    {
      "cell_type": "code",
      "metadata": {
        "id": "zz2fHfMOlhoS"
      },
      "source": [
        "model = new_model\n",
        "H = H_new"
      ],
      "execution_count": null,
      "outputs": []
    },
    {
      "cell_type": "markdown",
      "metadata": {
        "id": "hK20AOtz8Qe7"
      },
      "source": [
        "## Prediction"
      ]
    },
    {
      "cell_type": "code",
      "metadata": {
        "id": "aI0KJtAThCT9"
      },
      "source": [
        "predIdxs = model.predict(my_validation_batch_generator, batch_size=50)\n",
        "predIdxs2 = np.argmax(predIdxs, axis=1)"
      ],
      "execution_count": null,
      "outputs": []
    },
    {
      "cell_type": "code",
      "metadata": {
        "id": "uQHoEzUJ-nI3",
        "colab": {
          "base_uri": "https://localhost:8080/"
        },
        "outputId": "2946220d-9059-44cf-bba2-51b75d610f32"
      },
      "source": [
        "predIdxs[:50]"
      ],
      "execution_count": null,
      "outputs": [
        {
          "output_type": "execute_result",
          "data": {
            "text/plain": [
              "array([[0.49955565, 0.50044435],\n",
              "       [0.5062912 , 0.49370882],\n",
              "       [0.49917808, 0.50082195],\n",
              "       [0.49883872, 0.5011613 ],\n",
              "       [0.50228274, 0.4977173 ],\n",
              "       [0.5050871 , 0.49491292],\n",
              "       [0.49868348, 0.50131655],\n",
              "       [0.49848664, 0.50151336],\n",
              "       [0.5010008 , 0.49899924],\n",
              "       [0.50655806, 0.49344188],\n",
              "       [0.4992823 , 0.50071764],\n",
              "       [0.49909866, 0.50090134],\n",
              "       [0.50145084, 0.49854913],\n",
              "       [0.5026435 , 0.4973564 ],\n",
              "       [0.4989257 , 0.5010743 ],\n",
              "       [0.50175923, 0.49824077],\n",
              "       [0.49859053, 0.5014095 ],\n",
              "       [0.4986893 , 0.5013107 ],\n",
              "       [0.5063118 , 0.49368823],\n",
              "       [0.49928164, 0.50071836],\n",
              "       [0.49909952, 0.5009005 ],\n",
              "       [0.5006814 , 0.49931863],\n",
              "       [0.49840218, 0.5015978 ],\n",
              "       [0.50470465, 0.49529532],\n",
              "       [0.4985515 , 0.5014485 ],\n",
              "       [0.50033253, 0.49966747],\n",
              "       [0.5018277 , 0.4981723 ],\n",
              "       [0.49904063, 0.50095934],\n",
              "       [0.4995749 , 0.5004251 ],\n",
              "       [0.501196  , 0.49880394],\n",
              "       [0.5022468 , 0.4977532 ],\n",
              "       [0.5006105 , 0.4993895 ],\n",
              "       [0.49892014, 0.50107986],\n",
              "       [0.50095737, 0.4990427 ],\n",
              "       [0.4987764 , 0.50122356],\n",
              "       [0.5021881 , 0.4978119 ],\n",
              "       [0.5012764 , 0.49872363],\n",
              "       [0.49843225, 0.5015678 ],\n",
              "       [0.5011109 , 0.49888903],\n",
              "       [0.49809211, 0.5019079 ],\n",
              "       [0.50179344, 0.49820656],\n",
              "       [0.5010119 , 0.4989881 ],\n",
              "       [0.49955073, 0.5004493 ],\n",
              "       [0.5041686 , 0.49583134],\n",
              "       [0.4985168 , 0.5014832 ],\n",
              "       [0.49793872, 0.50206125],\n",
              "       [0.49832323, 0.50167674],\n",
              "       [0.5003575 , 0.49964246],\n",
              "       [0.4974744 , 0.5025256 ],\n",
              "       [0.4976841 , 0.50231594]], dtype=float32)"
            ]
          },
          "metadata": {
            "tags": []
          },
          "execution_count": 37
        }
      ]
    },
    {
      "cell_type": "code",
      "metadata": {
        "id": "iEDsDTkIDMyA",
        "colab": {
          "base_uri": "https://localhost:8080/"
        },
        "outputId": "4351eabb-e361-4aa4-ca23-919963b7adf3"
      },
      "source": [
        "from collections import Counter\n",
        "Counter(predIdxs2),Counter(testy[:ntest])"
      ],
      "execution_count": null,
      "outputs": [
        {
          "output_type": "execute_result",
          "data": {
            "text/plain": [
              "(Counter({0: 144343, 1: 104013}), Counter({0: 212535, 1: 35821}))"
            ]
          },
          "metadata": {
            "tags": []
          },
          "execution_count": 36
        }
      ]
    },
    {
      "cell_type": "markdown",
      "metadata": {
        "id": "o2ZnJ9NdnWZD"
      },
      "source": [
        "# Evaluation"
      ]
    },
    {
      "cell_type": "code",
      "metadata": {
        "id": "JENFdpTAxX1c"
      },
      "source": [
        "#evaluation function\n",
        "from sklearn import metrics\n",
        "from sklearn.metrics import roc_auc_score \n",
        "def FEvaluatation(model,ntest,pred_prob,pred,testy):\n",
        "\n",
        "  #confusion matrix\n",
        "  confusion = metrics.confusion_matrix(testy[:ntest], pred_prob)\n",
        "\n",
        "  #ROC\n",
        "  AUC = metrics.roc_auc_score(testy[:ntest], pred[:,1]) # AUC score\n",
        "  \n",
        "  print(confusion,AUC)"
      ],
      "execution_count": null,
      "outputs": []
    },
    {
      "cell_type": "code",
      "metadata": {
        "id": "lx8SmnShHmlF",
        "colab": {
          "base_uri": "https://localhost:8080/"
        },
        "outputId": "07930eba-b576-4b6a-a987-737dae9a9768"
      },
      "source": [
        "FEvaluatation(model,ntest,predIdxs2,predIdxs,testy)"
      ],
      "execution_count": null,
      "outputs": [
        {
          "output_type": "stream",
          "text": [
            "[[132331  80204]\n",
            " [ 12012  23809]] 0.687831433110477\n"
          ],
          "name": "stdout"
        }
      ]
    },
    {
      "cell_type": "markdown",
      "metadata": {
        "id": "wqW9Yhy_Y9vO"
      },
      "source": [
        "in one function, recall, spec, "
      ]
    },
    {
      "cell_type": "markdown",
      "metadata": {
        "id": "rZD_fx5Y_Jzo"
      },
      "source": [
        "## Confusion Matrix"
      ]
    },
    {
      "cell_type": "code",
      "metadata": {
        "id": "52CA6hC4FVYd"
      },
      "source": [
        "from sklearn import metrics\n",
        "from sklearn.metrics import roc_auc_score "
      ],
      "execution_count": null,
      "outputs": []
    },
    {
      "cell_type": "code",
      "metadata": {
        "id": "KgfiBUTL_IbY",
        "colab": {
          "base_uri": "https://localhost:8080/"
        },
        "outputId": "21918258-6b8f-41ac-af19-2ef8fe008f8a"
      },
      "source": [
        "# confusion matrix - simple version\n",
        "\n",
        "  # y_pred_class is the class predictions for the testing set\n",
        "  # a vector of 0s and 1s\n",
        "\n",
        "confusion = metrics.confusion_matrix(testy[:ntest], predIdxs2)\n",
        "print(confusion)\n",
        "#[row, column]"
      ],
      "execution_count": null,
      "outputs": [
        {
          "output_type": "stream",
          "text": [
            "[[132331  80204]\n",
            " [ 12012  23809]]\n"
          ],
          "name": "stdout"
        }
      ]
    },
    {
      "cell_type": "code",
      "metadata": {
        "id": "xLtpNCLY_NtZ",
        "colab": {
          "base_uri": "https://localhost:8080/"
        },
        "outputId": "2ffd6a84-6414-4f99-b7ab-1fa4dbd352c2"
      },
      "source": [
        "TP = confusion[1, 1]\n",
        "TN = confusion[0, 0]\n",
        "FP = confusion[0, 1]\n",
        "FN = confusion[1, 0]\n",
        "sensitivity = TP / float(FN + TP)\n",
        "\n",
        "print((TP + TN) / float(TP + TN + FP + FN))\n",
        "print(metrics.accuracy_score(testy[:ntest], predIdxs2))\n",
        "print(sensitivity)"
      ],
      "execution_count": null,
      "outputs": [
        {
          "output_type": "stream",
          "text": [
            "0.6286942936752081\n",
            "0.6286942936752081\n",
            "0.664665978057564\n"
          ],
          "name": "stdout"
        }
      ]
    },
    {
      "cell_type": "markdown",
      "metadata": {
        "id": "kTeMBZc1JYqk"
      },
      "source": [
        "## ROC"
      ]
    },
    {
      "cell_type": "code",
      "metadata": {
        "colab": {
          "base_uri": "https://localhost:8080/"
        },
        "id": "NuBDv8JAIVPT",
        "outputId": "a3bab829-8b77-4acb-98b5-20608f6e4e4f"
      },
      "source": [
        "# AUC score\n",
        "# roc_auc = roc_auc_score(testy[:10000], predIdxs2)\n",
        "# roc_auc"
      ],
      "execution_count": null,
      "outputs": [
        {
          "output_type": "execute_result",
          "data": {
            "text/plain": [
              "0.5"
            ]
          },
          "metadata": {
            "tags": []
          },
          "execution_count": 86
        }
      ]
    },
    {
      "cell_type": "code",
      "metadata": {
        "id": "Dl5PUik5FOEO",
        "colab": {
          "base_uri": "https://localhost:8080/",
          "height": 313
        },
        "outputId": "07df6dfb-c125-403b-c2c2-6f110d987023"
      },
      "source": [
        " # ROC curve\n",
        "\n",
        "# \"y_test\" should be the y(label) values in the testing sets, \n",
        "# a vector of 0s and 1s\n",
        "\n",
        "# \"y_pred_prob\" is the stored predicted probabilities for class 1 \n",
        "# Class 1 means true\n",
        "\n",
        "fpr, tpr, thresholds = metrics.roc_curve(testy[:ntest], predIdxs[:,1])\n",
        "\n",
        "plt.plot(fpr, tpr)\n",
        "plt.xlim([0.0, 1.0])\n",
        "plt.ylim([0.0, 1.0])\n",
        "plt.rcParams['font.size'] = 12\n",
        "plt.title('ROC curve for _____ classifier')\n",
        "plt.xlabel('False Positive Rate (1 - Specificity)')\n",
        "plt.ylabel('True Positive Rate (Sensitivity)')\n",
        "plt.grid(True)\n",
        "\n",
        "print(metrics.roc_auc_score(testy[:ntest], predIdxs[:,1])) # AUC score"
      ],
      "execution_count": null,
      "outputs": [
        {
          "output_type": "stream",
          "text": [
            "0.687831433110477\n"
          ],
          "name": "stdout"
        },
        {
          "output_type": "display_data",
          "data": {
            "image/png": "[encoded data removed]",
            "text/plain": [
              "<Figure size 432x288 with 1 Axes>"
            ]
          },
          "metadata": {
            "tags": [],
            "needs_background": "light"
          }
        }
      ]
    },
    {
      "cell_type": "code",
      "metadata": {
        "id": "SPOsCw2r_RRX"
      },
      "source": [
        "accuracy = accuracy_score(#test_generator.classes, #y_pred)\n",
        "print(\"Accuracy in test set: %0.1f%% \" % (accuracy * 100))"
      ],
      "execution_count": null,
      "outputs": []
    },
    {
      "cell_type": "markdown",
      "metadata": {
        "id": "vt5u4AbLJecS"
      },
      "source": [
        "## Learn Rate"
      ]
    },
    {
      "cell_type": "code",
      "metadata": {
        "id": "bgxsbmHzJg_T"
      },
      "source": [
        "from sklearn.metrics import classification_report, confusion_matrix, accuracy_score\n",
        "# from plot_conf_matr import plot_confusion_matrix"
      ],
      "execution_count": null,
      "outputs": []
    },
    {
      "cell_type": "code",
      "metadata": {
        "id": "Dsir_w7TJmAs",
        "colab": {
          "base_uri": "https://localhost:8080/",
          "height": 553
        },
        "outputId": "ffd0fc93-6943-4d62-a9ea-bc56295a66e9"
      },
      "source": [
        "# learning curves\n",
        "\n",
        "acc = H.history['accuracy']\n",
        "val_acc = H.history['val_accuracy']\n",
        "loss = H.history['loss']\n",
        "val_loss = H.history['val_loss']\n",
        "epochs = range(1,len(acc)+1)\n",
        "plt.figure()\n",
        "plt.plot(epochs, acc, 'b', label = 'Training accuracy')\n",
        "plt.plot(epochs, val_acc, 'r', label='Validation accuracy')\n",
        "plt.title('Training and validation accuracy')\n",
        "plt.legend()\n",
        "plt.savefig('Accuracy.jpg')\n",
        "plt.figure()\n",
        "plt.plot(epochs, loss, 'b', label = 'Training loss')\n",
        "plt.plot(epochs, val_loss, 'r', label='Validation loss')\n",
        "plt.title('Training and validation loss')\n",
        "plt.legend()\n",
        "plt.savefig('Loss.jpg')"
      ],
      "execution_count": null,
      "outputs": [
        {
          "output_type": "display_data",
          "data": {
            "image/png": "[encoded data removed]",
            "text/plain": [
              "<Figure size 432x288 with 1 Axes>"
            ]
          },
          "metadata": {
            "tags": [],
            "needs_background": "light"
          }
        },
        {
          "output_type": "display_data",
          "data": {
            "image/png": "[encoded data removed]",
            "text/plain": [
              "<Figure size 432x288 with 1 Axes>"
            ]
          },
          "metadata": {
            "tags": [],
            "needs_background": "light"
          }
        }
      ]
    },
    {
      "cell_type": "markdown",
      "metadata": {
        "id": "b9zdKBB-LEk9"
      },
      "source": [
        "## Precision and Recall"
      ]
    },
    {
      "cell_type": "code",
      "metadata": {
        "id": "qKj2sKp5LHUR",
        "colab": {
          "base_uri": "https://localhost:8080/",
          "height": 336
        },
        "outputId": "a610da78-dc42-47be-ea28-c50a43b7556f"
      },
      "source": [
        "from sklearn.metrics import recall_score\n",
        "from sklearn.metrics import precision_recall_curve\n",
        "from sklearn.metrics import f1_score\n",
        "from sklearn.metrics import auc\n",
        "from matplotlib import pyplot\n",
        "\n",
        "lr_precision, lr_recall, _ = precision_recall_curve(testy[:ntest], predIdxs[:,1])\n",
        "lr_f1, lr_auc = f1_score(testy[:ntest], predIdxs2), auc(lr_recall, lr_precision)\n",
        "# summarize scores\n",
        "print('Logistic: f1=%.3f auc=%.3f' % (lr_f1, lr_auc))\n",
        "# plot the precision-recall curves\n",
        "pyplot.plot(lr_recall, lr_precision, marker='.', label='Logistic')\n",
        "\n",
        "pyplot.ylim([0.0, 1.0])\n",
        "pyplot.title('Precision and Recall Curve')\n",
        "# axis labels\n",
        "pyplot.xlabel('Recall')\n",
        "pyplot.ylabel('Precision')\n",
        "# show the legend\n",
        "pyplot.legend()\n",
        "# show the plot\n",
        "pyplot.show()\n",
        "\n",
        "print(metrics.recall_score(testy[:ntest], predIdxs2)) # Recall score"
      ],
      "execution_count": null,
      "outputs": [
        {
          "output_type": "stream",
          "text": [
            "Logistic: f1=0.341 auc=0.221\n"
          ],
          "name": "stdout"
        },
        {
          "output_type": "display_data",
          "data": {
            "image/png": "[encoded data removed]",
            "text/plain": [
              "<Figure size 432x288 with 1 Axes>"
            ]
          },
          "metadata": {
            "tags": [],
            "needs_background": "light"
          }
        },
        {
          "output_type": "stream",
          "text": [
            "0.664665978057564\n"
          ],
          "name": "stdout"
        }
      ]
    }
  ]
}