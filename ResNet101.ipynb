{
  "nbformat": 4,
  "nbformat_minor": 0,
  "metadata": {
    "accelerator": "GPU",
    "colab": {
      "name": "ResNet101.ipynb",
      "provenance": [],
      "collapsed_sections": [],
      "toc_visible": true,
      "include_colab_link": true
    },
    "kernelspec": {
      "display_name": "Python 3",
      "name": "python3"
    },
    "language_info": {
      "name": "python"
    }
  },
  "cells": [
    {
      "cell_type": "markdown",
      "metadata": {
        "id": "view-in-github",
        "colab_type": "text"
      },
      "source": [
        "<a href=\"https://colab.research.google.com/github/elaine2233/ICH/blob/main/ResNet101.ipynb\" target=\"_parent\"><img src=\"https://colab.research.google.com/assets/colab-badge.svg\" alt=\"Open In Colab\"/></a>"
      ]
    },
    {
      "cell_type": "markdown",
      "metadata": {
        "id": "xwVgqDKHzdQ7"
      },
      "source": [
        "# Libraries"
      ]
    },
    {
      "cell_type": "code",
      "metadata": {
        "id": "hR0MEJv3Eqnk"
      },
      "source": [
        "import random\n",
        "random.seed(12345)"
      ],
      "execution_count": null,
      "outputs": []
    },
    {
      "cell_type": "code",
      "metadata": {
        "colab": {
          "base_uri": "https://localhost:8080/"
        },
        "id": "HZbh6oJGTeZ_",
        "outputId": "9b2a2093-08bd-4ae9-ae68-cdf7756ef0c2"
      },
      "source": [
        "#librarys\n",
        "!pip install dicom\n",
        "import dicom\n",
        "\n",
        "import tensorflow as tf\n",
        "from tensorflow.keras.models import Sequential\n",
        "from tensorflow.keras.models import load_model\n",
        "from tensorflow.keras.models import Model\n",
        "\n",
        "from tensorflow.keras import layers # just randommmmm\n",
        "from tensorflow.keras.layers import BatchNormalization\n",
        "from tensorflow.keras.layers import Conv2DTranspose\n",
        "from tensorflow.keras.layers import Conv2D\n",
        "from tensorflow.keras.layers import LeakyReLU\n",
        "from tensorflow.keras.layers import Activation\n",
        "from tensorflow.keras.layers import Flatten\n",
        "from tensorflow.keras.layers import Dense\n",
        "from tensorflow.keras.layers import Reshape\n",
        "from tensorflow.keras.layers import Input\n",
        "from tensorflow.keras.layers import Conv1D, MaxPooling1D, MaxPooling2D, Dropout\n",
        "\n",
        "from tensorflow.keras.optimizers import Adam\n",
        "\n",
        "from tensorflow.keras.utils import Sequence\n",
        "from tensorflow.keras.utils import to_categorical\n",
        "\n",
        "from tensorflow.keras.applications.resnet import ResNet101\n",
        "\n",
        "\n",
        "\n",
        "import numpy as np\n",
        "import pandas as pd\n",
        "\n",
        "import math\n",
        "import argparse\n",
        "import cv2\n",
        "import os\n",
        "\n",
        "from matplotlib import pyplot\n",
        "import matplotlib.pyplot as plt\n",
        "\n",
        "from skimage.io import imread\n",
        "from skimage.transform import resize\n",
        "\n",
        "from collections import Counter\n",
        "\n",
        "#Evaluation\n",
        "from sklearn import metrics\n",
        "from sklearn.metrics import roc_auc_score \n",
        "from sklearn.metrics import classification_report, confusion_matrix, accuracy_score\n",
        "from sklearn.metrics import recall_score\n",
        "from sklearn.metrics import precision_recall_curve\n",
        "from sklearn.metrics import f1_score\n",
        "from sklearn.metrics import auc\n"
      ],
      "execution_count": null,
      "outputs": [
        {
          "output_type": "stream",
          "text": [
            "Collecting dicom\n",
            "  Downloading dicom-0.9.9.post1-py3-none-any.whl (766 kB)\n",
            "\u001b[?25l\r\u001b[K     |▍                               | 10 kB 34.0 MB/s eta 0:00:01\r\u001b[K     |▉                               | 20 kB 40.0 MB/s eta 0:00:01\r\u001b[K     |█▎                              | 30 kB 45.3 MB/s eta 0:00:01\r\u001b[K     |█▊                              | 40 kB 46.2 MB/s eta 0:00:01\r\u001b[K     |██▏                             | 51 kB 7.4 MB/s eta 0:00:01\r\u001b[K     |██▋                             | 61 kB 8.7 MB/s eta 0:00:01\r\u001b[K     |███                             | 71 kB 8.3 MB/s eta 0:00:01\r\u001b[K     |███▍                            | 81 kB 9.3 MB/s eta 0:00:01\r\u001b[K     |███▉                            | 92 kB 10.3 MB/s eta 0:00:01\r\u001b[K     |████▎                           | 102 kB 7.0 MB/s eta 0:00:01\r\u001b[K     |████▊                           | 112 kB 7.0 MB/s eta 0:00:01\r\u001b[K     |█████▏                          | 122 kB 7.0 MB/s eta 0:00:01\r\u001b[K     |█████▋                          | 133 kB 7.0 MB/s eta 0:00:01\r\u001b[K     |██████                          | 143 kB 7.0 MB/s eta 0:00:01\r\u001b[K     |██████▍                         | 153 kB 7.0 MB/s eta 0:00:01\r\u001b[K     |██████▉                         | 163 kB 7.0 MB/s eta 0:00:01\r\u001b[K     |███████▎                        | 174 kB 7.0 MB/s eta 0:00:01\r\u001b[K     |███████▊                        | 184 kB 7.0 MB/s eta 0:00:01\r\u001b[K     |████████▏                       | 194 kB 7.0 MB/s eta 0:00:01\r\u001b[K     |████████▌                       | 204 kB 7.0 MB/s eta 0:00:01\r\u001b[K     |█████████                       | 215 kB 7.0 MB/s eta 0:00:01\r\u001b[K     |█████████▍                      | 225 kB 7.0 MB/s eta 0:00:01\r\u001b[K     |█████████▉                      | 235 kB 7.0 MB/s eta 0:00:01\r\u001b[K     |██████████▎                     | 245 kB 7.0 MB/s eta 0:00:01\r\u001b[K     |██████████▊                     | 256 kB 7.0 MB/s eta 0:00:01\r\u001b[K     |███████████▏                    | 266 kB 7.0 MB/s eta 0:00:01\r\u001b[K     |███████████▌                    | 276 kB 7.0 MB/s eta 0:00:01\r\u001b[K     |████████████                    | 286 kB 7.0 MB/s eta 0:00:01\r\u001b[K     |████████████▍                   | 296 kB 7.0 MB/s eta 0:00:01\r\u001b[K     |████████████▉                   | 307 kB 7.0 MB/s eta 0:00:01\r\u001b[K     |█████████████▎                  | 317 kB 7.0 MB/s eta 0:00:01\r\u001b[K     |█████████████▊                  | 327 kB 7.0 MB/s eta 0:00:01\r\u001b[K     |██████████████                  | 337 kB 7.0 MB/s eta 0:00:01\r\u001b[K     |██████████████▌                 | 348 kB 7.0 MB/s eta 0:00:01\r\u001b[K     |███████████████                 | 358 kB 7.0 MB/s eta 0:00:01\r\u001b[K     |███████████████▍                | 368 kB 7.0 MB/s eta 0:00:01\r\u001b[K     |███████████████▉                | 378 kB 7.0 MB/s eta 0:00:01\r\u001b[K     |████████████████▎               | 389 kB 7.0 MB/s eta 0:00:01\r\u001b[K     |████████████████▊               | 399 kB 7.0 MB/s eta 0:00:01\r\u001b[K     |█████████████████               | 409 kB 7.0 MB/s eta 0:00:01\r\u001b[K     |█████████████████▌              | 419 kB 7.0 MB/s eta 0:00:01\r\u001b[K     |██████████████████              | 430 kB 7.0 MB/s eta 0:00:01\r\u001b[K     |██████████████████▍             | 440 kB 7.0 MB/s eta 0:00:01\r\u001b[K     |██████████████████▉             | 450 kB 7.0 MB/s eta 0:00:01\r\u001b[K     |███████████████████▎            | 460 kB 7.0 MB/s eta 0:00:01\r\u001b[K     |███████████████████▊            | 471 kB 7.0 MB/s eta 0:00:01\r\u001b[K     |████████████████████            | 481 kB 7.0 MB/s eta 0:00:01\r\u001b[K     |████████████████████▌           | 491 kB 7.0 MB/s eta 0:00:01\r\u001b[K     |█████████████████████           | 501 kB 7.0 MB/s eta 0:00:01\r\u001b[K     |█████████████████████▍          | 512 kB 7.0 MB/s eta 0:00:01\r\u001b[K     |█████████████████████▉          | 522 kB 7.0 MB/s eta 0:00:01\r\u001b[K     |██████████████████████▎         | 532 kB 7.0 MB/s eta 0:00:01\r\u001b[K     |██████████████████████▋         | 542 kB 7.0 MB/s eta 0:00:01\r\u001b[K     |███████████████████████         | 552 kB 7.0 MB/s eta 0:00:01\r\u001b[K     |███████████████████████▌        | 563 kB 7.0 MB/s eta 0:00:01\r\u001b[K     |████████████████████████        | 573 kB 7.0 MB/s eta 0:00:01\r\u001b[K     |████████████████████████▍       | 583 kB 7.0 MB/s eta 0:00:01\r\u001b[K     |████████████████████████▉       | 593 kB 7.0 MB/s eta 0:00:01\r\u001b[K     |█████████████████████████▎      | 604 kB 7.0 MB/s eta 0:00:01\r\u001b[K     |█████████████████████████▋      | 614 kB 7.0 MB/s eta 0:00:01\r\u001b[K     |██████████████████████████      | 624 kB 7.0 MB/s eta 0:00:01\r\u001b[K     |██████████████████████████▌     | 634 kB 7.0 MB/s eta 0:00:01\r\u001b[K     |███████████████████████████     | 645 kB 7.0 MB/s eta 0:00:01\r\u001b[K     |███████████████████████████▍    | 655 kB 7.0 MB/s eta 0:00:01\r\u001b[K     |███████████████████████████▉    | 665 kB 7.0 MB/s eta 0:00:01\r\u001b[K     |████████████████████████████▏   | 675 kB 7.0 MB/s eta 0:00:01\r\u001b[K     |████████████████████████████▋   | 686 kB 7.0 MB/s eta 0:00:01\r\u001b[K     |█████████████████████████████   | 696 kB 7.0 MB/s eta 0:00:01\r\u001b[K     |█████████████████████████████▌  | 706 kB 7.0 MB/s eta 0:00:01\r\u001b[K     |██████████████████████████████  | 716 kB 7.0 MB/s eta 0:00:01\r\u001b[K     |██████████████████████████████▍ | 727 kB 7.0 MB/s eta 0:00:01\r\u001b[K     |██████████████████████████████▉ | 737 kB 7.0 MB/s eta 0:00:01\r\u001b[K     |███████████████████████████████▏| 747 kB 7.0 MB/s eta 0:00:01\r\u001b[K     |███████████████████████████████▋| 757 kB 7.0 MB/s eta 0:00:01\r\u001b[K     |████████████████████████████████| 766 kB 7.0 MB/s \n",
            "\u001b[?25hInstalling collected packages: dicom\n",
            "Successfully installed dicom-0.9.9.post1\n"
          ],
          "name": "stdout"
        },
        {
          "output_type": "stream",
          "text": [
            "/usr/local/lib/python3.7/dist-packages/dicom/__init__.py:53: UserWarning: \n",
            "This code is using an older version of pydicom, which is no longer \n",
            "maintained as of Jan 2017.  You can access the new pydicom features and API \n",
            "by installing `pydicom` from PyPI.\n",
            "See 'Transitioning to pydicom 1.x' section at pydicom.readthedocs.org \n",
            "for more information.\n",
            "\n",
            "  warnings.warn(msg)\n"
          ],
          "name": "stderr"
        }
      ]
    },
    {
      "cell_type": "markdown",
      "metadata": {
        "id": "CvWek0tmL5Fk"
      },
      "source": [
        "# Connect to google drive and google cloud"
      ]
    },
    {
      "cell_type": "markdown",
      "metadata": {
        "id": "Qr-Bm4b-PtCo"
      },
      "source": [
        "## connect to google drive"
      ]
    },
    {
      "cell_type": "code",
      "metadata": {
        "colab": {
          "base_uri": "https://localhost:8080/"
        },
        "id": "zA_SoiU1x0it",
        "outputId": "506a8862-5f1b-45af-8713-8b8cf5e50b7f"
      },
      "source": [
        "# connect to google drive\n",
        "from google.colab import drive\n",
        "drive.mount('/content/drive')"
      ],
      "execution_count": null,
      "outputs": [
        {
          "output_type": "stream",
          "text": [
            "Mounted at /content/drive\n"
          ],
          "name": "stdout"
        }
      ]
    },
    {
      "cell_type": "code",
      "metadata": {
        "colab": {
          "base_uri": "https://localhost:8080/",
          "height": 203
        },
        "id": "hRusTsVhyIst",
        "outputId": "f40381ea-d475-442e-878e-44c8563b39e6"
      },
      "source": [
        "# extract type y\n",
        "# import pandas as pd\n",
        "typey0 = pd.read_csv('/content/drive/MyDrive/CHL7001/GroupProject/Data/train/stage2train_wide_posneg.csv')\n",
        "typey0['ID'] = 'ID_' + typey0['ID2'].astype(str)\n",
        "typey0['IDpng'] = typey0['ID'].astype(str) + '.png'\n",
        "typey0 = typey0[typey0.ID != 'ID_6431af929']\n",
        "typey0[:5]"
      ],
      "execution_count": null,
      "outputs": [
        {
          "output_type": "execute_result",
          "data": {
            "text/html": [
              "<div>\n",
              "<style scoped>\n",
              "    .dataframe tbody tr th:only-of-type {\n",
              "        vertical-align: middle;\n",
              "    }\n",
              "\n",
              "    .dataframe tbody tr th {\n",
              "        vertical-align: top;\n",
              "    }\n",
              "\n",
              "    .dataframe thead th {\n",
              "        text-align: right;\n",
              "    }\n",
              "</style>\n",
              "<table border=\"1\" class=\"dataframe\">\n",
              "  <thead>\n",
              "    <tr style=\"text-align: right;\">\n",
              "      <th></th>\n",
              "      <th>Unnamed: 0</th>\n",
              "      <th>ID2</th>\n",
              "      <th>any</th>\n",
              "      <th>ID</th>\n",
              "      <th>IDpng</th>\n",
              "    </tr>\n",
              "  </thead>\n",
              "  <tbody>\n",
              "    <tr>\n",
              "      <th>0</th>\n",
              "      <td>1</td>\n",
              "      <td>000012eaf</td>\n",
              "      <td>0</td>\n",
              "      <td>ID_000012eaf</td>\n",
              "      <td>ID_000012eaf.png</td>\n",
              "    </tr>\n",
              "    <tr>\n",
              "      <th>1</th>\n",
              "      <td>2</td>\n",
              "      <td>000039fa0</td>\n",
              "      <td>0</td>\n",
              "      <td>ID_000039fa0</td>\n",
              "      <td>ID_000039fa0.png</td>\n",
              "    </tr>\n",
              "    <tr>\n",
              "      <th>2</th>\n",
              "      <td>3</td>\n",
              "      <td>00005679d</td>\n",
              "      <td>0</td>\n",
              "      <td>ID_00005679d</td>\n",
              "      <td>ID_00005679d.png</td>\n",
              "    </tr>\n",
              "    <tr>\n",
              "      <th>3</th>\n",
              "      <td>4</td>\n",
              "      <td>00008ce3c</td>\n",
              "      <td>0</td>\n",
              "      <td>ID_00008ce3c</td>\n",
              "      <td>ID_00008ce3c.png</td>\n",
              "    </tr>\n",
              "    <tr>\n",
              "      <th>4</th>\n",
              "      <td>5</td>\n",
              "      <td>0000950d7</td>\n",
              "      <td>0</td>\n",
              "      <td>ID_0000950d7</td>\n",
              "      <td>ID_0000950d7.png</td>\n",
              "    </tr>\n",
              "  </tbody>\n",
              "</table>\n",
              "</div>"
            ],
            "text/plain": [
              "   Unnamed: 0        ID2  any            ID             IDpng\n",
              "0           1  000012eaf    0  ID_000012eaf  ID_000012eaf.png\n",
              "1           2  000039fa0    0  ID_000039fa0  ID_000039fa0.png\n",
              "2           3  00005679d    0  ID_00005679d  ID_00005679d.png\n",
              "3           4  00008ce3c    0  ID_00008ce3c  ID_00008ce3c.png\n",
              "4           5  0000950d7    0  ID_0000950d7  ID_0000950d7.png"
            ]
          },
          "metadata": {
            "tags": []
          },
          "execution_count": 4
        }
      ]
    },
    {
      "cell_type": "code",
      "metadata": {
        "colab": {
          "base_uri": "https://localhost:8080/",
          "height": 203
        },
        "id": "f4Snlr9sXscp",
        "outputId": "54fb2f7a-2195-4d13-bec9-a0ff6152e7f6"
      },
      "source": [
        "# Patient ID\n",
        "# import pandas as pd\n",
        "pid = pd.read_csv('/content/drive/MyDrive/CHL7001/GroupProject/Data/train/stage_2_train_with_metadata.csv')\n",
        "typey = pd.merge(typey0,pid,on='ID',how='left')\n",
        "typey = typey.sort_values('PatientID')\n",
        "typey[:5]"
      ],
      "execution_count": null,
      "outputs": [
        {
          "output_type": "execute_result",
          "data": {
            "text/html": [
              "<div>\n",
              "<style scoped>\n",
              "    .dataframe tbody tr th:only-of-type {\n",
              "        vertical-align: middle;\n",
              "    }\n",
              "\n",
              "    .dataframe tbody tr th {\n",
              "        vertical-align: top;\n",
              "    }\n",
              "\n",
              "    .dataframe thead th {\n",
              "        text-align: right;\n",
              "    }\n",
              "</style>\n",
              "<table border=\"1\" class=\"dataframe\">\n",
              "  <thead>\n",
              "    <tr style=\"text-align: right;\">\n",
              "      <th></th>\n",
              "      <th>Unnamed: 0</th>\n",
              "      <th>ID2</th>\n",
              "      <th>any</th>\n",
              "      <th>ID</th>\n",
              "      <th>IDpng</th>\n",
              "      <th>PatientID</th>\n",
              "    </tr>\n",
              "  </thead>\n",
              "  <tbody>\n",
              "    <tr>\n",
              "      <th>108780</th>\n",
              "      <td>108781</td>\n",
              "      <td>24f7cfc41</td>\n",
              "      <td>0</td>\n",
              "      <td>ID_24f7cfc41</td>\n",
              "      <td>ID_24f7cfc41.png</td>\n",
              "      <td>ID_0002cd41</td>\n",
              "    </tr>\n",
              "    <tr>\n",
              "      <th>3397</th>\n",
              "      <td>3398</td>\n",
              "      <td>012b0d238</td>\n",
              "      <td>0</td>\n",
              "      <td>ID_012b0d238</td>\n",
              "      <td>ID_012b0d238.png</td>\n",
              "      <td>ID_0002cd41</td>\n",
              "    </tr>\n",
              "    <tr>\n",
              "      <th>86943</th>\n",
              "      <td>86944</td>\n",
              "      <td>1d88058ff</td>\n",
              "      <td>0</td>\n",
              "      <td>ID_1d88058ff</td>\n",
              "      <td>ID_1d88058ff.png</td>\n",
              "      <td>ID_0002cd41</td>\n",
              "    </tr>\n",
              "    <tr>\n",
              "      <th>689375</th>\n",
              "      <td>689377</td>\n",
              "      <td>ea722c4e5</td>\n",
              "      <td>0</td>\n",
              "      <td>ID_ea722c4e5</td>\n",
              "      <td>ID_ea722c4e5.png</td>\n",
              "      <td>ID_0002cd41</td>\n",
              "    </tr>\n",
              "    <tr>\n",
              "      <th>81401</th>\n",
              "      <td>81402</td>\n",
              "      <td>1b9de2922</td>\n",
              "      <td>0</td>\n",
              "      <td>ID_1b9de2922</td>\n",
              "      <td>ID_1b9de2922.png</td>\n",
              "      <td>ID_0002cd41</td>\n",
              "    </tr>\n",
              "  </tbody>\n",
              "</table>\n",
              "</div>"
            ],
            "text/plain": [
              "        Unnamed: 0        ID2  any            ID             IDpng    PatientID\n",
              "108780      108781  24f7cfc41    0  ID_24f7cfc41  ID_24f7cfc41.png  ID_0002cd41\n",
              "3397          3398  012b0d238    0  ID_012b0d238  ID_012b0d238.png  ID_0002cd41\n",
              "86943        86944  1d88058ff    0  ID_1d88058ff  ID_1d88058ff.png  ID_0002cd41\n",
              "689375      689377  ea722c4e5    0  ID_ea722c4e5  ID_ea722c4e5.png  ID_0002cd41\n",
              "81401        81402  1b9de2922    0  ID_1b9de2922  ID_1b9de2922.png  ID_0002cd41"
            ]
          },
          "metadata": {
            "tags": []
          },
          "execution_count": 5
        }
      ]
    },
    {
      "cell_type": "code",
      "metadata": {
        "colab": {
          "base_uri": "https://localhost:8080/"
        },
        "id": "aaUST8o13GiZ",
        "outputId": "145ae8e7-c8c1-45b2-fac8-fafd0569c231"
      },
      "source": [
        "#calculate patient level sum\n",
        "UnqPID = pd.DataFrame({'Sum_img':pid.groupby(['PatientID']).size()}).reset_index()\n",
        "np.random.seed(111111)\n",
        "UnqPID = UnqPID.sample(frac=1)\n",
        "UnqPID['Cum_sum'] = UnqPID['Sum_img'].cumsum()\n",
        "UnqPID[:5],typey[:5]"
      ],
      "execution_count": null,
      "outputs": [
        {
          "output_type": "execute_result",
          "data": {
            "text/plain": [
              "(         PatientID  Sum_img  Cum_sum\n",
              " 9239   ID_7c597aae       32       32\n",
              " 16164  ID_daa1d81f       39       71\n",
              " 11231  ID_964cfda8       32      103\n",
              " 3128   ID_2976ee63       34      137\n",
              " 13010  ID_af0cb503       32      169,\n",
              "         Unnamed: 0        ID2  any            ID             IDpng    PatientID\n",
              " 108780      108781  24f7cfc41    0  ID_24f7cfc41  ID_24f7cfc41.png  ID_0002cd41\n",
              " 3397          3398  012b0d238    0  ID_012b0d238  ID_012b0d238.png  ID_0002cd41\n",
              " 86943        86944  1d88058ff    0  ID_1d88058ff  ID_1d88058ff.png  ID_0002cd41\n",
              " 689375      689377  ea722c4e5    0  ID_ea722c4e5  ID_ea722c4e5.png  ID_0002cd41\n",
              " 81401        81402  1b9de2922    0  ID_1b9de2922  ID_1b9de2922.png  ID_0002cd41)"
            ]
          },
          "metadata": {
            "tags": []
          },
          "execution_count": 6
        }
      ]
    },
    {
      "cell_type": "markdown",
      "metadata": {
        "id": "Azr7Ll1tPhlS"
      },
      "source": [
        "## connect to google cloud"
      ]
    },
    {
      "cell_type": "code",
      "metadata": {
        "id": "0JqugInfFWe2"
      },
      "source": [
        "# connect to google cloud\n",
        "from google.colab import auth\n",
        "auth.authenticate_user()"
      ],
      "execution_count": null,
      "outputs": []
    },
    {
      "cell_type": "code",
      "metadata": {
        "id": "jYVqJAkBFcvR"
      },
      "source": [
        "!curl https://sdk.cloud.google.com | bash"
      ],
      "execution_count": null,
      "outputs": []
    },
    {
      "cell_type": "code",
      "metadata": {
        "id": "6gexBesjFd1l"
      },
      "source": [
        "!gcloud init"
      ],
      "execution_count": null,
      "outputs": []
    },
    {
      "cell_type": "markdown",
      "metadata": {
        "id": "RVAzQSSrP0iu"
      },
      "source": [
        "# Extract Data"
      ]
    },
    {
      "cell_type": "code",
      "metadata": {
        "colab": {
          "base_uri": "https://localhost:8080/"
        },
        "id": "hNyKQqbxFiI1",
        "outputId": "f798666c-0d2b-42eb-a604-1ecceec9e6ef"
      },
      "source": [
        "!gsutil cp gs://chl7001gp_bucket_png_128/image_png.zip . "
      ],
      "execution_count": null,
      "outputs": [
        {
          "output_type": "stream",
          "text": [
            "Copying gs://chl7001gp_bucket_png_128/image_png.zip...\n",
            "\\ [1 files][  3.3 GiB/  3.3 GiB]   32.5 MiB/s                                   \n",
            "Operation completed over 1 objects/3.3 GiB.                                      \n"
          ],
          "name": "stdout"
        }
      ]
    },
    {
      "cell_type": "code",
      "metadata": {
        "id": "AQxeBavyL1V1"
      },
      "source": [
        "#unzip full data\n",
        "!unzip /content/image_png.zip"
      ],
      "execution_count": null,
      "outputs": []
    },
    {
      "cell_type": "code",
      "metadata": {
        "id": "GO_GOH1u7aJj"
      },
      "source": [
        "datapath = '/content/kaggle/working/output/stage_2_train'"
      ],
      "execution_count": null,
      "outputs": []
    },
    {
      "cell_type": "code",
      "metadata": {
        "id": "UjNwEjSM74SK"
      },
      "source": [
        "# import math\n",
        "# def roundup(x):\n",
        "#   return int(math.ceil(x / 100.0)) * 100"
      ],
      "execution_count": null,
      "outputs": []
    },
    {
      "cell_type": "markdown",
      "metadata": {
        "id": "BtCtNyfuv5iU"
      },
      "source": [
        "# Image preparation"
      ]
    },
    {
      "cell_type": "code",
      "metadata": {
        "colab": {
          "base_uri": "https://localhost:8080/"
        },
        "id": "4dnOTy9lX-Ks",
        "outputId": "e7ee24d1-0b7d-4af6-c03e-c44cd10c2945"
      },
      "source": [
        "# datapath = '/content/kaggle/working/output/stage_2_train'\n",
        "\n",
        "\n",
        "#check length of image\n",
        "imglist = os.listdir(datapath) # dir is your directory path\n",
        "number_files = len(imglist)\n",
        "print(number_files)"
      ],
      "execution_count": null,
      "outputs": [
        {
          "output_type": "stream",
          "text": [
            "752802\n"
          ],
          "name": "stdout"
        }
      ]
    },
    {
      "cell_type": "code",
      "metadata": {
        "colab": {
          "base_uri": "https://localhost:8080/"
        },
        "id": "yhSQJA9hmdld",
        "outputId": "794ffa48-027e-4f61-80ce-911c30e156e0"
      },
      "source": [
        "number_y = typey.shape[0]\n",
        "print(number_y)"
      ],
      "execution_count": null,
      "outputs": [
        {
          "output_type": "stream",
          "text": [
            "752802\n"
          ],
          "name": "stdout"
        }
      ]
    },
    {
      "cell_type": "code",
      "metadata": {
        "colab": {
          "base_uri": "https://localhost:8080/"
        },
        "id": "xfNxOORFlzVy",
        "outputId": "86e16b85-7a9d-4b9b-fb27-a97e90d464e2"
      },
      "source": [
        "# import math\n",
        "# number_y = 720728\n",
        "ntrain0 = math.ceil(number_y*0.7)\n",
        "\n",
        "#select every thing till 70%\n",
        "trainPID = UnqPID[UnqPID['Cum_sum']<ntrain0]['PatientID'].tolist()\n",
        "\n",
        "trainy_name = typey[typey['PatientID'].isin(trainPID)]['ID']\n",
        "testy_name = typey[-typey['PatientID'].isin(trainPID)]['ID']\n",
        "\n",
        "trainy = typey[typey['PatientID'].isin(trainPID)]['any'].tolist()\n",
        "testy = typey[-typey['PatientID'].isin(trainPID)]['any'].tolist()\n",
        "trainy = np.array(trainy)\n",
        "testy = np.array(testy)\n",
        "\n",
        "ntrain = trainy_name.shape[0]\n",
        "nsuptrain = math.ceil(ntrain*0.1)\n",
        "ntest = testy_name.shape[0]\n",
        "\n",
        "print(ntrain,ntest, nsuptrain, len(trainy_name),len(testy_name), trainy.shape,testy.shape)"
      ],
      "execution_count": null,
      "outputs": [
        {
          "output_type": "stream",
          "text": [
            "526952 225850 52696 526952 225850 (526952,) (225850,)\n"
          ],
          "name": "stdout"
        }
      ]
    },
    {
      "cell_type": "code",
      "metadata": {
        "colab": {
          "base_uri": "https://localhost:8080/"
        },
        "id": "ceuEYBv0rucb",
        "outputId": "d284aecc-f87c-44c5-8bec-49628328b2ab"
      },
      "source": [
        "trainy_name[trainy_name == 'ID_6431af929'],testy_name[testy_name == 'ID_6431af929']"
      ],
      "execution_count": null,
      "outputs": [
        {
          "output_type": "execute_result",
          "data": {
            "text/plain": [
              "(Series([], Name: ID, dtype: object), Series([], Name: ID, dtype: object))"
            ]
          },
          "metadata": {
            "tags": []
          },
          "execution_count": 16
        }
      ]
    },
    {
      "cell_type": "code",
      "metadata": {
        "colab": {
          "base_uri": "https://localhost:8080/"
        },
        "id": "B1wG5dHaWjv8",
        "outputId": "9914007a-83ff-4375-bec3-6f9e1188db12"
      },
      "source": [
        "#check if patient in train is in test\n",
        "trainuqpid = typey[typey['PatientID'].isin(trainPID)]['PatientID'].unique()\n",
        "testuqpid = typey[-typey['PatientID'].isin(trainPID)]['PatientID'].unique()\n",
        "\n",
        "np.intersect1d(trainuqpid,testuqpid)"
      ],
      "execution_count": null,
      "outputs": [
        {
          "output_type": "execute_result",
          "data": {
            "text/plain": [
              "array([], dtype=object)"
            ]
          },
          "metadata": {
            "tags": []
          },
          "execution_count": 17
        }
      ]
    },
    {
      "cell_type": "code",
      "metadata": {
        "colab": {
          "base_uri": "https://localhost:8080/"
        },
        "id": "n1reSnWVyJX0",
        "outputId": "bdcb3443-b4b9-4a22-98f4-eec504e847f5"
      },
      "source": [
        "typey = typey[typey['IDpng'].isin(imglist)]\n",
        "typey.shape"
      ],
      "execution_count": null,
      "outputs": [
        {
          "output_type": "execute_result",
          "data": {
            "text/plain": [
              "(752802, 6)"
            ]
          },
          "metadata": {
            "tags": []
          },
          "execution_count": 18
        }
      ]
    },
    {
      "cell_type": "code",
      "metadata": {
        "colab": {
          "base_uri": "https://localhost:8080/"
        },
        "id": "g9chyZGZ5V6F",
        "outputId": "7464865b-ff6d-424e-cbe5-39ec96538008"
      },
      "source": [
        "len(trainy_name),trainy.shape"
      ],
      "execution_count": null,
      "outputs": [
        {
          "output_type": "execute_result",
          "data": {
            "text/plain": [
              "(526952, (526952,))"
            ]
          },
          "metadata": {
            "tags": []
          },
          "execution_count": 19
        }
      ]
    },
    {
      "cell_type": "code",
      "metadata": {
        "colab": {
          "base_uri": "https://localhost:8080/"
        },
        "id": "6AS2nf1iqmGq",
        "outputId": "2cdb7477-079b-44a2-d2f3-eaace1ddf04e"
      },
      "source": [
        "trainy_name[:5]"
      ],
      "execution_count": null,
      "outputs": [
        {
          "output_type": "execute_result",
          "data": {
            "text/plain": [
              "108780    ID_24f7cfc41\n",
              "3397      ID_012b0d238\n",
              "86943     ID_1d88058ff\n",
              "689375    ID_ea722c4e5\n",
              "81401     ID_1b9de2922\n",
              "Name: ID, dtype: object"
            ]
          },
          "metadata": {
            "tags": []
          },
          "execution_count": 20
        }
      ]
    },
    {
      "cell_type": "code",
      "metadata": {
        "colab": {
          "base_uri": "https://localhost:8080/"
        },
        "id": "v_cH7Xl6nkbF",
        "outputId": "cd4c2279-783d-4960-bb13-8ca7d4a764aa"
      },
      "source": [
        "#summary of trainy and testy\n",
        "# from collections import Counter\n",
        "Counter(trainy),Counter(testy)"
      ],
      "execution_count": null,
      "outputs": [
        {
          "output_type": "execute_result",
          "data": {
            "text/plain": [
              "(Counter({0: 451777, 1: 75175}), Counter({0: 193092, 1: 32758}))"
            ]
          },
          "metadata": {
            "tags": []
          },
          "execution_count": 21
        }
      ]
    },
    {
      "cell_type": "markdown",
      "metadata": {
        "id": "YOTX7otxA6pU"
      },
      "source": [
        "# Model"
      ]
    },
    {
      "cell_type": "code",
      "metadata": {
        "id": "D80ID-wrA_QB"
      },
      "source": [
        "#split trainy trainy_name testy testy_name to postive and negative\n",
        "trainy1 = trainy[trainy == 1]\n",
        "trainy0 = trainy[trainy == 0]\n",
        "\n",
        "trainy_name1 = trainy_name[trainy == 1]\n",
        "trainy_name0 = trainy_name[trainy == 0]\n",
        "\n",
        "testy1 = testy[testy == 1]\n",
        "testy0 = testy[testy == 0]\n",
        "\n",
        "testy_name1 = testy_name[testy == 1]\n",
        "testy_name0 = testy_name[testy == 0]\n"
      ],
      "execution_count": null,
      "outputs": []
    },
    {
      "cell_type": "code",
      "metadata": {
        "colab": {
          "base_uri": "https://localhost:8080/"
        },
        "id": "X8NR0zR8gow3",
        "outputId": "c113402e-8e8e-43f2-ce2f-495cc7abccfa"
      },
      "source": [
        "testy_name1[:5],testy_name0[:5],testy1[:5],testy0[:5],testy_name1.shape,len(testy1),testy_name0.shape,len(testy0),trainy_name0.shape,trainy_name1.shape"
      ],
      "execution_count": null,
      "outputs": [
        {
          "output_type": "execute_result",
          "data": {
            "text/plain": [
              "(618197    ID_d215015bb\n",
              " 303715    ID_670751ba1\n",
              " 718390    ID_f45235460\n",
              " 131382    ID_2ca2ce2e7\n",
              " 180044    ID_3d22dc4b0\n",
              " Name: ID, dtype: object, 84504     ID_1cb815aae\n",
              " 278929    ID_5e91fea15\n",
              " 270174    ID_5bb0651bd\n",
              " 556669    ID_bd0eb5226\n",
              " 182438    ID_3df0d63c3\n",
              " Name: ID, dtype: object, array([1, 1, 1, 1, 1]), array([0, 0, 0, 0, 0]), (32758,), 32758, (193092,), 193092, (451777,), (75175,))"
            ]
          },
          "metadata": {
            "tags": []
          },
          "execution_count": 23
        }
      ]
    },
    {
      "cell_type": "code",
      "metadata": {
        "id": "Ax6mI1rCEPL5"
      },
      "source": [
        "from tensorflow.keras.utils import to_categorical\n",
        "\n",
        "trainy_hot = to_categorical(trainy)\n",
        "testy_hot = to_categorical(testy)\n",
        "\n",
        "trainy_hot1 = to_categorical(trainy1)\n",
        "trainy_hot0 = to_categorical(np.append(1, trainy0))[1:]\n",
        "\n",
        "testy_hot1 = to_categorical(testy1)\n",
        "testy_hot0 = to_categorical(np.append(1, testy0))[1:]"
      ],
      "execution_count": null,
      "outputs": []
    },
    {
      "cell_type": "markdown",
      "metadata": {
        "id": "gVutkez-78wU"
      },
      "source": [
        "## Custom Generator"
      ]
    },
    {
      "cell_type": "code",
      "metadata": {
        "id": "F1Qamek0FuYj"
      },
      "source": [
        "# import tensorflow\n",
        "class My_Custom_Generator(tf.keras.utils.Sequence):\n",
        "  \n",
        "  def __init__(self, image_filenames, image_filenames0, image_filenames1, labels0, labels1, batch_size, batch_size0, batch_size1) :\n",
        "    self.image_filenames = image_filenames\n",
        "    self.image_filenames0 = image_filenames0\n",
        "    self.image_filenames1 = image_filenames1\n",
        "    self.labels0 = labels0\n",
        "    self.labels1 = labels1\n",
        "    self.batch_size = batch_size\n",
        "    self.batch_size0 = batch_size0\n",
        "    self.batch_size1 = batch_size1\n",
        "    \n",
        "    \n",
        "  def __len__(self) :\n",
        "    return (np.ceil(len(self.image_filenames) / float(self.batch_size))).astype(np.int)\n",
        "  \n",
        "  # split train -+, extract from both list, shuff\n",
        "  def __getitem__(self, idx):\n",
        "    rdm_seed = random.randint(0,1000)\n",
        "    np.random.seed(rdm_seed)\n",
        "    np.random.permutation(self.image_filenames0)\n",
        "    np.random.permutation(self.image_filenames1)\n",
        "\n",
        "    batch_x0 = self.image_filenames0[(idx*self.batch_size0) : ((idx+1)*self.batch_size0)]\n",
        "    batch_x1 = self.image_filenames1[(idx*self.batch_size1) : ((idx+1)*self.batch_size1)]\n",
        "    batch_x = batch_x0.append(batch_x1)\n",
        "\n",
        "    batch_y0 = self.labels0[(idx * self.batch_size0) : ((idx+1) * self.batch_size0)]\n",
        "    batch_y1 = self.labels1[(idx * self.batch_size1) : ((idx+1) * self.batch_size1)]\n",
        "    batch_y = np.concatenate([batch_y0,batch_y1])\n",
        "    \n",
        "    return (np.array([\n",
        "            resize(imread(datapath + '/' + str(file_name)+ '.png'), (128, 128, 3))\n",
        "               for file_name in batch_x])- 127.5)/127.5, np.array(batch_y)"
      ],
      "execution_count": null,
      "outputs": []
    },
    {
      "cell_type": "code",
      "metadata": {
        "id": "-2qboJRhz8gJ"
      },
      "source": [
        "# import tensorflow\n",
        "class Test_Generator(tf.keras.utils.Sequence):\n",
        "  \n",
        "  def __init__(self, image_filenames, labels, batch_size) :\n",
        "    self.image_filenames = image_filenames\n",
        "    self.labels = labels\n",
        "    self.batch_size = batch_size\n",
        "    \n",
        "    \n",
        "  def __len__(self) :\n",
        "    return (np.ceil(len(self.image_filenames) / float(self.batch_size))).astype(np.int)\n",
        "  \n",
        "  # split train -+, extract from both list, shuff\n",
        "  def __getitem__(self, idx):\n",
        "    batch_x = self.image_filenames[(idx*self.batch_size) : ((idx+1)*self.batch_size)]\n",
        "    batch_y = self.labels[(idx * self.batch_size) : ((idx+1) * self.batch_size)]\n",
        "    \n",
        "    return (np.array([\n",
        "            resize(imread(datapath + '/' + str(file_name)+ '.png'), (128, 128, 3))\n",
        "               for file_name in batch_x])- 127.5)/127.5, np.array(batch_y)"
      ],
      "execution_count": null,
      "outputs": []
    },
    {
      "cell_type": "code",
      "metadata": {
        "id": "AAYljj6NIa1j"
      },
      "source": [
        "batch_size = 50\n",
        "prop = 0.5\n",
        "batch_size0 = int(batch_size*(1-prop))\n",
        "batch_size1 = int(batch_size*prop)\n",
        "# ntest = ntrain = 10000\n",
        "ntrain = len(trainy1)*2\n",
        "\n",
        "my_training_batch_generator = My_Custom_Generator(trainy_name[:ntrain], trainy_name0,trainy_name1, trainy_hot0,trainy_hot1, batch_size, batch_size0,batch_size1)\n",
        "my_validation_batch_generator = Test_Generator(testy_name[:ntest], testy_hot[:ntest], batch_size)"
      ],
      "execution_count": null,
      "outputs": []
    },
    {
      "cell_type": "markdown",
      "metadata": {
        "id": "AOCylJuWPj9W"
      },
      "source": [
        "## ResNet"
      ]
    },
    {
      "cell_type": "code",
      "metadata": {
        "id": "7wmnYGTTBJYo"
      },
      "source": [
        "# import numpy as np\n",
        "# import pandas as pd\n",
        "\n",
        "# from skimage.io import imread\n",
        "# from skimage.transform import resize\n",
        "\n",
        "# from tensorflow.keras.utils import Sequence\n",
        "# from tensorflow.keras.models import Sequential, Model, load_model\n",
        "# from tensorflow.keras.layers import Input, Conv1D, Conv2D, MaxPooling1D, MaxPooling2D, Dense, Dropout, Activation, Flatten\n",
        "# from tensorflow.keras.layers import BatchNormalization\n",
        "# from tensorflow.keras.utils import to_categorical\n",
        "\n",
        "# import tensorflow as tf\n",
        "# from tensorflow.keras.applications.resnet import ResNet101"
      ],
      "execution_count": null,
      "outputs": []
    },
    {
      "cell_type": "code",
      "metadata": {
        "id": "aD1qLKNIPGFL"
      },
      "source": [
        "# Fixed for our Cats & Dogs classes\n",
        "NUM_CLASSES = 2\n",
        "\n",
        "# Fixed for Cats & Dogs color images\n",
        "CHANNELS = 3\n",
        "\n",
        "IMAGE_RESIZE = 128\n",
        "RESNET50_POOLING_AVERAGE = 'avg'\n",
        "DENSE_LAYER_ACTIVATION = 'softmax'\n",
        "OBJECTIVE_FUNCTION = 'categorical_crossentropy'"
      ],
      "execution_count": null,
      "outputs": []
    },
    {
      "cell_type": "code",
      "metadata": {
        "colab": {
          "base_uri": "https://localhost:8080/"
        },
        "id": "JaIXxNljPnUm",
        "outputId": "e4dabcf8-076e-439d-9890-7603b9d70a7f"
      },
      "source": [
        "\n",
        "model = Sequential()\n",
        "\n",
        "# 1st layer as the lumpsum weights from resnet50_weights_tf_dim_ordering_tf_kernels_notop.h5\n",
        "# NOTE that this layer will be set below as NOT TRAINABLE, i.e., use it as is\n",
        "model.add(ResNet101(include_top = False, pooling = RESNET50_POOLING_AVERAGE, weights = 'imagenet'))\n",
        "\n",
        "# 2nd layer as Dense for 2-class classification, i.e., dog or cat using SoftMax activation\n",
        "model.add(Dense(NUM_CLASSES, activation = DENSE_LAYER_ACTIVATION))\n",
        "\n",
        "# Say not to train first layer (ResNet) model as it is already trained\n",
        "model.layers[0].trainable = False\n",
        "\n",
        "model.compile(optimizer=\"adam\", loss='categorical_crossentropy', metrics=['accuracy'])\n",
        "\n",
        "model.summary()"
      ],
      "execution_count": null,
      "outputs": [
        {
          "output_type": "stream",
          "text": [
            "Downloading data from https://storage.googleapis.com/tensorflow/keras-applications/resnet/resnet101_weights_tf_dim_ordering_tf_kernels_notop.h5\n",
            "171450368/171446536 [==============================] - 1s 0us/step\n",
            "Model: \"sequential\"\n",
            "_________________________________________________________________\n",
            "Layer (type)                 Output Shape              Param #   \n",
            "=================================================================\n",
            "resnet101 (Functional)       (None, 2048)              42658176  \n",
            "_________________________________________________________________\n",
            "dense (Dense)                (None, 2)                 4098      \n",
            "=================================================================\n",
            "Total params: 42,662,274\n",
            "Trainable params: 4,098\n",
            "Non-trainable params: 42,658,176\n",
            "_________________________________________________________________\n"
          ],
          "name": "stdout"
        }
      ]
    },
    {
      "cell_type": "markdown",
      "metadata": {
        "id": "QlEHWaQE8Jgn"
      },
      "source": [
        "## model fit"
      ]
    },
    {
      "cell_type": "code",
      "metadata": {
        "colab": {
          "base_uri": "https://localhost:8080/"
        },
        "id": "rz-YMePlIV7t",
        "outputId": "c24c57a6-2f63-4925-cd48-27624890ea46"
      },
      "source": [
        "H = model.fit(my_training_batch_generator,\n",
        "                        steps_per_epoch = int(ntrain//batch_size),\n",
        "                        epochs = 1,\n",
        "                        verbose = 1,\n",
        "                        validation_data = my_validation_batch_generator,\n",
        "                        validation_steps = int(ntest//batch_size))\n",
        "# run 2/3 epochs, shorter epochs (not run all data) (eg. steps_per_epoch smaller)"
      ],
      "execution_count": null,
      "outputs": [
        {
          "output_type": "stream",
          "text": [
            "3007/3007 [==============================] - 4023s 1s/step - loss: 0.6931 - accuracy: 0.5877 - val_loss: 0.6920 - val_accuracy: 0.6726\n"
          ],
          "name": "stdout"
        }
      ]
    },
    {
      "cell_type": "code",
      "metadata": {
        "colab": {
          "base_uri": "https://localhost:8080/"
        },
        "id": "MVRoMW3l1tzy",
        "outputId": "06157ba6-ef7b-42c5-fb00-e80865f5a5f4"
      },
      "source": [
        "model.save('/content/drive/MyDrive/CHL7001/GroupProject/Model/MyModel_ResNet_alldata_tf',save_format='tf')"
      ],
      "execution_count": null,
      "outputs": [
        {
          "output_type": "stream",
          "text": [
            "/usr/local/lib/python3.7/dist-packages/tensorflow/python/keras/utils/generic_utils.py:497: CustomMaskWarning: Custom mask layers require a config and must override get_config. When loading, the custom mask layer must be passed to the custom_objects argument.\n",
            "  category=CustomMaskWarning)\n"
          ],
          "name": "stderr"
        },
        {
          "output_type": "stream",
          "text": [
            "INFO:tensorflow:Assets written to: /content/drive/MyDrive/CHL7001/GroupProject/Model/MyModel_ResNet_alldata_tf/assets\n"
          ],
          "name": "stdout"
        }
      ]
    },
    {
      "cell_type": "code",
      "metadata": {
        "id": "YfFpQNOU4wCg"
      },
      "source": [
        "model_epoch2 = tf.keras.models.load_model('/content/drive/MyDrive/CHL7001/GroupProject/Model/MyModel_ResNet_alldata_tf')"
      ],
      "execution_count": null,
      "outputs": []
    },
    {
      "cell_type": "code",
      "metadata": {
        "colab": {
          "base_uri": "https://localhost:8080/"
        },
        "id": "h-Wrub8X469v",
        "outputId": "6161ac37-8945-4b4d-c1cb-64f9dad0a246"
      },
      "source": [
        "H_epoch2 = model_epoch2.fit(my_training_batch_generator,\n",
        "                        steps_per_epoch = int(ntrain//batch_size),\n",
        "                        epochs = 1,\n",
        "                        verbose = 1,\n",
        "                        validation_data = my_validation_batch_generator,\n",
        "                        validation_steps = int(ntest//batch_size))"
      ],
      "execution_count": null,
      "outputs": [
        {
          "output_type": "stream",
          "text": [
            "3007/3007 [==============================] - 3585s 1s/step - loss: 0.6916 - accuracy: 0.6120 - val_loss: 0.6862 - val_accuracy: 0.7717\n"
          ],
          "name": "stdout"
        }
      ]
    },
    {
      "cell_type": "code",
      "metadata": {
        "colab": {
          "base_uri": "https://localhost:8080/"
        },
        "id": "IXKF-JEJDz3o",
        "outputId": "7b44d761-9697-413c-c7d7-ef19ddeed6ac"
      },
      "source": [
        "model_epoch2.save('/content/drive/MyDrive/CHL7001/GroupProject/Model/MyModel_ResNet_alldata_tf_epoch2',save_format='tf')"
      ],
      "execution_count": null,
      "outputs": [
        {
          "output_type": "stream",
          "text": [
            "/usr/local/lib/python3.7/dist-packages/tensorflow/python/keras/utils/generic_utils.py:497: CustomMaskWarning: Custom mask layers require a config and must override get_config. When loading, the custom mask layer must be passed to the custom_objects argument.\n",
            "  category=CustomMaskWarning)\n"
          ],
          "name": "stderr"
        },
        {
          "output_type": "stream",
          "text": [
            "INFO:tensorflow:Assets written to: /content/drive/MyDrive/CHL7001/GroupProject/Model/MyModel_ResNet_alldata_tf_epoch2/assets\n"
          ],
          "name": "stdout"
        }
      ]
    },
    {
      "cell_type": "code",
      "metadata": {
        "id": "8GtNOadr0Pgl"
      },
      "source": [
        "model_epoch3 = tf.keras.models.load_model('/content/drive/MyDrive/CHL7001/GroupProject/Model/MyModel_ResNet_alldata_tf_epoch2')"
      ],
      "execution_count": null,
      "outputs": []
    },
    {
      "cell_type": "code",
      "metadata": {
        "colab": {
          "base_uri": "https://localhost:8080/"
        },
        "id": "8vUbAz0kcAit",
        "outputId": "fc493844-ff7c-466f-b187-263aba720f6d"
      },
      "source": [
        "H_epoch3 = model_epoch3.fit(my_training_batch_generator,\n",
        "                        steps_per_epoch = int(ntrain//batch_size),\n",
        "                        epochs = 1,\n",
        "                        verbose = 1,\n",
        "                        validation_data = my_validation_batch_generator,\n",
        "                        validation_steps = int(ntest//batch_size))"
      ],
      "execution_count": null,
      "outputs": [
        {
          "output_type": "stream",
          "text": [
            "3007/3007 [==============================] - 4244s 1s/step - loss: 0.6900 - accuracy: 0.6260 - val_loss: 0.6832 - val_accuracy: 0.7586\n"
          ],
          "name": "stdout"
        }
      ]
    },
    {
      "cell_type": "code",
      "metadata": {
        "colab": {
          "base_uri": "https://localhost:8080/"
        },
        "id": "hs-jNt_KmG4E",
        "outputId": "44d86d8c-b251-496d-fb4e-9472d8b58683"
      },
      "source": [
        "model_epoch3.save('/content/drive/MyDrive/CHL7001/GroupProject/Model/MyModel_ResNet_alldata_tf_epoch3',save_format='tf')"
      ],
      "execution_count": null,
      "outputs": [
        {
          "output_type": "stream",
          "text": [
            "/usr/local/lib/python3.7/dist-packages/tensorflow/python/keras/utils/generic_utils.py:497: CustomMaskWarning: Custom mask layers require a config and must override get_config. When loading, the custom mask layer must be passed to the custom_objects argument.\n",
            "  category=CustomMaskWarning)\n"
          ],
          "name": "stderr"
        },
        {
          "output_type": "stream",
          "text": [
            "INFO:tensorflow:Assets written to: /content/drive/MyDrive/CHL7001/GroupProject/Model/MyModel_ResNet_alldata_tf_epoch3/assets\n"
          ],
          "name": "stdout"
        }
      ]
    },
    {
      "cell_type": "code",
      "metadata": {
        "id": "R4NGDfEuK4kY"
      },
      "source": [
        "model_epoch4 = tf.keras.models.load_model('/content/drive/MyDrive/CHL7001/GroupProject/Model/MyModel_ResNet_alldata_tf_epoch3')"
      ],
      "execution_count": null,
      "outputs": []
    },
    {
      "cell_type": "code",
      "metadata": {
        "colab": {
          "base_uri": "https://localhost:8080/"
        },
        "id": "RA87Aq35pTkC",
        "outputId": "8f710f19-553c-417e-b7ba-faf44f7b0e95"
      },
      "source": [
        "H_epoch4 = model_epoch4.fit(my_training_batch_generator,\n",
        "                        steps_per_epoch = int(ntrain//batch_size),\n",
        "                        epochs = 1,\n",
        "                        verbose = 1,\n",
        "                        validation_data = my_validation_batch_generator,\n",
        "                        validation_steps = int(ntest//batch_size))"
      ],
      "execution_count": null,
      "outputs": [
        {
          "output_type": "stream",
          "text": [
            "3007/3007 [==============================] - 3570s 1s/step - loss: 0.6888 - accuracy: 0.6304 - val_loss: 0.6811 - val_accuracy: 0.7456\n"
          ],
          "name": "stdout"
        }
      ]
    },
    {
      "cell_type": "code",
      "metadata": {
        "colab": {
          "base_uri": "https://localhost:8080/"
        },
        "id": "ct6zGAbCpUk6",
        "outputId": "b611f6ec-9724-4abd-8df8-a8261766fd2a"
      },
      "source": [
        "model_epoch4.save('/content/drive/MyDrive/CHL7001/GroupProject/Model/MyModel_ResNet_alldata_tf_epoch4',save_format='tf')"
      ],
      "execution_count": null,
      "outputs": [
        {
          "output_type": "stream",
          "text": [
            "/usr/local/lib/python3.7/dist-packages/tensorflow/python/keras/utils/generic_utils.py:497: CustomMaskWarning: Custom mask layers require a config and must override get_config. When loading, the custom mask layer must be passed to the custom_objects argument.\n",
            "  category=CustomMaskWarning)\n"
          ],
          "name": "stderr"
        },
        {
          "output_type": "stream",
          "text": [
            "INFO:tensorflow:Assets written to: /content/drive/MyDrive/CHL7001/GroupProject/Model/MyModel_ResNet_alldata_tf_epoch4/assets\n"
          ],
          "name": "stdout"
        }
      ]
    },
    {
      "cell_type": "code",
      "metadata": {
        "id": "zz2fHfMOlhoS"
      },
      "source": [
        "model = model_epoch3\n",
        "H = H_epoch4"
      ],
      "execution_count": null,
      "outputs": []
    },
    {
      "cell_type": "markdown",
      "metadata": {
        "id": "hK20AOtz8Qe7"
      },
      "source": [
        "## Prediction"
      ]
    },
    {
      "cell_type": "code",
      "metadata": {
        "id": "aI0KJtAThCT9"
      },
      "source": [
        "predIdxs = model.predict(my_validation_batch_generator, batch_size=50)\n",
        "predIdxs2 = np.argmax(predIdxs, axis=1)"
      ],
      "execution_count": null,
      "outputs": []
    },
    {
      "cell_type": "code",
      "metadata": {
        "id": "uQHoEzUJ-nI3",
        "colab": {
          "base_uri": "https://localhost:8080/"
        },
        "collapsed": true,
        "outputId": "3e36f817-32cb-4d4d-bafe-596df73ba295"
      },
      "source": [
        "predIdxs[:50]"
      ],
      "execution_count": null,
      "outputs": [
        {
          "output_type": "execute_result",
          "data": {
            "text/plain": [
              "array([[0.502073  , 0.497927  ],\n",
              "       [0.50052583, 0.4994741 ],\n",
              "       [0.50778323, 0.49221683],\n",
              "       [0.50147855, 0.49852148],\n",
              "       [0.5076795 , 0.49232045],\n",
              "       [0.5053738 , 0.49462622],\n",
              "       [0.5115119 , 0.48848808],\n",
              "       [0.5002187 , 0.49978134],\n",
              "       [0.49980536, 0.5001946 ],\n",
              "       [0.51249415, 0.48750582],\n",
              "       [0.50252086, 0.4974791 ],\n",
              "       [0.5077875 , 0.4922125 ],\n",
              "       [0.50134146, 0.49865857],\n",
              "       [0.50147057, 0.49852943],\n",
              "       [0.49935493, 0.5006451 ],\n",
              "       [0.5011795 , 0.4988205 ],\n",
              "       [0.5107286 , 0.48927137],\n",
              "       [0.5018778 , 0.49812225],\n",
              "       [0.5069486 , 0.49305144],\n",
              "       [0.5067438 , 0.49325627],\n",
              "       [0.5042076 , 0.49579242],\n",
              "       [0.50162476, 0.49837524],\n",
              "       [0.49872172, 0.5012783 ],\n",
              "       [0.50567997, 0.49432003],\n",
              "       [0.5041328 , 0.49586716],\n",
              "       [0.511571  , 0.48842898],\n",
              "       [0.49976173, 0.5002383 ],\n",
              "       [0.5018699 , 0.49813005],\n",
              "       [0.50177455, 0.49822545],\n",
              "       [0.51077986, 0.48922014],\n",
              "       [0.4990828 , 0.5009172 ],\n",
              "       [0.49886766, 0.5011323 ],\n",
              "       [0.508822  , 0.491178  ],\n",
              "       [0.5008812 , 0.49911878],\n",
              "       [0.5019361 , 0.4980639 ],\n",
              "       [0.5006474 , 0.4993526 ],\n",
              "       [0.50257236, 0.49742767],\n",
              "       [0.5019527 , 0.4980473 ],\n",
              "       [0.49786478, 0.50213516],\n",
              "       [0.50478095, 0.49521905],\n",
              "       [0.50301754, 0.4969825 ],\n",
              "       [0.49718282, 0.50281715],\n",
              "       [0.5060982 , 0.49390176],\n",
              "       [0.4994246 , 0.5005754 ],\n",
              "       [0.50882906, 0.49117088],\n",
              "       [0.49975762, 0.50024235],\n",
              "       [0.5092352 , 0.49076483],\n",
              "       [0.49881384, 0.5011862 ],\n",
              "       [0.5015798 , 0.49842018],\n",
              "       [0.5012708 , 0.4987292 ]], dtype=float32)"
            ]
          },
          "metadata": {
            "tags": []
          },
          "execution_count": 46
        }
      ]
    },
    {
      "cell_type": "code",
      "metadata": {
        "id": "iEDsDTkIDMyA",
        "colab": {
          "base_uri": "https://localhost:8080/"
        },
        "outputId": "98784f14-6078-4950-b00d-e846e33a4224"
      },
      "source": [
        "# from collections import Counter\n",
        "Counter(predIdxs2),Counter(testy[:ntest])"
      ],
      "execution_count": null,
      "outputs": [
        {
          "output_type": "execute_result",
          "data": {
            "text/plain": [
              "(Counter({0: 189720, 1: 36130}), Counter({0: 193092, 1: 32758}))"
            ]
          },
          "metadata": {
            "tags": []
          },
          "execution_count": 47
        }
      ]
    },
    {
      "cell_type": "markdown",
      "metadata": {
        "id": "o2ZnJ9NdnWZD"
      },
      "source": [
        "# Evaluation"
      ]
    },
    {
      "cell_type": "code",
      "metadata": {
        "id": "JENFdpTAxX1c"
      },
      "source": [
        "#evaluation function\n",
        "# from sklearn import metrics\n",
        "# from sklearn.metrics import roc_auc_score \n",
        "def FEvaluatation(model,ntest,pred_prob,pred,testy):\n",
        "\n",
        "  #confusion matrix\n",
        "  confusion = metrics.confusion_matrix(testy[:ntest], pred_prob)\n",
        "\n",
        "  #ROC\n",
        "  AUC = metrics.roc_auc_score(testy[:ntest], pred[:,1]) # AUC score\n",
        "  \n",
        "  print(confusion,AUC)"
      ],
      "execution_count": null,
      "outputs": []
    },
    {
      "cell_type": "code",
      "metadata": {
        "id": "lx8SmnShHmlF",
        "colab": {
          "base_uri": "https://localhost:8080/"
        },
        "outputId": "b98a1460-1adc-4a63-9cf9-ffd422eeafac"
      },
      "source": [
        "FEvaluatation(model,ntest,predIdxs2,predIdxs,testy)"
      ],
      "execution_count": null,
      "outputs": [
        {
          "output_type": "stream",
          "text": [
            "[[165625  27467]\n",
            " [ 24095   8663]] 0.6844651957973922\n"
          ],
          "name": "stdout"
        }
      ]
    },
    {
      "cell_type": "markdown",
      "metadata": {
        "id": "wqW9Yhy_Y9vO"
      },
      "source": [
        "in one function, recall, spec, "
      ]
    },
    {
      "cell_type": "markdown",
      "metadata": {
        "id": "rZD_fx5Y_Jzo"
      },
      "source": [
        "## Confusion Matrix"
      ]
    },
    {
      "cell_type": "code",
      "metadata": {
        "id": "52CA6hC4FVYd"
      },
      "source": [
        "# from sklearn import metrics\n",
        "# from sklearn.metrics import roc_auc_score "
      ],
      "execution_count": null,
      "outputs": []
    },
    {
      "cell_type": "code",
      "metadata": {
        "id": "KgfiBUTL_IbY",
        "colab": {
          "base_uri": "https://localhost:8080/"
        },
        "outputId": "cbb3f3fb-1c24-432c-f76d-044e60ae9fff"
      },
      "source": [
        "# confusion matrix - simple version\n",
        "\n",
        "  # y_pred_class is the class predictions for the testing set\n",
        "  # a vector of 0s and 1s\n",
        "\n",
        "confusion = metrics.confusion_matrix(testy[:ntest], predIdxs2)\n",
        "print(confusion)\n",
        "#[row, column]"
      ],
      "execution_count": null,
      "outputs": [
        {
          "output_type": "stream",
          "text": [
            "[[165625  27467]\n",
            " [ 24095   8663]]\n"
          ],
          "name": "stdout"
        }
      ]
    },
    {
      "cell_type": "code",
      "metadata": {
        "id": "xLtpNCLY_NtZ",
        "colab": {
          "base_uri": "https://localhost:8080/"
        },
        "outputId": "f6bd64c1-8475-408b-c2a5-b078d8931006"
      },
      "source": [
        "TP = confusion[1, 1]\n",
        "TN = confusion[0, 0]\n",
        "FP = confusion[0, 1]\n",
        "FN = confusion[1, 0]\n",
        "sensitivity = TP / float(FN + TP)\n",
        "\n",
        "print((TP + TN) / float(TP + TN + FP + FN))\n",
        "print(metrics.accuracy_score(testy[:ntest], predIdxs2))\n",
        "print(sensitivity)"
      ],
      "execution_count": null,
      "outputs": [
        {
          "output_type": "stream",
          "text": [
            "0.7716980296657073\n",
            "0.7716980296657073\n",
            "0.2644544844007571\n"
          ],
          "name": "stdout"
        }
      ]
    },
    {
      "cell_type": "markdown",
      "metadata": {
        "id": "kTeMBZc1JYqk"
      },
      "source": [
        "## ROC"
      ]
    },
    {
      "cell_type": "code",
      "metadata": {
        "id": "Dl5PUik5FOEO",
        "colab": {
          "base_uri": "https://localhost:8080/",
          "height": 319
        },
        "outputId": "fd7d4c68-08c1-4c05-cfbf-f7cd892f8120"
      },
      "source": [
        "# ROC curve\n",
        "\n",
        "# \"y_test\" should be the y(label) values in the testing sets, \n",
        "# a vector of 0s and 1s\n",
        "\n",
        "# \"y_pred_prob\" is the stored predicted probabilities for class 1 \n",
        "# Class 1 means true\n",
        "\n",
        "fpr, tpr, thresholds = metrics.roc_curve(testy[:ntest], predIdxs[:,1])\n",
        "\n",
        "plt.plot(fpr, tpr)\n",
        "plt.xlim([0.0, 1.0])\n",
        "plt.ylim([0.0, 1.0])\n",
        "plt.rcParams['font.size'] = 12\n",
        "plt.title('ROC Curve')\n",
        "plt.xlabel('False Positive Rate (1 - Specificity)')\n",
        "plt.ylabel('True Positive Rate (Sensitivity)')\n",
        "plt.grid(True)\n",
        "\n",
        "print(metrics.roc_auc_score(testy[:ntest], predIdxs[:,1])) # AUC score"
      ],
      "execution_count": null,
      "outputs": [
        {
          "output_type": "stream",
          "text": [
            "0.6844651957973922\n"
          ],
          "name": "stdout"
        },
        {
          "output_type": "display_data",
          "data": {
            "image/png": "[encoded data removed]",
            "text/plain": [
              "<Figure size 432x288 with 1 Axes>"
            ]
          },
          "metadata": {
            "tags": [],
            "needs_background": "light"
          }
        }
      ]
    },
    {
      "cell_type": "code",
      "metadata": {
        "id": "SPOsCw2r_RRX"
      },
      "source": [
        "accuracy = accuracy_score(#test_generator.classes, #y_pred)\n",
        "print(\"Accuracy in test set: %0.1f%% \" % (accuracy * 100))"
      ],
      "execution_count": null,
      "outputs": []
    },
    {
      "cell_type": "markdown",
      "metadata": {
        "id": "vt5u4AbLJecS"
      },
      "source": [
        "## Learn Rate"
      ]
    },
    {
      "cell_type": "code",
      "metadata": {
        "id": "bgxsbmHzJg_T"
      },
      "source": [
        "# from sklearn.metrics import classification_report, confusion_matrix, accuracy_score\n",
        "# from plot_conf_matr import plot_confusion_matrix"
      ],
      "execution_count": null,
      "outputs": []
    },
    {
      "cell_type": "code",
      "metadata": {
        "id": "Dsir_w7TJmAs",
        "colab": {
          "base_uri": "https://localhost:8080/",
          "height": 553
        },
        "outputId": "a54c2e90-530e-46b0-d1f6-d68df7335a88"
      },
      "source": [
        "# learning curves\n",
        "\n",
        "acc = H.history['accuracy']\n",
        "val_acc = H.history['val_accuracy']\n",
        "loss = H.history['loss']\n",
        "val_loss = H.history['val_loss']\n",
        "epochs = range(1,len(acc)+1)\n",
        "plt.figure()\n",
        "plt.plot(epochs, acc, 'b', label = 'Training accuracy')\n",
        "plt.plot(epochs, val_acc, 'r', label='Validation accuracy')\n",
        "plt.title('Training and validation accuracy')\n",
        "plt.legend()\n",
        "plt.savefig('Accuracy.jpg')\n",
        "plt.figure()\n",
        "plt.plot(epochs, loss, 'b', label = 'Training loss')\n",
        "plt.plot(epochs, val_loss, 'r', label='Validation loss')\n",
        "plt.title('Training and validation loss')\n",
        "plt.legend()\n",
        "plt.savefig('Loss.jpg')"
      ],
      "execution_count": null,
      "outputs": [
        {
          "output_type": "display_data",
          "data": {
            "image/png": "[encoded data removed]",
            "text/plain": [
              "<Figure size 432x288 with 1 Axes>"
            ]
          },
          "metadata": {
            "tags": [],
            "needs_background": "light"
          }
        },
        {
          "output_type": "display_data",
          "data": {
            "image/png": "[encoded data removed]",
            "text/plain": [
              "<Figure size 432x288 with 1 Axes>"
            ]
          },
          "metadata": {
            "tags": [],
            "needs_background": "light"
          }
        }
      ]
    },
    {
      "cell_type": "markdown",
      "metadata": {
        "id": "b9zdKBB-LEk9"
      },
      "source": [
        "## Precision and Recall"
      ]
    },
    {
      "cell_type": "code",
      "metadata": {
        "id": "qKj2sKp5LHUR",
        "colab": {
          "base_uri": "https://localhost:8080/",
          "height": 336
        },
        "outputId": "370907eb-07bd-400a-dbb8-4595285e3f5a"
      },
      "source": [
        "# from sklearn.metrics import recall_score\n",
        "# from sklearn.metrics import precision_recall_curve\n",
        "# from sklearn.metrics import f1_score\n",
        "# from sklearn.metrics import auc\n",
        "# from matplotlib import pyplot\n",
        "\n",
        "lr_precision, lr_recall, _ = precision_recall_curve(testy[:ntest], predIdxs[:,1])\n",
        "lr_f1, lr_auc = f1_score(testy[:ntest], predIdxs2), auc(lr_recall, lr_precision)\n",
        "# summarize scores\n",
        "print('Logistic: f1=%.3f auc=%.3f' % (lr_f1, lr_auc))\n",
        "# plot the precision-recall curves\n",
        "pyplot.plot(lr_recall, lr_precision, marker='.', label='Logistic')\n",
        "\n",
        "pyplot.ylim([0.0, 1.0])\n",
        "pyplot.title('Precision and Recall Curve')\n",
        "# axis labels\n",
        "pyplot.xlabel('Recall')\n",
        "pyplot.ylabel('Precision')\n",
        "# show the legend\n",
        "pyplot.legend()\n",
        "# show the plot\n",
        "pyplot.show()\n",
        "\n",
        "print(metrics.recall_score(testy[:ntest], predIdxs2)) # Recall score"
      ],
      "execution_count": null,
      "outputs": [
        {
          "output_type": "stream",
          "text": [
            "Logistic: f1=0.252 auc=0.220\n"
          ],
          "name": "stdout"
        },
        {
          "output_type": "display_data",
          "data": {
            "image/png": "[encoded data removed]",
            "text/plain": [
              "<Figure size 432x288 with 1 Axes>"
            ]
          },
          "metadata": {
            "tags": [],
            "needs_background": "light"
          }
        },
        {
          "output_type": "stream",
          "text": [
            "0.2644544844007571\n"
          ],
          "name": "stdout"
        }
      ]
    },
    {
      "cell_type": "markdown",
      "metadata": {
        "id": "nJBIR1dE3RpU"
      },
      "source": [
        "## Comparison for FP and FN"
      ]
    },
    {
      "cell_type": "code",
      "metadata": {
        "id": "r3ksA7hnGt5O"
      },
      "source": [
        "typey0 = pd.read_csv('/content/drive/MyDrive/CHL7001/GroupProject/Data/train/stage_2_train.csv')\n"
      ],
      "execution_count": null,
      "outputs": []
    },
    {
      "cell_type": "code",
      "metadata": {
        "id": "6apVN_tJ7NiE"
      },
      "source": [
        "img_FP_lst = testy_name[predIdxs2>testy]"
      ],
      "execution_count": null,
      "outputs": []
    },
    {
      "cell_type": "code",
      "metadata": {
        "id": "-PjqgIyk7dkd"
      },
      "source": [
        "img_FN_lst = testy_name[predIdxs2<testy]"
      ],
      "execution_count": null,
      "outputs": []
    },
    {
      "cell_type": "code",
      "metadata": {
        "id": "duK2FRe4E_AA"
      },
      "source": [
        "# img_FN_lst.values[49]"
      ],
      "execution_count": null,
      "outputs": []
    },
    {
      "cell_type": "code",
      "metadata": {
        "colab": {
          "base_uri": "https://localhost:8080/",
          "height": 239
        },
        "id": "CI9r6cd46YUF",
        "outputId": "64986bbe-e7ec-45ff-a52e-3e7ab4668582"
      },
      "source": [
        "import matplotlib.pyplot as plt\n",
        "\n",
        "rows, cols = 5, 10\n",
        "i = 1\n",
        "\n",
        "for img_FP in img_FP_lst[:50]:\n",
        "  img = tf.keras.preprocessing.image.load_img(os.path.join(datapath,str(img_FP) + '.png'))\n",
        "  ax = plt.subplot(rows, cols, i)\n",
        "  plt.imshow(img)\n",
        "  plt.axis('off')\n",
        "  i+=1"
      ],
      "execution_count": null,
      "outputs": [
        {
          "output_type": "display_data",
          "data": {
            "image/png": "[encoded data removed]",
            "text/plain": [
              "<Figure size 432x288 with 50 Axes>"
            ]
          },
          "metadata": {
            "tags": [],
            "needs_background": "light"
          }
        }
      ]
    },
    {
      "cell_type": "code",
      "metadata": {
        "colab": {
          "base_uri": "https://localhost:8080/",
          "height": 145
        },
        "id": "NnBy2XtjC0m3",
        "outputId": "a09a1d5f-d107-45d9-ae54-eaa0c00a3bac"
      },
      "source": [
        "tf.keras.preprocessing.image.load_img(os.path.join(datapath,str(img_FP_lst.values[20]) + '.png'))"
      ],
      "execution_count": null,
      "outputs": [
        {
          "output_type": "execute_result",
          "data": {
            "image/png": "[encoded data removed]",
            "text/plain": [
              "<PIL.Image.Image image mode=RGB size=128x128 at 0x7F349578E910>"
            ]
          },
          "metadata": {
            "tags": []
          },
          "execution_count": 139
        }
      ]
    },
    {
      "cell_type": "code",
      "metadata": {
        "id": "Lw0LAEbCfbCK"
      },
      "source": [
        "typey0[typey0['ID'].str.contains(img_FP_lst.values[20])]"
      ],
      "execution_count": null,
      "outputs": []
    },
    {
      "cell_type": "code",
      "metadata": {
        "colab": {
          "base_uri": "https://localhost:8080/",
          "height": 239
        },
        "id": "Gn7xZR6JD7kK",
        "outputId": "0edb12dd-5afa-40b5-94c3-2d48b12a5122"
      },
      "source": [
        "rows, cols = 5, 10\n",
        "i = 1\n",
        "\n",
        "for img_FN in img_FN_lst[:50]:\n",
        "  img = tf.keras.preprocessing.image.load_img(os.path.join(datapath,str(img_FN) + '.png'))\n",
        "  ax = plt.subplot(rows, cols, i)\n",
        "  plt.imshow(img)\n",
        "  plt.axis('off')\n",
        "  i+=1\n"
      ],
      "execution_count": null,
      "outputs": [
        {
          "output_type": "display_data",
          "data": {
            "image/png": "[encoded data removed]",
            "text/plain": [
              "<Figure size 432x288 with 50 Axes>"
            ]
          },
          "metadata": {
            "tags": [],
            "needs_background": "light"
          }
        }
      ]
    },
    {
      "cell_type": "code",
      "metadata": {
        "colab": {
          "base_uri": "https://localhost:8080/",
          "height": 145
        },
        "id": "bAgN4Rm6EK9c",
        "outputId": "454bbc0b-b711-460d-ac1c-3e304b8c51c2"
      },
      "source": [
        "tf.keras.preprocessing.image.load_img(os.path.join(datapath,str(img_FN_lst.values[1]) + '.png'))"
      ],
      "execution_count": null,
      "outputs": [
        {
          "output_type": "execute_result",
          "data": {
            "image/png": "[encoded data removed]",
            "text/plain": [
              "<PIL.Image.Image image mode=RGB size=128x128 at 0x7F3442AC3150>"
            ]
          },
          "metadata": {
            "tags": []
          },
          "execution_count": 135
        }
      ]
    },
    {
      "cell_type": "code",
      "metadata": {
        "colab": {
          "base_uri": "https://localhost:8080/",
          "height": 234
        },
        "id": "Xd_pKMO9FKC1",
        "outputId": "1842d65a-ff1c-4f76-8ba1-f485923dfbd3"
      },
      "source": [
        "typey0[typey0['ID'].str.contains(img_FN_lst.values[1])]"
      ],
      "execution_count": null,
      "outputs": [
        {
          "output_type": "execute_result",
          "data": {
            "text/html": [
              "<div>\n",
              "<style scoped>\n",
              "    .dataframe tbody tr th:only-of-type {\n",
              "        vertical-align: middle;\n",
              "    }\n",
              "\n",
              "    .dataframe tbody tr th {\n",
              "        vertical-align: top;\n",
              "    }\n",
              "\n",
              "    .dataframe thead th {\n",
              "        text-align: right;\n",
              "    }\n",
              "</style>\n",
              "<table border=\"1\" class=\"dataframe\">\n",
              "  <thead>\n",
              "    <tr style=\"text-align: right;\">\n",
              "      <th></th>\n",
              "      <th>ID</th>\n",
              "      <th>Label</th>\n",
              "    </tr>\n",
              "  </thead>\n",
              "  <tbody>\n",
              "    <tr>\n",
              "      <th>4380714</th>\n",
              "      <td>ID_670751ba1_epidural</td>\n",
              "      <td>0</td>\n",
              "    </tr>\n",
              "    <tr>\n",
              "      <th>4380715</th>\n",
              "      <td>ID_670751ba1_intraparenchymal</td>\n",
              "      <td>0</td>\n",
              "    </tr>\n",
              "    <tr>\n",
              "      <th>4380716</th>\n",
              "      <td>ID_670751ba1_intraventricular</td>\n",
              "      <td>0</td>\n",
              "    </tr>\n",
              "    <tr>\n",
              "      <th>4380717</th>\n",
              "      <td>ID_670751ba1_subarachnoid</td>\n",
              "      <td>0</td>\n",
              "    </tr>\n",
              "    <tr>\n",
              "      <th>4380718</th>\n",
              "      <td>ID_670751ba1_subdural</td>\n",
              "      <td>1</td>\n",
              "    </tr>\n",
              "    <tr>\n",
              "      <th>4380719</th>\n",
              "      <td>ID_670751ba1_any</td>\n",
              "      <td>1</td>\n",
              "    </tr>\n",
              "  </tbody>\n",
              "</table>\n",
              "</div>"
            ],
            "text/plain": [
              "                                    ID  Label\n",
              "4380714          ID_670751ba1_epidural      0\n",
              "4380715  ID_670751ba1_intraparenchymal      0\n",
              "4380716  ID_670751ba1_intraventricular      0\n",
              "4380717      ID_670751ba1_subarachnoid      0\n",
              "4380718          ID_670751ba1_subdural      1\n",
              "4380719               ID_670751ba1_any      1"
            ]
          },
          "metadata": {
            "tags": []
          },
          "execution_count": 136
        }
      ]
    }
  ]
}